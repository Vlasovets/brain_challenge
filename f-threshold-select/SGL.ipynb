{
 "cells": [
  {
   "cell_type": "code",
   "execution_count": null,
   "id": "36a733a0-9bf7-4a72-86f8-ccd47908694f",
   "metadata": {},
   "outputs": [],
   "source": [
    "# %cd f-threshold-select"
   ]
  },
  {
   "cell_type": "code",
   "execution_count": null,
   "id": "f7b25a0a-34e5-45c1-81e5-8f6c8a0da361",
   "metadata": {
    "tags": []
   },
   "outputs": [],
   "source": [
    "# !git clone https://github.com/fabian-sp/GGLasso.git"
   ]
  },
  {
   "cell_type": "code",
   "execution_count": null,
   "id": "4107de80-001c-488d-9115-5951f771986d",
   "metadata": {},
   "outputs": [],
   "source": [
    "import gglasso\n",
    "import pickle\n",
    "import numpy as np\n",
    "import pandas as pd\n",
    "import seaborn as sns\n",
    "import scipy as sp\n",
    "import os\n",
    "import matplotlib.pyplot as plt\n",
    "\n",
    "from numpy.linalg import matrix_rank\n",
    "from matplotlib.pyplot import figure\n",
    "from scipy import stats\n",
    "from scipy.linalg import eigh\n",
    "from numpy import genfromtxt\n",
    "from datetime import datetime\n",
    "\n",
    "from gglasso.solver.admm_solver import ADMM_MGL\n",
    "from gglasso.problem import glasso_problem\n",
    "\n",
    "from gglasso.helper.data_generation import generate_precision_matrix, group_power_network, sample_covariance_matrix\n",
    "from gglasso.helper.basic_linalg import adjacency_matrix\n",
    "from gglasso.helper.data_generation import time_varying_power_network, sample_covariance_matrix\n",
    "from gglasso.helper.experiment_helper import lambda_grid, discovery_rate, error\n",
    "from gglasso.helper.utils import get_K_identity\n",
    "from gglasso.helper.experiment_helper import plot_evolution, plot_deviation, surface_plot, single_heatmap_animation\n",
    "from gglasso.helper.model_selection import aic, ebic, K_single_grid"
   ]
  },
  {
   "cell_type": "markdown",
   "id": "e7cc3982-33cf-4e9b-b5ad-f25a6951522c",
   "metadata": {},
   "source": [
    "### Read data"
   ]
  },
  {
   "cell_type": "code",
   "execution_count": null,
   "id": "cf0182eb-f63f-4fe3-8e0c-4382b145d962",
   "metadata": {},
   "outputs": [],
   "source": [
    "corr = []\n",
    "\n",
    "for i in range(0, 950):\n",
    "    corr.append(genfromtxt(\"/storage/groups/bds01/datasets/brains/corr_matrices/corr{0}.csv\".format(i), delimiter=','))\n",
    "\n",
    "corr = np.array(corr)\n",
    "corr.shape"
   ]
  },
  {
   "cell_type": "markdown",
   "id": "a2f452b3-2ce4-43ec-9391-ca5ed4984216",
   "metadata": {},
   "source": [
    "### Single GL"
   ]
  },
  {
   "cell_type": "code",
   "execution_count": null,
   "id": "e33da049-2251-4c1f-a5f1-9ebe5f206ede",
   "metadata": {},
   "outputs": [],
   "source": [
    "lambda1_range = np.logspace(0, -3, 2)"
   ]
  },
  {
   "cell_type": "code",
   "execution_count": null,
   "id": "95d51918-0824-4b94-9db1-77ca17429752",
   "metadata": {},
   "outputs": [],
   "source": [
    "N = corr.shape[1]"
   ]
  },
  {
   "cell_type": "code",
   "execution_count": null,
   "id": "a7dd5be2-3006-4ea3-b26c-970ea9496ad0",
   "metadata": {},
   "outputs": [],
   "source": [
    "est_uniform, est_indv, statistics = K_single_grid(corr[:1, :], lambda1_range, N, \n",
    "                                                  method = 'eBIC', gamma = 0.3, \n",
    "                                                  latent = False, use_block = True)"
   ]
  },
  {
   "cell_type": "code",
   "execution_count": null,
   "id": "ba2fe81e-0f2e-42ba-8b3d-a478d9d30ad9",
   "metadata": {},
   "outputs": [],
   "source": [
    "K = est_uniform[\"Theta\"].shape[0]"
   ]
  },
  {
   "cell_type": "code",
   "execution_count": null,
   "id": "b38fe120-4801-4db9-ac9a-282ff436f163",
   "metadata": {},
   "outputs": [],
   "source": [
    "os.mkdir(\"/storage/groups/bds01/datasets/brains/est_uniform{0}/\".format(K))\n",
    "os.mkdir(\"/storage/groups/bds01/datasets/brains/est_individ{0}/\".format(K))"
   ]
  },
  {
   "cell_type": "code",
   "execution_count": null,
   "id": "381ab764-afbf-4ce0-99c7-142d58794f37",
   "metadata": {},
   "outputs": [],
   "source": [
    "# dump matrices into csv\n",
    "for i in range(0, K):\n",
    "    np.savetxt(\"/storage/groups/bds01/datasets/brains/est_uniform{0}/est_uniform{1}.csv\".format(K, i), est_uniform[\"Theta\"][i], \n",
    "               delimiter=\",\", header='')\n",
    "    np.savetxt(\"/storage/groups/bds01/datasets/brains/est_uniform{0}/est_individ{1}.csv\".format(K, i), est_indv[\"Theta\"][i], \n",
    "               delimiter=\",\", header='')"
   ]
  },
  {
   "cell_type": "code",
   "execution_count": null,
   "id": "34d48550-b266-4365-8927-7071a58900ee",
   "metadata": {},
   "outputs": [],
   "source": [
    "# !jupyter nbconvert --to script --no-prompt SGL.ipynb"
   ]
  },
  {
   "cell_type": "code",
   "execution_count": null,
   "id": "a25ae86f-9770-4e9c-8592-09dc1ac6c18a",
   "metadata": {},
   "outputs": [],
   "source": [
    "with open(\"/storage/groups/bds01/datasets/brains/est_uniform50/statistics{0}.txt\".format(K), 'w') as f:\n",
    "    print(statistics, file=f)"
   ]
  },
  {
   "cell_type": "code",
   "execution_count": null,
   "id": "0bc775b6-ee2d-4302-af5b-0d2a25f6de8a",
   "metadata": {},
   "outputs": [],
   "source": [
    "os.mkdir(\"/storage/groups/bds01/datasets/brains/est_uniform{0}/\".format(K))"
   ]
  },
  {
   "cell_type": "markdown",
   "id": "411d8069-b901-4d1d-aa39-81a5c5292be6",
   "metadata": {},
   "source": [
    "### Read solution"
   ]
  },
  {
   "cell_type": "code",
   "execution_count": null,
   "id": "baddfa35-230f-418d-8ea6-521b13d148dd",
   "metadata": {},
   "outputs": [],
   "source": [
    "Theta = []\n",
    "\n",
    "for i in range(0, 50):\n",
    "    Theta.append(genfromtxt(\"/storage/groups/bds01/datasets/brains/est_uniform50/est_uniform{0}.csv\".format(i), delimiter=','))\n",
    "\n",
    "Theta = np.array(Theta)\n",
    "Theta.shape"
   ]
  },
  {
   "cell_type": "code",
   "execution_count": null,
   "id": "310c9f4d-d91c-4194-8109-a2f81229ad57",
   "metadata": {},
   "outputs": [],
   "source": [
    "K = Theta.shape[0]"
   ]
  },
  {
   "cell_type": "markdown",
   "id": "5694d6f0-313b-4789-a522-9be7fd5b5736",
   "metadata": {},
   "source": [
    "### Plot the solution"
   ]
  },
  {
   "cell_type": "code",
   "execution_count": null,
   "id": "8ed09607-7a7f-4462-aef1-abf36b34e407",
   "metadata": {
    "tags": []
   },
   "outputs": [],
   "source": [
    "# for i in range(0, K):\n",
    "#     fig, axes = plt.subplots(1, 2, sharex=True, figsize=(30,30))\n",
    "\n",
    "#     ax = sns.heatmap(sub_corr[i, :], ax=axes[0], center=0, vmin = -0.5, vmax = 0.5, \n",
    "#                      square = True, cbar = False, cmap = \"coolwarm\", xticklabels=False, yticklabels=False)\n",
    "#     ax = sns.heatmap(Theta[i, :], ax=axes[1], center=0, vmin = -0.5, vmax = 0.5,\n",
    "#                      square = True, cbar = False, cmap = \"coolwarm\", xticklabels=False, yticklabels=False)\n",
    "#     fig.savefig(\"plots/SGL_plots/SGL_heatmap{0}.png\".format(i))"
   ]
  },
  {
   "cell_type": "markdown",
   "id": "b3a64c79-8f2a-40ec-96de-269772a55c81",
   "metadata": {},
   "source": [
    "## Logistic regression"
   ]
  },
  {
   "cell_type": "code",
   "execution_count": null,
   "id": "f18e5a0a-3af9-45d0-9ef6-2eba89cebe01",
   "metadata": {},
   "outputs": [],
   "source": [
    "from sklearn.linear_model import LogisticRegression\n",
    "from sklearn.model_selection import train_test_split"
   ]
  },
  {
   "cell_type": "code",
   "execution_count": null,
   "id": "a59d85d8-010c-4803-b314-42368ab2d527",
   "metadata": {},
   "outputs": [],
   "source": [
    "sex = pd.read_csv(\"/storage/groups/bds01/datasets/brains/sex.csv\")\n",
    "age = pd.read_csv(\"/storage/groups/bds01/datasets/brains/age.csv\")"
   ]
  },
  {
   "cell_type": "code",
   "execution_count": null,
   "id": "5730fdaf-5801-4729-b194-c0b93aac453e",
   "metadata": {},
   "outputs": [],
   "source": [
    "sex_50 = np.array(sex.iloc[:50,])\n",
    "age_50 = np.array(age.iloc[:50,])"
   ]
  },
  {
   "cell_type": "markdown",
   "id": "f7a9db4f-1828-469a-bd5d-084ad43136da",
   "metadata": {},
   "source": [
    "### Predict sex"
   ]
  },
  {
   "cell_type": "code",
   "execution_count": null,
   "id": "ab037f40-641a-45ab-840b-6f1247a0bc7c",
   "metadata": {},
   "outputs": [],
   "source": [
    "X, y = Theta, sex_50"
   ]
  },
  {
   "cell_type": "code",
   "execution_count": null,
   "id": "c7aa6c9b-0d4e-4386-8443-c7fc31f936b6",
   "metadata": {},
   "outputs": [],
   "source": [
    "X.shape, y.shape"
   ]
  },
  {
   "cell_type": "code",
   "execution_count": null,
   "id": "70ec2231-beb0-4923-8900-b7a56ea0b128",
   "metadata": {},
   "outputs": [],
   "source": [
    "X_train, X_test, Y_train, Y_test = train_test_split(X, y, test_size=0.20, random_state=42)\n",
    "print('X_train: ',X_train.shape)\n",
    "print('X_test: ',X_test.shape)\n",
    "print('Y_train: ',Y_train.shape)\n",
    "print('Y_test: ',Y_test.shape)"
   ]
  },
  {
   "cell_type": "code",
   "execution_count": null,
   "id": "ab2ec6f8-7e94-4d10-95eb-9c273364843e",
   "metadata": {},
   "outputs": [],
   "source": [
    "# Converting the 3D matrix to 2D matrix\n",
    "print('X_train: ',X_train.shape)\n",
    "print('X_test: ',X_test.shape)\n",
    "\n",
    "number_of_train = X_train.shape[0]\n",
    "number_of_test = X_test.shape[0]\n",
    "\n",
    "X_train_flatten = X_train.reshape(number_of_train, X_train.shape[1]*X_train.shape[2])\n",
    "X_test_flatten = X_test .reshape(number_of_test, X_test.shape[1]*X_test.shape[2])\n",
    "\n",
    "print(\"X train flatten\", X_train_flatten.shape)\n",
    "print(\"X test flatten\", X_test_flatten.shape)\n",
    "\n",
    "x_train = X_train_flatten\n",
    "x_test = X_test_flatten\n",
    "y_train = Y_train\n",
    "y_test = Y_test\n",
    "\n",
    "print(\"x train: \", x_train.shape)\n",
    "print(\"x test: \", x_test.shape)\n",
    "print(\"y train: \", y_train.shape)\n",
    "print(\"y test: \", y_test.shape)"
   ]
  },
  {
   "cell_type": "code",
   "execution_count": null,
   "id": "f22b1554-f7ab-4e74-95b5-694ac3ec1239",
   "metadata": {},
   "outputs": [],
   "source": [
    "# create model and train test accuracy print\n",
    "logreg = LogisticRegression(random_state = 42, max_iter= 150, penalty='l2')\n",
    "logreg.fit(x_train, y_train.ravel())\n",
    "print(\"Test accuracy: {} \".format(logreg.score(x_test, y_test)))"
   ]
  }
 ],
 "metadata": {
  "kernelspec": {
   "display_name": "Python 3 (ipykernel)",
   "language": "python",
   "name": "python3"
  },
  "language_info": {
   "codemirror_mode": {
    "name": "ipython",
    "version": 3
   },
   "file_extension": ".py",
   "mimetype": "text/x-python",
   "name": "python",
   "nbconvert_exporter": "python",
   "pygments_lexer": "ipython3",
   "version": "3.9.7"
  }
 },
 "nbformat": 4,
 "nbformat_minor": 5
}
