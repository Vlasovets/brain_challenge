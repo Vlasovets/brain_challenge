{
 "cells": [
  {
   "cell_type": "code",
   "execution_count": 13,
   "id": "36a733a0-9bf7-4a72-86f8-ccd47908694f",
   "metadata": {},
   "outputs": [],
   "source": [
    "# %cd f-threshold-select"
   ]
  },
  {
   "cell_type": "code",
   "execution_count": 14,
   "id": "f7b25a0a-34e5-45c1-81e5-8f6c8a0da361",
   "metadata": {
    "tags": []
   },
   "outputs": [],
   "source": [
    "# !git clone https://github.com/fabian-sp/GGLasso.git"
   ]
  },
  {
   "cell_type": "code",
   "execution_count": 1,
   "id": "4107de80-001c-488d-9115-5951f771986d",
   "metadata": {},
   "outputs": [],
   "source": [
    "import gglasso\n",
    "import pickle\n",
    "import numpy as np\n",
    "import pandas as pd\n",
    "import seaborn as sns\n",
    "import scipy as sp\n",
    "import matplotlib.pyplot as plt\n",
    "\n",
    "from numpy.linalg import matrix_rank\n",
    "from matplotlib.pyplot import figure\n",
    "from scipy import stats\n",
    "from scipy.linalg import eigh\n",
    "from numpy import genfromtxt\n",
    "\n",
    "from gglasso.solver.admm_solver import ADMM_MGL\n",
    "from gglasso.problem import glasso_problem\n",
    "\n",
    "from gglasso.helper.data_generation import generate_precision_matrix, group_power_network, sample_covariance_matrix\n",
    "from gglasso.helper.basic_linalg import adjacency_matrix\n",
    "from gglasso.helper.data_generation import time_varying_power_network, sample_covariance_matrix\n",
    "from gglasso.helper.experiment_helper import lambda_grid, discovery_rate, error\n",
    "from gglasso.helper.utils import get_K_identity\n",
    "from gglasso.helper.experiment_helper import plot_evolution, plot_deviation, surface_plot, single_heatmap_animation\n",
    "from gglasso.helper.model_selection import aic, ebic, K_single_grid"
   ]
  },
  {
   "cell_type": "markdown",
   "id": "e7cc3982-33cf-4e9b-b5ad-f25a6951522c",
   "metadata": {},
   "source": [
    "### Read data"
   ]
  },
  {
   "cell_type": "code",
   "execution_count": 2,
   "id": "cf0182eb-f63f-4fe3-8e0c-4382b145d962",
   "metadata": {},
   "outputs": [
    {
     "data": {
      "text/plain": [
       "(50, 436, 436)"
      ]
     },
     "execution_count": 2,
     "metadata": {},
     "output_type": "execute_result"
    }
   ],
   "source": [
    "sub_corr = []\n",
    "\n",
    "for i in range(0, 50):\n",
    "    sub_corr.append(genfromtxt(\"/storage/groups/bds01/datasets/brains/sub_corr50/sub_corr{0}.csv\".format(i), delimiter=','))\n",
    "\n",
    "sub_corr = np.array(sub_corr)\n",
    "sub_corr.shape"
   ]
  },
  {
   "cell_type": "markdown",
   "id": "a2f452b3-2ce4-43ec-9391-ca5ed4984216",
   "metadata": {},
   "source": [
    "### Single GL"
   ]
  },
  {
   "cell_type": "code",
   "execution_count": 7,
   "id": "e33da049-2251-4c1f-a5f1-9ebe5f206ede",
   "metadata": {},
   "outputs": [],
   "source": [
    "lambda1_range = np.logspace(0, -1, 5)\n",
    "mu1_range = np.logspace(0, -1, 5)"
   ]
  },
  {
   "cell_type": "code",
   "execution_count": 5,
   "id": "95d51918-0824-4b94-9db1-77ca17429752",
   "metadata": {},
   "outputs": [],
   "source": [
    "N = sub_corr.shape[1]"
   ]
  },
  {
   "cell_type": "code",
   "execution_count": 11,
   "id": "a7dd5be2-3006-4ea3-b26c-970ea9496ad0",
   "metadata": {},
   "outputs": [
    {
     "name": "stdout",
     "output_type": "stream",
     "text": [
      "------------Range search for instance 0------------\n",
      "ADMM terminated after 52 iterations with status: optimal.\n",
      "ADMM terminated after 89 iterations with status: optimal.\n",
      "ADMM terminated after 102 iterations with status: optimal.\n",
      "ADMM terminated after 123 iterations with status: optimal.\n",
      "ADMM terminated after 258 iterations with status: optimal.\n",
      "ADMM terminated after 132 iterations with status: optimal.\n",
      "ADMM terminated after 88 iterations with status: optimal.\n",
      "ADMM terminated after 103 iterations with status: optimal.\n",
      "ADMM terminated after 124 iterations with status: optimal.\n",
      "ADMM terminated after 267 iterations with status: optimal.\n",
      "ADMM terminated after 135 iterations with status: optimal.\n",
      "ADMM terminated after 88 iterations with status: optimal.\n",
      "ADMM terminated after 102 iterations with status: optimal.\n",
      "ADMM terminated after 125 iterations with status: optimal.\n",
      "ADMM terminated after 270 iterations with status: optimal.\n",
      "ADMM terminated after 144 iterations with status: optimal.\n",
      "ADMM terminated after 88 iterations with status: optimal.\n",
      "ADMM terminated after 103 iterations with status: optimal.\n",
      "ADMM terminated after 127 iterations with status: optimal.\n",
      "ADMM terminated after 273 iterations with status: optimal.\n",
      "ADMM terminated after 149 iterations with status: optimal.\n",
      "ADMM terminated after 91 iterations with status: optimal.\n",
      "ADMM terminated after 106 iterations with status: optimal.\n",
      "ADMM terminated after 132 iterations with status: optimal.\n",
      "ADMM terminated after 278 iterations with status: optimal.\n"
     ]
    }
   ],
   "source": [
    "est_uniform, est_indv, statistics = K_single_grid(sub_corr[:1, :], lambda1_range, N,\n",
    "                                                  mu_range = mu1_range,\n",
    "                                                  method = 'eBIC', gamma = 0.3, \n",
    "                                                  latent = True, use_block = True)"
   ]
  },
  {
   "cell_type": "code",
   "execution_count": 16,
   "id": "ba2fe81e-0f2e-42ba-8b3d-a478d9d30ad9",
   "metadata": {},
   "outputs": [],
   "source": [
    "K = est_uniform[\"Theta\"].shape[0]"
   ]
  },
  {
   "cell_type": "code",
   "execution_count": 17,
   "id": "381ab764-afbf-4ce0-99c7-142d58794f37",
   "metadata": {},
   "outputs": [],
   "source": [
    "# dump matrices into csv\n",
    "for i in range(0, K):\n",
    "    np.savetxt(\"/storage/groups/bds01/datasets/brains/est_uniform_latent50/Theta{0}.csv\".format(i), est_uniform[\"Theta\"][i], \n",
    "               delimiter=\",\", header='')\n",
    "    np.savetxt(\"/storage/groups/bds01/datasets/brains/est_uniform_latent50/L{0}.csv\".format(i), est_uniform[\"L\"][i], \n",
    "               delimiter=\",\", header='')"
   ]
  },
  {
   "cell_type": "code",
   "execution_count": 18,
   "id": "34d48550-b266-4365-8927-7071a58900ee",
   "metadata": {},
   "outputs": [
    {
     "name": "stdout",
     "output_type": "stream",
     "text": [
      "[NbConvertApp] Converting notebook SGL_latent.ipynb to script\n",
      "[NbConvertApp] Writing 2380 bytes to SGL_latent.py\n"
     ]
    }
   ],
   "source": [
    "!jupyter nbconvert --to script --no-prompt SGL_latent.ipynb"
   ]
  },
  {
   "cell_type": "code",
   "execution_count": 56,
   "id": "a25ae86f-9770-4e9c-8592-09dc1ac6c18a",
   "metadata": {},
   "outputs": [],
   "source": [
    "with open('/storage/groups/bds01/datasets/brains/statistics_SGL_latent50.txt', 'w') as f:\n",
    "    print(statistics, file=f)"
   ]
  },
  {
   "cell_type": "markdown",
   "id": "1a848816-342a-48e1-8ff3-9934e0ef971f",
   "metadata": {},
   "source": [
    "### Read solution"
   ]
  },
  {
   "cell_type": "code",
   "execution_count": 19,
   "id": "0bea85db-00b8-47b6-aa18-339103140c76",
   "metadata": {},
   "outputs": [
    {
     "ename": "OSError",
     "evalue": "/storage/groups/bds01/datasets/brains/est_uniform_latent50/Theta1.csv not found.",
     "output_type": "error",
     "traceback": [
      "\u001b[0;31m---------------------------------------------------------------------------\u001b[0m",
      "\u001b[0;31mOSError\u001b[0m                                   Traceback (most recent call last)",
      "\u001b[0;32m/tmp/ipykernel_16751/231785298.py\u001b[0m in \u001b[0;36m<module>\u001b[0;34m\u001b[0m\n\u001b[1;32m      3\u001b[0m \u001b[0;34m\u001b[0m\u001b[0m\n\u001b[1;32m      4\u001b[0m \u001b[0;32mfor\u001b[0m \u001b[0mi\u001b[0m \u001b[0;32min\u001b[0m \u001b[0mrange\u001b[0m\u001b[0;34m(\u001b[0m\u001b[0;36m0\u001b[0m\u001b[0;34m,\u001b[0m \u001b[0;36m50\u001b[0m\u001b[0;34m)\u001b[0m\u001b[0;34m:\u001b[0m\u001b[0;34m\u001b[0m\u001b[0;34m\u001b[0m\u001b[0m\n\u001b[0;32m----> 5\u001b[0;31m     \u001b[0mTheta\u001b[0m\u001b[0;34m.\u001b[0m\u001b[0mappend\u001b[0m\u001b[0;34m(\u001b[0m\u001b[0mgenfromtxt\u001b[0m\u001b[0;34m(\u001b[0m\u001b[0;34m\"/storage/groups/bds01/datasets/brains/est_uniform_latent50/Theta{0}.csv\"\u001b[0m\u001b[0;34m.\u001b[0m\u001b[0mformat\u001b[0m\u001b[0;34m(\u001b[0m\u001b[0mi\u001b[0m\u001b[0;34m)\u001b[0m\u001b[0;34m,\u001b[0m \u001b[0mdelimiter\u001b[0m\u001b[0;34m=\u001b[0m\u001b[0;34m','\u001b[0m\u001b[0;34m)\u001b[0m\u001b[0;34m)\u001b[0m\u001b[0;34m\u001b[0m\u001b[0;34m\u001b[0m\u001b[0m\n\u001b[0m\u001b[1;32m      6\u001b[0m     \u001b[0mL\u001b[0m\u001b[0;34m.\u001b[0m\u001b[0mappend\u001b[0m\u001b[0;34m(\u001b[0m\u001b[0mgenfromtxt\u001b[0m\u001b[0;34m(\u001b[0m\u001b[0;34m\"/storage/groups/bds01/datasets/brains/est_uniform_latent50/L{0}.csv\"\u001b[0m\u001b[0;34m.\u001b[0m\u001b[0mformat\u001b[0m\u001b[0;34m(\u001b[0m\u001b[0mi\u001b[0m\u001b[0;34m)\u001b[0m\u001b[0;34m,\u001b[0m \u001b[0mdelimiter\u001b[0m\u001b[0;34m=\u001b[0m\u001b[0;34m','\u001b[0m\u001b[0;34m)\u001b[0m\u001b[0;34m)\u001b[0m\u001b[0;34m\u001b[0m\u001b[0;34m\u001b[0m\u001b[0m\n\u001b[1;32m      7\u001b[0m \u001b[0;34m\u001b[0m\u001b[0m\n",
      "\u001b[0;32m~/miniconda3/envs/brains/lib/python3.9/site-packages/numpy/lib/npyio.py\u001b[0m in \u001b[0;36mgenfromtxt\u001b[0;34m(fname, dtype, comments, delimiter, skip_header, skip_footer, converters, missing_values, filling_values, usecols, names, excludelist, deletechars, replace_space, autostrip, case_sensitive, defaultfmt, unpack, usemask, loose, invalid_raise, max_rows, encoding, like)\u001b[0m\n\u001b[1;32m   1789\u001b[0m             \u001b[0mfname\u001b[0m \u001b[0;34m=\u001b[0m \u001b[0mos_fspath\u001b[0m\u001b[0;34m(\u001b[0m\u001b[0mfname\u001b[0m\u001b[0;34m)\u001b[0m\u001b[0;34m\u001b[0m\u001b[0;34m\u001b[0m\u001b[0m\n\u001b[1;32m   1790\u001b[0m         \u001b[0;32mif\u001b[0m \u001b[0misinstance\u001b[0m\u001b[0;34m(\u001b[0m\u001b[0mfname\u001b[0m\u001b[0;34m,\u001b[0m \u001b[0mstr\u001b[0m\u001b[0;34m)\u001b[0m\u001b[0;34m:\u001b[0m\u001b[0;34m\u001b[0m\u001b[0;34m\u001b[0m\u001b[0m\n\u001b[0;32m-> 1791\u001b[0;31m             \u001b[0mfid\u001b[0m \u001b[0;34m=\u001b[0m \u001b[0mnp\u001b[0m\u001b[0;34m.\u001b[0m\u001b[0mlib\u001b[0m\u001b[0;34m.\u001b[0m\u001b[0m_datasource\u001b[0m\u001b[0;34m.\u001b[0m\u001b[0mopen\u001b[0m\u001b[0;34m(\u001b[0m\u001b[0mfname\u001b[0m\u001b[0;34m,\u001b[0m \u001b[0;34m'rt'\u001b[0m\u001b[0;34m,\u001b[0m \u001b[0mencoding\u001b[0m\u001b[0;34m=\u001b[0m\u001b[0mencoding\u001b[0m\u001b[0;34m)\u001b[0m\u001b[0;34m\u001b[0m\u001b[0;34m\u001b[0m\u001b[0m\n\u001b[0m\u001b[1;32m   1792\u001b[0m             \u001b[0mfid_ctx\u001b[0m \u001b[0;34m=\u001b[0m \u001b[0mcontextlib\u001b[0m\u001b[0;34m.\u001b[0m\u001b[0mclosing\u001b[0m\u001b[0;34m(\u001b[0m\u001b[0mfid\u001b[0m\u001b[0;34m)\u001b[0m\u001b[0;34m\u001b[0m\u001b[0;34m\u001b[0m\u001b[0m\n\u001b[1;32m   1793\u001b[0m         \u001b[0;32melse\u001b[0m\u001b[0;34m:\u001b[0m\u001b[0;34m\u001b[0m\u001b[0;34m\u001b[0m\u001b[0m\n",
      "\u001b[0;32m~/miniconda3/envs/brains/lib/python3.9/site-packages/numpy/lib/_datasource.py\u001b[0m in \u001b[0;36mopen\u001b[0;34m(path, mode, destpath, encoding, newline)\u001b[0m\n\u001b[1;32m    192\u001b[0m \u001b[0;34m\u001b[0m\u001b[0m\n\u001b[1;32m    193\u001b[0m     \u001b[0mds\u001b[0m \u001b[0;34m=\u001b[0m \u001b[0mDataSource\u001b[0m\u001b[0;34m(\u001b[0m\u001b[0mdestpath\u001b[0m\u001b[0;34m)\u001b[0m\u001b[0;34m\u001b[0m\u001b[0;34m\u001b[0m\u001b[0m\n\u001b[0;32m--> 194\u001b[0;31m     \u001b[0;32mreturn\u001b[0m \u001b[0mds\u001b[0m\u001b[0;34m.\u001b[0m\u001b[0mopen\u001b[0m\u001b[0;34m(\u001b[0m\u001b[0mpath\u001b[0m\u001b[0;34m,\u001b[0m \u001b[0mmode\u001b[0m\u001b[0;34m,\u001b[0m \u001b[0mencoding\u001b[0m\u001b[0;34m=\u001b[0m\u001b[0mencoding\u001b[0m\u001b[0;34m,\u001b[0m \u001b[0mnewline\u001b[0m\u001b[0;34m=\u001b[0m\u001b[0mnewline\u001b[0m\u001b[0;34m)\u001b[0m\u001b[0;34m\u001b[0m\u001b[0;34m\u001b[0m\u001b[0m\n\u001b[0m\u001b[1;32m    195\u001b[0m \u001b[0;34m\u001b[0m\u001b[0m\n\u001b[1;32m    196\u001b[0m \u001b[0;34m\u001b[0m\u001b[0m\n",
      "\u001b[0;32m~/miniconda3/envs/brains/lib/python3.9/site-packages/numpy/lib/_datasource.py\u001b[0m in \u001b[0;36mopen\u001b[0;34m(self, path, mode, encoding, newline)\u001b[0m\n\u001b[1;32m    529\u001b[0m                                       encoding=encoding, newline=newline)\n\u001b[1;32m    530\u001b[0m         \u001b[0;32melse\u001b[0m\u001b[0;34m:\u001b[0m\u001b[0;34m\u001b[0m\u001b[0;34m\u001b[0m\u001b[0m\n\u001b[0;32m--> 531\u001b[0;31m             \u001b[0;32mraise\u001b[0m \u001b[0mIOError\u001b[0m\u001b[0;34m(\u001b[0m\u001b[0;34m\"%s not found.\"\u001b[0m \u001b[0;34m%\u001b[0m \u001b[0mpath\u001b[0m\u001b[0;34m)\u001b[0m\u001b[0;34m\u001b[0m\u001b[0;34m\u001b[0m\u001b[0m\n\u001b[0m\u001b[1;32m    532\u001b[0m \u001b[0;34m\u001b[0m\u001b[0m\n\u001b[1;32m    533\u001b[0m \u001b[0;34m\u001b[0m\u001b[0m\n",
      "\u001b[0;31mOSError\u001b[0m: /storage/groups/bds01/datasets/brains/est_uniform_latent50/Theta1.csv not found."
     ]
    }
   ],
   "source": [
    "Theta = []\n",
    "L = []\n",
    "\n",
    "for i in range(0, 50):\n",
    "    Theta.append(genfromtxt(\"/storage/groups/bds01/datasets/brains/est_uniform_latent50/Theta{0}.csv\".format(i), delimiter=','))\n",
    "    L.append(genfromtxt(\"/storage/groups/bds01/datasets/brains/est_uniform_latent50/L{0}.csv\".format(i), delimiter=','))\n",
    "\n",
    "Theta, L = np.array(Theta), np.array(L)\n",
    "Theta.shape, L.shape"
   ]
  },
  {
   "cell_type": "code",
   "execution_count": null,
   "id": "32d88f46-a5f9-4653-8937-6ea81e2243ba",
   "metadata": {},
   "outputs": [],
   "source": []
  }
 ],
 "metadata": {
  "kernelspec": {
   "display_name": "Python 3 (ipykernel)",
   "language": "python",
   "name": "python3"
  },
  "language_info": {
   "codemirror_mode": {
    "name": "ipython",
    "version": 3
   },
   "file_extension": ".py",
   "mimetype": "text/x-python",
   "name": "python",
   "nbconvert_exporter": "python",
   "pygments_lexer": "ipython3",
   "version": "3.9.7"
  }
 },
 "nbformat": 4,
 "nbformat_minor": 5
}
