{
 "cells": [
  {
   "cell_type": "code",
   "execution_count": null,
   "id": "d4081374-5989-413b-bbac-5cafc5caa686",
   "metadata": {},
   "outputs": [],
   "source": [
    "# !conda install -c conda-forge nodejs -y\n",
    "# !conda install -c conda-forge/label/gcc7 nodejs -y\n",
    "# !conda install -c conda-forge/label/cf201901 nodejs -y\n",
    "# !conda install -c conda-forge/label/cf202003 nodejs -y\n",
    "\n",
    "\n",
    "# !jupyter labextension install jupyterlab-plotly"
   ]
  },
  {
   "cell_type": "code",
   "execution_count": null,
   "id": "4db4a2f9-89ff-42b7-b8a0-e5269c116e95",
   "metadata": {},
   "outputs": [],
   "source": [
    "import pandas as pd\n",
    "import numpy as np\n",
    "import ast\n",
    "\n",
    "import plotly.express as px"
   ]
  },
  {
   "cell_type": "code",
   "execution_count": null,
   "id": "0c7ea9e5-1fbf-46c2-b386-73a7335b2d26",
   "metadata": {},
   "outputs": [],
   "source": [
    "l1 = np.array([0, 3, 4, 2, 3, 2, 2, 3, 0, 9, 3, 2, 0, 3, 1, 0, 9, 3, 1, 1, 7, 3,\n",
    "       2, 2, 0, 6, 8, 9, 9, 1, 2, 4, 0, 2, 1, 3, 3, 6, 2, 2, 5, 2, 0, 2,\n",
    "       3, 1, 2, 2, 3, 0, 1, 4, 7, 9, 9, 1, 2, 1, 4, 9, 9, 9, 9, 0, 0, 3,\n",
    "       4, 0, 9, 6, 1, 1, 3, 0, 0, 2, 0, 1, 2, 2, 0, 4, 3, 2, 4, 9, 1, 0,\n",
    "       9, 4, 6, 0, 9, 1, 7, 0, 9, 7, 3, 2, 2, 9, 0, 1, 1, 3, 9, 4, 1, 0,\n",
    "       0, 4, 3, 2, 6, 9, 3, 9, 2, 4, 0, 2, 0, 9, 4, 2, 6, 5, 4, 7, 4, 1,\n",
    "       9, 9, 0, 1, 2, 9, 5, 1, 0, 1, 5, 3, 9, 0, 2, 9, 9, 7, 0, 4, 2, 3,\n",
    "       7, 1, 2, 4, 4, 4, 0, 4, 2, 2, 1, 3, 4, 2, 3, 6, 1, 0, 1, 3, 0, 3,\n",
    "       7, 9, 0, 3, 4, 0, 1, 8, 2, 8, 4, 0, 3, 7, 9, 2, 5, 4, 1, 2, 2, 2,\n",
    "       3, 8, 0, 3, 1, 0, 1, 9, 2, 4, 8, 0, 9, 4, 1, 0, 1, 3, 5, 9, 0, 2,\n",
    "       0, 5, 0, 7, 5, 4, 2, 4, 3, 9, 6, 3, 9, 0, 3, 2, 1, 2, 2, 2, 3, 9,\n",
    "       1, 3, 1, 9, 9, 2, 4, 6, 4, 5, 6, 0, 0, 0, 4, 4, 6, 0, 1, 2, 1, 9,\n",
    "       0, 7, 0, 3, 2, 6, 4, 4, 1, 4, 9, 7, 2, 4, 4, 2, 6, 7, 5, 0, 8, 0,\n",
    "       0, 1, 1, 0, 9, 9, 2, 0, 1, 4, 4, 5, 2, 6])\n",
    "\n",
    "l2 = np.array([6, 0, 2, 3, 4, 4, 2, 5, 3, 0, 0, 8, 3, 7, 3, 3, 1, 6, 0, 2, 9, 0,\n",
    "       1, 0, 4, 4, 4, 7, 1, 2, 1, 1, 1, 0, 6, 2, 0, 9, 9, 2, 9, 4, 5, 7,\n",
    "       6, 3, 8, 1, 1, 2, 2, 0, 6, 8, 2, 0, 3, 3, 9, 3, 7, 3, 6, 3, 0, 0,\n",
    "       0, 0, 4, 7, 1, 1, 4, 5, 3, 2, 6, 9, 0, 7, 9, 5, 1, 2, 1, 0, 4, 1,\n",
    "       0, 0, 4, 9, 9, 4, 1, 4, 0, 9, 9, 3, 3, 1, 9, 0, 5, 2, 8, 0, 5, 0,\n",
    "       0, 3, 1, 2, 0, 3, 7, 9, 9, 6, 2, 0, 4, 3, 9, 0, 3, 5, 5, 3, 5, 3,\n",
    "       9, 4, 7, 0, 1, 9, 9, 0, 1, 9, 4, 1, 3, 9, 9, 9, 0, 6, 0, 8, 1, 5,\n",
    "       1, 0, 7, 1, 9, 1, 2, 0, 9, 2, 0, 7, 2, 3, 4, 4, 1, 6, 5, 0, 0, 9,\n",
    "       0, 0, 5, 5, 0, 9, 9, 5, 9, 1, 8, 3, 9, 1, 2, 0, 9, 0, 6, 2, 5, 4,\n",
    "       1, 7, 1, 0, 9, 0, 2, 5, 2, 5, 7, 8, 3, 4, 7, 1, 1, 0, 3, 0, 8, 8,\n",
    "       6, 6, 9, 5, 9, 0, 3, 2, 9, 9, 9, 9, 3, 1, 9, 1, 0, 9, 5, 0, 2, 9,\n",
    "       0, 9, 3, 2, 0, 6, 3, 2, 7, 9, 3, 3, 9, 6, 9, 2, 5, 3, 2, 9, 0, 3,\n",
    "       9, 6, 2, 0, 3, 3, 5, 9, 9, 0, 0, 4, 1, 5, 2, 3, 2, 9, 0, 4, 0, 2,\n",
    "       1, 0, 3, 2, 1, 1, 5, 0, 1, 0, 0, 9, 0, 5])\n",
    "\n",
    "l3 = np.array([7, 7, 4, 4, 0, 5, 6, 8, 4, 2, 0, 5, 0, 1, 6, 2, 0, 0, 2, 8, 3, 9,\n",
    "       6, 4, 9, 0, 2, 3, 4, 0, 4, 4, 5, 9, 8, 4, 0, 6, 3, 4, 2, 1, 0, 1,\n",
    "       3, 3, 7, 9, 9, 0, 0, 4, 2, 2, 5, 2, 0, 3, 5, 7, 0, 9, 1, 0, 0, 5,\n",
    "       0, 9, 0, 9, 6, 4, 0, 0, 4, 0, 4, 4, 7, 2, 7, 0, 2, 3, 9, 4, 9, 1,\n",
    "       4, 0, 4, 2, 0, 4, 0, 0, 0, 2, 9, 0, 3, 9, 0, 0, 0, 3, 0, 2, 5, 9,\n",
    "       0, 2, 5, 1, 6, 9, 7, 0, 5, 1, 1, 0, 1, 5, 2, 0, 2, 6, 0, 9, 0, 2,\n",
    "       0, 3, 2, 5, 6, 2, 1, 0, 4, 0, 1, 3, 0, 1, 6, 5, 2, 1, 5, 1, 0, 4,\n",
    "       3, 1, 9, 2, 6, 5, 3, 0, 1, 1, 3, 7, 2, 5, 0, 1, 2, 9, 3, 9, 2, 4,\n",
    "       3, 1, 1, 0, 5, 2, 1, 9, 5, 1, 7, 2, 5, 1, 9, 3, 2, 4, 8, 1, 9, 9,\n",
    "       3, 0, 0, 3, 3, 6, 1, 2, 6, 6, 6, 4, 4, 2, 9, 5, 3, 8, 6, 4, 0, 5,\n",
    "       4, 0, 4, 0, 6, 4, 3, 0, 7, 6, 2, 6, 2, 6, 2, 5, 4, 0, 9, 9, 4, 2,\n",
    "       4, 2, 0, 2, 3, 2, 0, 0, 4, 0, 1, 0, 8, 5, 0, 0, 5, 1, 0, 1, 3, 1,\n",
    "       4, 7, 0, 3, 0, 7, 4, 9, 9, 3, 9, 2, 0, 2, 3, 4, 2, 2, 1, 0, 9, 4,\n",
    "       0, 2, 7, 1, 0, 1, 5, 9, 2, 6, 3, 2, 7, 2, 9, 0, 9, 3, 6, 2, 0, 9,\n",
    "       9, 6, 2, 6, 0, 0, 0, 9, 3, 9, 5, 0, 9, 9, 8, 8, 2, 7, 2, 3, 1, 6,\n",
    "       1, 2, 0, 0, 3, 8, 9, 2, 0, 5, 4, 3, 3, 0, 4, 6, 3, 2, 3, 0, 9])"
   ]
  },
  {
   "cell_type": "code",
   "execution_count": null,
   "id": "5a30ebb4-e214-43f4-acf7-34a00db11f9e",
   "metadata": {
    "tags": []
   },
   "outputs": [],
   "source": [
    "l1.shape, l2.shape, l3.shape"
   ]
  },
  {
   "cell_type": "code",
   "execution_count": null,
   "id": "6b40bfe5-81b0-4bef-9515-909eaf81f4cf",
   "metadata": {},
   "outputs": [],
   "source": [
    "l_freq = np.concatenate((l1, l2, l3), axis=None)"
   ]
  },
  {
   "cell_type": "code",
   "execution_count": null,
   "id": "63f887ea-3bd4-487d-a297-8e6573a98e31",
   "metadata": {},
   "outputs": [],
   "source": [
    "l_path = np.array([[0.12589254], [0.10797752], [0.09261187], [0.07943282], [0.06812921], [0.05843414],[0.05011872], \n",
    "                   [0.04298662], [0.03686945], [0.03162278]])"
   ]
  },
  {
   "cell_type": "code",
   "execution_count": null,
   "id": "c24fb213-3f1d-4791-8842-748947ca3cbe",
   "metadata": {},
   "outputs": [],
   "source": [
    "l_path = l_path.reshape(10,)\n",
    "l_path.shape"
   ]
  },
  {
   "cell_type": "markdown",
   "id": "8b9a9455-2407-48fe-ad47-ab9919253662",
   "metadata": {},
   "source": [
    "### Create dataframe for plotting"
   ]
  },
  {
   "cell_type": "code",
   "execution_count": null,
   "id": "4af6d3e7-ba6f-4d60-bb60-98b11652949f",
   "metadata": {},
   "outputs": [],
   "source": [
    "df_path = pd.DataFrame(l_path, columns=['l1'])\n",
    "df_path.reset_index(inplace=True)\n",
    "df_path.head()"
   ]
  },
  {
   "cell_type": "code",
   "execution_count": null,
   "id": "b865a0d6-094d-4b69-977d-9ce004d3d21c",
   "metadata": {},
   "outputs": [],
   "source": [
    "df_freq = pd.DataFrame(l_freq, columns=['index'])\n",
    "df_freq.head()"
   ]
  },
  {
   "cell_type": "code",
   "execution_count": null,
   "id": "127f21db-59d7-4cb1-a3bf-ecfd09061cdb",
   "metadata": {},
   "outputs": [],
   "source": [
    "df = pd.merge(df_path, df_freq, on='index')\n",
    "df.shape"
   ]
  },
  {
   "cell_type": "markdown",
   "id": "cc8a91aa-8e71-4eb2-b416-707272892ed7",
   "metadata": {},
   "source": [
    "#### Test if the frequencies are correct"
   ]
  },
  {
   "cell_type": "code",
   "execution_count": null,
   "id": "af56ed3a-0f82-4b39-91f1-bdf947dd1395",
   "metadata": {},
   "outputs": [],
   "source": [
    "for ix in range(0, 10):\n",
    "    \n",
    "    sum1 = df[df['index']== ix].shape[0]\n",
    "    sum2 = (l_freq == ix).sum()\n",
    "\n",
    "    if sum1 == sum1:\n",
    "        print(\"{0}: {1} out of 951 - OK\".format(ix, sum1))"
   ]
  },
  {
   "cell_type": "markdown",
   "id": "63a03fbe-56d0-408e-a7a3-05f179547621",
   "metadata": {},
   "source": [
    "### Plotting"
   ]
  },
  {
   "cell_type": "code",
   "execution_count": null,
   "id": "ca815308-612e-4066-ad68-ea21ead3b23f",
   "metadata": {},
   "outputs": [],
   "source": [
    "fig = px.line(df, x=\"index\", y=\"l1\", title='Frequency of individual optimal lambda in SGL')\n",
    "fig.show()"
   ]
  }
 ],
 "metadata": {
  "kernelspec": {
   "display_name": "Python 3 (ipykernel)",
   "language": "python",
   "name": "python3"
  },
  "language_info": {
   "codemirror_mode": {
    "name": "ipython",
    "version": 3
   },
   "file_extension": ".py",
   "mimetype": "text/x-python",
   "name": "python",
   "nbconvert_exporter": "python",
   "pygments_lexer": "ipython3",
   "version": "3.9.7"
  }
 },
 "nbformat": 4,
 "nbformat_minor": 5
}
