{
 "cells": [
  {
   "cell_type": "code",
   "execution_count": 189,
   "id": "4bb37bcd-69bb-4130-bad3-e14f4751949b",
   "metadata": {},
   "outputs": [],
   "source": [
    "# !pip install gglasso"
   ]
  },
  {
   "cell_type": "code",
   "execution_count": 191,
   "id": "12a609af-d4ee-4289-a59c-08d6a7af364b",
   "metadata": {},
   "outputs": [],
   "source": [
    "import os\n",
    "import gglasso\n",
    "import pickle\n",
    "import numpy as np\n",
    "import pandas as pd\n",
    "import seaborn as sns\n",
    "import scipy as sp\n",
    "import matplotlib.pyplot as plt\n",
    "\n",
    "from xgboost import XGBClassifier\n",
    "\n",
    "\n",
    "from matplotlib.pyplot import figure\n",
    "\n",
    "from numpy.linalg import matrix_rank\n",
    "from numpy import genfromtxt\n",
    "\n",
    "from scipy import stats\n",
    "from scipy.linalg import eigh\n",
    "\n",
    "from sklearn.linear_model import LogisticRegression\n",
    "from sklearn import svm\n",
    "from sklearn.model_selection import train_test_split\n",
    "from sklearn import metrics\n",
    "from sklearn.metrics import accuracy_score\n",
    "\n",
    "from gglasso.solver.admm_solver import ADMM_MGL\n",
    "from gglasso.problem import glasso_problem\n",
    "from gglasso.helper.data_generation import generate_precision_matrix, group_power_network, sample_covariance_matrix\n",
    "from gglasso.helper.basic_linalg import adjacency_matrix\n",
    "from gglasso.helper.data_generation import time_varying_power_network, sample_covariance_matrix\n",
    "from gglasso.helper.experiment_helper import lambda_grid, discovery_rate, error\n",
    "from gglasso.helper.utils import get_K_identity\n",
    "from gglasso.helper.experiment_helper import plot_evolution, plot_deviation, surface_plot, single_heatmap_animation\n",
    "from gglasso.helper.model_selection import aic, ebic, K_single_grid"
   ]
  },
  {
   "cell_type": "code",
   "execution_count": null,
   "id": "467bb5c9-a0f0-46a4-82bc-26bd21c86c87",
   "metadata": {},
   "outputs": [],
   "source": [
    "start = 0\n",
    "stop = 50\n",
    "\n",
    "sub_corr = []\n",
    "\n",
    "### on cloud\n",
    "# for i in range(start, stop):\n",
    "#     sub_corr.append(genfromtxt(\"/storage/groups/bds01/datasets/brains/corr_matrices/corr{0}.csv\".format(i), delimiter=','))\n",
    "\n",
    "### on premisis\n",
    "for i in range(start, stop):\n",
    "    sub_corr.append(genfromtxt(\"../data/sub_corr50/sub_corr{0}.csv\".format(i), delimiter=','))\n",
    "    \n",
    "    \n",
    "\n",
    "    \n",
    "sub_corr = np.array(sub_corr)\n",
    "sub_corr.shape"
   ]
  },
  {
   "cell_type": "code",
   "execution_count": null,
   "id": "3cfd97c8-d331-4a55-958f-5956840dff1d",
   "metadata": {},
   "outputs": [],
   "source": [
    "lambda1_range = np.logspace(-0.9, -1.5, 2)\n",
    "\n",
    "N = [sub_corr.shape[1]]*sub_corr.shape[0]\n",
    "\n",
    "\n",
    "est_uniform, est_indv, statistics = K_single_grid(sub_corr, lambda1_range, N, \n",
    "                                                  method = 'eBIC', gamma = 0.3, \n",
    "                                                  latent = False, use_block = True)\n",
    "\n",
    "\n",
    "K = \"50\"\n",
    "\n",
    "if not os.path.exists(\"../data/est_uniform{0}/\".format(K)):\n",
    "    os.mkdir(\"../data/est_uniform{0}/\".format(K))\n",
    "    \n",
    "if not os.path.exists(\"../data/est_individ{0}/\".format(K)):\n",
    "    os.mkdir(\"../data/est_individ{0}/\".format(K))\n",
    "\n",
    "# dump matrices into csv\n",
    "for i in range(start, stop):\n",
    "    np.savetxt(\"../data/est_uniform{0}/est_uniform{1}.csv\".format(K, i), est_uniform[\"Theta\"][i], \n",
    "               delimiter=\",\", header='')\n",
    "    np.savetxt(\"../data/est_individ{0}/est_individ{1}.csv\".format(K, i), est_indv[\"Theta\"][i], \n",
    "               delimiter=\",\", header='')\n",
    "    \n",
    "with open(\"../data/statistics{0}.txt\".format(K), 'w') as f:\n",
    "    print(statistics, file=f)\n",
    "\n",
    "\n",
    "### cloud\n",
    "# os.mkdir(\"/storage/groups/bds01/datasets/brains/est_uniform{0}/\".format(K))\n",
    "# os.mkdir(\"/storage/groups/bds01/datasets/brains/est_individ{0}/\".format(K))\n",
    "\n",
    "# # dump matrices into csv\n",
    "# for i in range(start, stop):\n",
    "#     np.savetxt(\"/storage/groups/bds01/datasets/brains/est_uniform{0}/est_uniform{1}.csv\".format(K, i), est_uniform[\"Theta\"][i], \n",
    "#                delimiter=\",\", header='')\n",
    "#     np.savetxt(\"/storage/groups/bds01/datasets/brains/est_individ{0}/est_individ{1}.csv\".format(K, i), est_indv[\"Theta\"][i], \n",
    "#                delimiter=\",\", header='')\n",
    "    \n",
    "# with open(\"statistics{0}.txt\".format(K), 'w') as f:\n",
    "#     print(statistics, file=f)"
   ]
  },
  {
   "cell_type": "code",
   "execution_count": null,
   "id": "bb22eeb7-61c7-4088-9f5b-2b7d092f6f1b",
   "metadata": {},
   "outputs": [],
   "source": [
    "est_uniform['Theta'].shape"
   ]
  },
  {
   "cell_type": "code",
   "execution_count": null,
   "id": "2e2f2f05-6fbe-402b-a675-ef65478b5714",
   "metadata": {},
   "outputs": [],
   "source": [
    "sex = pd.read_csv(\"../data/sex.csv\")\n",
    "age = pd.read_csv(\"../data/age.csv\")"
   ]
  },
  {
   "cell_type": "markdown",
   "id": "8415da2d-a824-43fe-9b8a-63218ec014a3",
   "metadata": {},
   "source": [
    "# Logistic regression"
   ]
  },
  {
   "cell_type": "code",
   "execution_count": null,
   "id": "a8026d86-0593-4477-b49d-9b04447db745",
   "metadata": {},
   "outputs": [],
   "source": [
    "sex_50 = np.array(sex.iloc[:50,])\n",
    "age_50 = np.array(age.iloc[:50,])\n",
    "\n",
    "sex_50.shape, age_50.shape"
   ]
  },
  {
   "cell_type": "code",
   "execution_count": null,
   "id": "18d94710-713f-4a6c-b519-f5eb72177a1d",
   "metadata": {},
   "outputs": [],
   "source": [
    "X, y = est_uniform['Theta'], sex_50\n",
    "\n",
    "X.shape, y.shape"
   ]
  },
  {
   "cell_type": "code",
   "execution_count": null,
   "id": "7fd20894-ca94-4abb-b39c-7ca1c8dd964b",
   "metadata": {},
   "outputs": [],
   "source": [
    "X_train, X_test, y_train, y_test = train_test_split(X, y, test_size=0.20, random_state=42)\n",
    "\n",
    "print('X_train: ',X_train.shape)\n",
    "print('X_test: ',X_test.shape)\n",
    "print('Y_train: ',Y_train.shape)\n",
    "print('Y_test: ',Y_test.shape)"
   ]
  },
  {
   "cell_type": "code",
   "execution_count": null,
   "id": "9c0ca944-12f8-461c-b192-bd3d74a8aea0",
   "metadata": {},
   "outputs": [],
   "source": [
    "# Converting the 3D matrix to 2D matrix\n",
    "print('X_train: {0}'.format(X_train.shape))\n",
    "print('X_test: {0} \\n'.format(X_test.shape))\n",
    "\n",
    "n_train = X_train.shape[0]\n",
    "n_test = X_test.shape[0]\n",
    "\n",
    "X_train = X_train.reshape(n_train, X_train.shape[1]*X_train.shape[2])\n",
    "X_test = X_test.reshape(n_test, X_test.shape[1]*X_test.shape[2])\n",
    "\n",
    "print(\"X train flatten: {0}\".format(X_train_flatten.shape))\n",
    "print(\"X test flatten: {0} \\n\".format(X_test_flatten.shape))"
   ]
  },
  {
   "cell_type": "code",
   "execution_count": null,
   "id": "b6ea0075-ec0e-48f7-afd5-79adc7d54d42",
   "metadata": {},
   "outputs": [],
   "source": [
    "# create model and train test accuracy print\n",
    "logreg = LogisticRegression(random_state = 42, max_iter= 150, penalty='l2')\n",
    "logreg.fit(X_train, y_train.ravel())\n",
    "print(\"Test accuracy: {} \".format(logreg.score(X_test, y_test)))"
   ]
  },
  {
   "cell_type": "code",
   "execution_count": null,
   "id": "03b751b2-14ea-4d33-9924-1738b910fb72",
   "metadata": {},
   "outputs": [],
   "source": [
    "predictions = logreg.predict(X_test)\n",
    "\n",
    "cm = metrics.confusion_matrix(y_test, predictions)\n",
    "\n",
    "plt.figure(figsize=(9,9))\n",
    "sns.heatmap(cm, annot=True, fmt=\".3f\", linewidths=.5, square = True, cmap = 'Blues_r');\n",
    "plt.ylabel('Actual label');\n",
    "plt.xlabel('Predicted label');\n",
    "all_sample_title = 'Accuracy Score: {0}'.format(logreg.score(X_test, y_test))\n",
    "plt.title(all_sample_title, size = 15);"
   ]
  },
  {
   "cell_type": "markdown",
   "id": "d50c1310-a026-4c70-8ac0-eaa073fbd455",
   "metadata": {},
   "source": [
    "# XGBoost"
   ]
  },
  {
   "cell_type": "code",
   "execution_count": null,
   "id": "23ecc08e-5b7d-452e-9fcd-611e7cef8bca",
   "metadata": {},
   "outputs": [],
   "source": [
    "xgb_cl = XGBClassifier()\n",
    "print(type(xgb_cl))"
   ]
  },
  {
   "cell_type": "code",
   "execution_count": null,
   "id": "53e3c6ac-cfcd-4932-bd0e-f186910271d7",
   "metadata": {},
   "outputs": [],
   "source": [
    "xgb_cl.fit(X_train, y_train.ravel())\n",
    "\n",
    "preds = xgb_cl.predict(X_test)\n",
    "accuracy_score(y_test, preds)"
   ]
  },
  {
   "cell_type": "markdown",
   "id": "40dae815-429b-4cdf-b6d7-9e8dd851c5c3",
   "metadata": {},
   "source": [
    "### Benchmarking"
   ]
  },
  {
   "cell_type": "code",
   "execution_count": 192,
   "id": "e4cff039-50de-4f0f-a809-c04c3553528d",
   "metadata": {},
   "outputs": [
    {
     "name": "stdout",
     "output_type": "stream",
     "text": [
      "training XGBoost\n",
      "training Log-regression\n",
      "training SVM\n"
     ]
    },
    {
     "data": {
      "image/png": "[encoded data removed]",
      "text/plain": [
       "<Figure size 432x288 with 1 Axes>"
      ]
     },
     "metadata": {
      "needs_background": "light"
     },
     "output_type": "display_data"
    }
   ],
   "source": [
    "#adjust CV threshold so you don't have only one class in a sample\n",
    "heldout = [0.3, 0.2, 0.1]\n",
    "# Number of rounds to fit and evaluate an estimator.\n",
    "rounds = 10\n",
    "X, y = est_uniform['Theta'], sex_50\n",
    "\n",
    "classifiers = [\n",
    "     (\"XGBoost\", xgb.XGBClassifier()),\n",
    "    (\"Log-regression\", LogisticRegression(max_iter= 110, penalty='l2')),\n",
    "   (\"SVM\", svm.SVC(kernel='linear'))\n",
    "]\n",
    "\n",
    "xx = 1.0 - np.array(heldout)\n",
    "\n",
    "for name, clf in classifiers:\n",
    "    print(\"training %s\" % name)\n",
    "    rng = np.random.RandomState(42)\n",
    "    yy = []\n",
    "    for i in heldout:\n",
    "        yy_ = []\n",
    "        for r in range(rounds):\n",
    "            X_train, X_test, y_train, y_test = train_test_split(\n",
    "                X, y, test_size=i, random_state=rng\n",
    "            )\n",
    "            \n",
    "            n_train = X_train.shape[0]\n",
    "            n_test = X_test.shape[0]\n",
    "\n",
    "            X_train = X_train.reshape(n_train, X_train.shape[1]*X_train.shape[2])\n",
    "            X_test = X_test.reshape(n_test, X_test.shape[1]*X_test.shape[2])\n",
    "            \n",
    "            clf.fit(X_train, y_train.ravel())\n",
    "            y_pred = clf.predict(X_test)\n",
    "            yy_.append(1 - np.mean(y_pred == y_test))\n",
    "        yy.append(np.mean(yy_))\n",
    "    plt.plot(xx, yy, label=name)\n",
    "\n",
    "plt.legend(loc=\"upper right\")\n",
    "plt.xlabel(\"Proportion train\")\n",
    "plt.ylabel(\"Test Error Rate\")\n",
    "plt.show()"
   ]
  },
  {
   "cell_type": "code",
   "execution_count": null,
   "id": "ae69ce82-c13e-432c-ad80-11c5494c8036",
   "metadata": {},
   "outputs": [],
   "source": []
  }
 ],
 "metadata": {
  "kernelspec": {
   "display_name": "Python 3 (ipykernel)",
   "language": "python",
   "name": "python3"
  },
  "language_info": {
   "codemirror_mode": {
    "name": "ipython",
    "version": 3
   },
   "file_extension": ".py",
   "mimetype": "text/x-python",
   "name": "python",
   "nbconvert_exporter": "python",
   "pygments_lexer": "ipython3",
   "version": "3.9.7"
  }
 },
 "nbformat": 4,
 "nbformat_minor": 5
}
