{
 "cells": [
  {
   "cell_type": "code",
   "execution_count": 1,
   "id": "4d76569e-6b75-4bd1-9efc-2d41bc2fd2d6",
   "metadata": {},
   "outputs": [],
   "source": [
    "import gglasso\n",
    "import pickle\n",
    "import numpy as np\n",
    "import pandas as pd\n",
    "import seaborn as sns\n",
    "import scipy as sp\n",
    "import matplotlib.pyplot as plt\n",
    "\n",
    "from numpy.linalg import matrix_rank\n",
    "from matplotlib.pyplot import figure\n",
    "from scipy import stats\n",
    "from scipy.linalg import eigh\n",
    "from numpy import genfromtxt\n",
    "\n",
    "from gglasso.solver.admm_solver import ADMM_MGL\n",
    "from gglasso.problem import glasso_problem\n",
    "\n",
    "from gglasso.helper.data_generation import generate_precision_matrix, group_power_network, sample_covariance_matrix\n",
    "from gglasso.helper.basic_linalg import adjacency_matrix\n",
    "from gglasso.helper.data_generation import time_varying_power_network, sample_covariance_matrix\n",
    "from gglasso.helper.experiment_helper import lambda_grid, discovery_rate, error\n",
    "from gglasso.helper.utils import get_K_identity\n",
    "from gglasso.helper.experiment_helper import plot_evolution, plot_deviation, surface_plot, single_heatmap_animation\n",
    "from gglasso.helper.model_selection import aic, ebic, K_single_grid"
   ]
  },
  {
   "cell_type": "markdown",
   "id": "22acf91b-9772-49b5-a1af-03cd317c48a3",
   "metadata": {
    "tags": []
   },
   "source": [
    "### Read data"
   ]
  },
  {
   "cell_type": "code",
   "execution_count": 2,
   "id": "86ad6809-d3d3-4736-912d-6b3bd188da14",
   "metadata": {
    "tags": []
   },
   "outputs": [
    {
     "data": {
      "text/plain": [
       "(50, 436, 436)"
      ]
     },
     "execution_count": 2,
     "metadata": {},
     "output_type": "execute_result"
    }
   ],
   "source": [
    "sub_corr = []\n",
    "\n",
    "for i in range(0, 50):\n",
    "    sub_corr.append(genfromtxt(\"/storage/groups/bds01/datasets/brains/corr_matrices/corr{0}.csv\".format(i), delimiter=','))\n",
    "\n",
    "sub_corr = np.array(sub_corr)\n",
    "sub_corr.shape"
   ]
  },
  {
   "cell_type": "markdown",
   "id": "a8728fa3-e458-41d1-9c55-e338a88b59d9",
   "metadata": {
    "tags": []
   },
   "source": [
    "### SGL"
   ]
  },
  {
   "cell_type": "code",
   "execution_count": 13,
   "id": "a1466aba-f9a9-41d5-a20f-e246bc1ad854",
   "metadata": {
    "tags": []
   },
   "outputs": [
    {
     "data": {
      "text/plain": [
       "array([0.12589254, 0.10797752, 0.09261187, 0.07943282, 0.06812921,\n",
       "       0.05843414, 0.05011872, 0.04298662, 0.03686945, 0.03162278])"
      ]
     },
     "execution_count": 13,
     "metadata": {},
     "output_type": "execute_result"
    }
   ],
   "source": [
    "lambda1_range = np.logspace(-0.9, -1.5, 10)\n",
    "lambda1_range"
   ]
  },
  {
   "cell_type": "code",
   "execution_count": 16,
   "id": "f3909ab9-87d2-4092-8f43-0ef20f4e434e",
   "metadata": {
    "collapsed": true,
    "jupyter": {
     "outputs_hidden": true
    },
    "tags": []
   },
   "outputs": [
    {
     "name": "stdout",
     "output_type": "stream",
     "text": [
      "------------Range search for instance 0------------\n",
      "ADMM terminated after 73 iterations with status: optimal.\n",
      "ADMM terminated after 54 iterations with status: optimal.\n",
      "ADMM terminated after 56 iterations with status: optimal.\n",
      "ADMM terminated after 57 iterations with status: optimal.\n",
      "ADMM terminated after 60 iterations with status: optimal.\n",
      "ADMM terminated after 66 iterations with status: optimal.\n",
      "ADMM terminated after 73 iterations with status: optimal.\n",
      "ADMM terminated after 82 iterations with status: optimal.\n",
      "ADMM terminated after 94 iterations with status: optimal.\n",
      "ADMM terminated after 82 iterations with status: optimal.\n",
      "------------Range search for instance 1------------\n",
      "ADMM terminated after 84 iterations with status: optimal.\n",
      "ADMM terminated after 65 iterations with status: optimal.\n",
      "ADMM terminated after 64 iterations with status: optimal.\n",
      "ADMM terminated after 68 iterations with status: optimal.\n",
      "ADMM terminated after 73 iterations with status: optimal.\n",
      "ADMM terminated after 81 iterations with status: optimal.\n",
      "ADMM terminated after 90 iterations with status: optimal.\n",
      "ADMM terminated after 101 iterations with status: optimal.\n",
      "ADMM terminated after 92 iterations with status: optimal.\n",
      "ADMM terminated after 91 iterations with status: optimal.\n",
      "------------Range search for instance 2------------\n",
      "ADMM terminated after 92 iterations with status: optimal.\n",
      "ADMM terminated after 74 iterations with status: optimal.\n",
      "ADMM terminated after 78 iterations with status: optimal.\n",
      "ADMM terminated after 85 iterations with status: optimal.\n",
      "ADMM terminated after 93 iterations with status: optimal.\n",
      "ADMM terminated after 104 iterations with status: optimal.\n",
      "ADMM terminated after 111 iterations with status: optimal.\n",
      "ADMM terminated after 105 iterations with status: optimal.\n",
      "ADMM terminated after 103 iterations with status: optimal.\n",
      "ADMM terminated after 107 iterations with status: optimal.\n",
      "------------Range search for instance 3------------\n",
      "ADMM terminated after 73 iterations with status: optimal.\n",
      "ADMM terminated after 56 iterations with status: optimal.\n",
      "ADMM terminated after 58 iterations with status: optimal.\n",
      "ADMM terminated after 60 iterations with status: optimal.\n",
      "ADMM terminated after 63 iterations with status: optimal.\n",
      "ADMM terminated after 68 iterations with status: optimal.\n",
      "ADMM terminated after 76 iterations with status: optimal.\n",
      "ADMM terminated after 85 iterations with status: optimal.\n",
      "ADMM terminated after 95 iterations with status: optimal.\n",
      "ADMM terminated after 83 iterations with status: optimal.\n",
      "------------Range search for instance 4------------\n",
      "ADMM terminated after 83 iterations with status: optimal.\n",
      "ADMM terminated after 62 iterations with status: optimal.\n",
      "ADMM terminated after 62 iterations with status: optimal.\n",
      "ADMM terminated after 65 iterations with status: optimal.\n",
      "ADMM terminated after 69 iterations with status: optimal.\n",
      "ADMM terminated after 76 iterations with status: optimal.\n",
      "ADMM terminated after 85 iterations with status: optimal.\n",
      "ADMM terminated after 97 iterations with status: optimal.\n",
      "ADMM terminated after 96 iterations with status: optimal.\n",
      "ADMM terminated after 88 iterations with status: optimal.\n",
      "------------Range search for instance 5------------\n",
      "ADMM terminated after 80 iterations with status: optimal.\n",
      "ADMM terminated after 60 iterations with status: optimal.\n",
      "ADMM terminated after 60 iterations with status: optimal.\n",
      "ADMM terminated after 63 iterations with status: optimal.\n",
      "ADMM terminated after 67 iterations with status: optimal.\n",
      "ADMM terminated after 74 iterations with status: optimal.\n",
      "ADMM terminated after 82 iterations with status: optimal.\n",
      "ADMM terminated after 93 iterations with status: optimal.\n",
      "ADMM terminated after 98 iterations with status: optimal.\n",
      "ADMM terminated after 87 iterations with status: optimal.\n",
      "------------Range search for instance 6------------\n",
      "ADMM terminated after 81 iterations with status: optimal.\n",
      "ADMM terminated after 63 iterations with status: optimal.\n",
      "ADMM terminated after 64 iterations with status: optimal.\n",
      "ADMM terminated after 67 iterations with status: optimal.\n",
      "ADMM terminated after 73 iterations with status: optimal.\n",
      "ADMM terminated after 80 iterations with status: optimal.\n",
      "ADMM terminated after 89 iterations with status: optimal.\n",
      "ADMM terminated after 101 iterations with status: optimal.\n",
      "ADMM terminated after 91 iterations with status: optimal.\n",
      "ADMM terminated after 90 iterations with status: optimal.\n",
      "------------Range search for instance 7------------\n",
      "ADMM terminated after 85 iterations with status: optimal.\n",
      "ADMM terminated after 67 iterations with status: optimal.\n",
      "ADMM terminated after 69 iterations with status: optimal.\n",
      "ADMM terminated after 75 iterations with status: optimal.\n",
      "ADMM terminated after 80 iterations with status: optimal.\n",
      "ADMM terminated after 87 iterations with status: optimal.\n",
      "ADMM terminated after 96 iterations with status: optimal.\n",
      "ADMM terminated after 104 iterations with status: optimal.\n",
      "ADMM terminated after 92 iterations with status: optimal.\n",
      "ADMM terminated after 92 iterations with status: optimal.\n",
      "------------Range search for instance 8------------\n",
      "ADMM terminated after 71 iterations with status: optimal.\n",
      "ADMM terminated after 53 iterations with status: optimal.\n",
      "ADMM terminated after 57 iterations with status: optimal.\n",
      "ADMM terminated after 56 iterations with status: optimal.\n",
      "ADMM terminated after 59 iterations with status: optimal.\n",
      "ADMM terminated after 64 iterations with status: optimal.\n",
      "ADMM terminated after 70 iterations with status: optimal.\n",
      "ADMM terminated after 79 iterations with status: optimal.\n",
      "ADMM terminated after 89 iterations with status: optimal.\n",
      "ADMM terminated after 84 iterations with status: optimal.\n",
      "------------Range search for instance 9------------\n",
      "ADMM terminated after 92 iterations with status: optimal.\n",
      "ADMM terminated after 86 iterations with status: optimal.\n",
      "ADMM terminated after 98 iterations with status: optimal.\n",
      "ADMM terminated after 115 iterations with status: optimal.\n",
      "ADMM terminated after 138 iterations with status: optimal.\n",
      "ADMM terminated after 130 iterations with status: optimal.\n",
      "ADMM terminated after 132 iterations with status: optimal.\n",
      "ADMM terminated after 153 iterations with status: optimal.\n",
      "ADMM terminated after 184 iterations with status: optimal.\n",
      "ADMM terminated after 223 iterations with status: optimal.\n"
     ]
    }
   ],
   "source": [
    "N = sub_corr.shape[1]\n",
    "\n",
    "\n",
    "est_uniform, est_indv, statistics = K_single_grid(sub_corr[:10,:], lambda1_range, N, \n",
    "                                                  method = 'eBIC', gamma = 0.3, \n",
    "                                                  latent = False, use_block = True)\n"
   ]
  },
  {
   "cell_type": "code",
   "execution_count": 17,
   "id": "82018174-d51b-4cf7-a4df-4bcacc1ccca7",
   "metadata": {
    "collapsed": true,
    "jupyter": {
     "outputs_hidden": true
    },
    "tags": []
   },
   "outputs": [
    {
     "data": {
      "text/plain": [
       "{'BIC': array([[[ 105228.30686567],\n",
       "         [ 107219.82072956],\n",
       "         [ 110437.51028301],\n",
       "         [ 115398.04282336],\n",
       "         [ 121293.23949615],\n",
       "         [ 127563.68468055],\n",
       "         [ 134299.07985907],\n",
       "         [ 140852.2257635 ],\n",
       "         [ 147655.75421168],\n",
       "         [ 154947.18619038]],\n",
       " \n",
       "        [[  62330.44803786],\n",
       "         [  59905.94030433],\n",
       "         [  59682.48476706],\n",
       "         [  59255.10868659],\n",
       "         [  60266.30536546],\n",
       "         [  62754.16956879],\n",
       "         [  65253.23739328],\n",
       "         [  68673.08358251],\n",
       "         [  72246.72383698],\n",
       "         [  74844.20283737]],\n",
       " \n",
       "        [[  39364.59220797],\n",
       "         [  35448.43470329],\n",
       "         [  32025.87862695],\n",
       "         [  28904.30660338],\n",
       "         [  28202.70437599],\n",
       "         [  28455.7879491 ],\n",
       "         [  28861.90010454],\n",
       "         [  31113.54614812],\n",
       "         [  33910.7477674 ],\n",
       "         [  37000.09015761]],\n",
       " \n",
       "        [[  90549.35892741],\n",
       "         [  90090.32827863],\n",
       "         [  90028.81901017],\n",
       "         [  92032.86890086],\n",
       "         [  94431.78483945],\n",
       "         [  98408.52932895],\n",
       "         [ 103697.91774338],\n",
       "         [ 108311.25161543],\n",
       "         [ 114609.47403787],\n",
       "         [ 120284.93063937]],\n",
       " \n",
       "        [[  75161.68106895],\n",
       "         [  73175.29265165],\n",
       "         [  71549.21294988],\n",
       "         [  71175.46220343],\n",
       "         [  71572.46023457],\n",
       "         [  73655.11901795],\n",
       "         [  74887.41577821],\n",
       "         [  76919.14256618],\n",
       "         [  80186.89371727],\n",
       "         [  84569.71115404]],\n",
       " \n",
       "        [[  75293.87782435],\n",
       "         [  72990.25409254],\n",
       "         [  72802.43892189],\n",
       "         [  73848.95074475],\n",
       "         [  74604.89889359],\n",
       "         [  76014.91417788],\n",
       "         [  78994.22828992],\n",
       "         [  82145.92563995],\n",
       "         [  86411.42240886],\n",
       "         [  91035.83357867]],\n",
       " \n",
       "        [[  74619.06806568],\n",
       "         [  73072.56781264],\n",
       "         [  71863.00352537],\n",
       "         [  72565.41553165],\n",
       "         [  73894.7233222 ],\n",
       "         [  74623.53032386],\n",
       "         [  77007.76377112],\n",
       "         [  80210.88784385],\n",
       "         [  83541.97354255],\n",
       "         [  86172.78598288]],\n",
       " \n",
       "        [[  51978.70335024],\n",
       "         [  49153.99675199],\n",
       "         [  47204.35397229],\n",
       "         [  46136.26213349],\n",
       "         [  46753.11518527],\n",
       "         [  48855.89025823],\n",
       "         [  51567.61996042],\n",
       "         [  55849.14460053],\n",
       "         [  61187.16556717],\n",
       "         [  67040.53083198]],\n",
       " \n",
       "        [[  94204.30892164],\n",
       "         [  94329.94740963],\n",
       "         [  96380.31084783],\n",
       "         [ 100349.34044608],\n",
       "         [ 104576.79075782],\n",
       "         [ 109433.9534824 ],\n",
       "         [ 116418.16332949],\n",
       "         [ 123410.30384744],\n",
       "         [ 131256.51465679],\n",
       "         [ 139016.48341983]],\n",
       " \n",
       "        [[ -83632.60187717],\n",
       "         [-104325.48204184],\n",
       "         [-125448.19942474],\n",
       "         [-147498.05865663],\n",
       "         [-168962.5218889 ],\n",
       "         [-190801.68188298],\n",
       "         [-213457.33022739],\n",
       "         [-236623.0781681 ],\n",
       "         [-259914.30801902],\n",
       "         [-283105.0987642 ]]]),\n",
       " 'AIC': array([[[   1890.35890905],\n",
       "         [ -10388.49746095],\n",
       "         [ -22771.56325482],\n",
       "         [ -35322.08263494],\n",
       "         [ -48177.35649257],\n",
       "         [ -61441.96793114],\n",
       "         [ -74980.73221637],\n",
       "         [ -88826.824718  ],\n",
       "         [-102945.59207089],\n",
       "         [-117338.30035994]],\n",
       " \n",
       "        [[ -33423.16769087],\n",
       "         [ -46740.91421648],\n",
       "         [ -59802.01755778],\n",
       "         [ -73078.41225523],\n",
       "         [ -86314.84418437],\n",
       "         [ -99530.07264478],\n",
       "         [-112950.14292981],\n",
       "         [-126541.03289189],\n",
       "         [-140467.07374494],\n",
       "         [-154800.73520532]],\n",
       " \n",
       "        [[ -51715.61940432],\n",
       "         [ -64762.53969611],\n",
       "         [ -78066.33221328],\n",
       "         [ -91671.79376326],\n",
       "         [-105358.86436285],\n",
       "         [-119376.15102362],\n",
       "         [-133786.20812296],\n",
       "         [-148340.62359786],\n",
       "         [-163281.89015775],\n",
       "         [-178613.26472283]],\n",
       " \n",
       "        [[ -13550.43349589],\n",
       "         [ -26312.68374073],\n",
       "         [ -39052.64943213],\n",
       "         [ -51557.75684696],\n",
       "         [ -64293.39292535],\n",
       "         [ -76974.88938617],\n",
       "         [ -89730.98110016],\n",
       "         [-102844.74459435],\n",
       "         [-115979.24147846],\n",
       "         [-129520.45873773]],\n",
       " \n",
       "        [[ -28460.53721105],\n",
       "         [ -41920.07588014],\n",
       "         [ -55314.94697002],\n",
       "         [ -68685.5369016 ],\n",
       "         [ -82172.30146454],\n",
       "         [ -95679.02721555],\n",
       "         [-109672.24897575],\n",
       "         [-123878.04305949],\n",
       "         [-138200.93951941],\n",
       "         [-152761.89643295]],\n",
       " \n",
       "        [[ -25929.0989263 ],\n",
       "         [ -39023.62413376],\n",
       "         [ -51901.26654029],\n",
       "         [ -64772.62975032],\n",
       "         [ -77843.59013088],\n",
       "         [ -90965.473778  ],\n",
       "         [-104132.71403418],\n",
       "         [-117605.14519566],\n",
       "         [-131225.93717408],\n",
       "         [-145079.09702424]],\n",
       " \n",
       "        [[ -27195.1909576 ],\n",
       "         [ -40806.12373507],\n",
       "         [ -54523.58225124],\n",
       "         [ -68284.84429875],\n",
       "         [ -82272.02153215],\n",
       "         [ -96632.28329572],\n",
       "         [-111054.11136692],\n",
       "         [-125725.90522859],\n",
       "         [-140735.94079464],\n",
       "         [-156161.97929568]],\n",
       " \n",
       "        [[ -40829.87182823],\n",
       "         [ -52944.53259468],\n",
       "         [ -64923.23238337],\n",
       "         [ -76884.56301425],\n",
       "         [ -88775.60419138],\n",
       "         [-100772.63715827],\n",
       "         [-113059.00971784],\n",
       "         [-125549.4341574 ],\n",
       "         [-138347.85982266],\n",
       "         [-151517.86459872]],\n",
       " \n",
       "        [[  -6393.27311756],\n",
       "         [ -18479.88772216],\n",
       "         [ -30472.47825913],\n",
       "         [ -42468.07002214],\n",
       "         [ -54694.18602788],\n",
       "         [ -67120.65896506],\n",
       "         [ -79557.79761158],\n",
       "         [ -92384.98403997],\n",
       "         [-105472.43984464],\n",
       "         [-118930.40801899]],\n",
       " \n",
       "        [[-174189.75609444],\n",
       "         [-200135.95183525],\n",
       "         [-226261.82690971],\n",
       "         [-252587.1118053 ],\n",
       "         [-278838.68728336],\n",
       "         [-305248.91407746],\n",
       "         [-331827.49288457],\n",
       "         [-358495.45120937],\n",
       "         [-385186.55412797],\n",
       "         [-411834.0720055 ]]]),\n",
       " 'SP': array([[[0.09585574],\n",
       "         [0.1091005 ],\n",
       "         [0.12356849],\n",
       "         [0.13978699],\n",
       "         [0.157176  ],\n",
       "         [0.17530317],\n",
       "         [0.19410524],\n",
       "         [0.2130233 ],\n",
       "         [0.2324159 ],\n",
       "         [0.25251503]],\n",
       " \n",
       "        [[0.08880101],\n",
       "         [0.0989033 ],\n",
       "         [0.11082991],\n",
       "         [0.12274597],\n",
       "         [0.13598018],\n",
       "         [0.1505009 ],\n",
       "         [0.1652747 ],\n",
       "         [0.1810503 ],\n",
       "         [0.1972688 ],\n",
       "         [0.21299167]],\n",
       " \n",
       "        [[0.08447749],\n",
       "         [0.09294527],\n",
       "         [0.10214067],\n",
       "         [0.11184224],\n",
       "         [0.12386376],\n",
       "         [0.13711906],\n",
       "         [0.15085943],\n",
       "         [0.16643467],\n",
       "         [0.18288516],\n",
       "         [0.19995782]],\n",
       " \n",
       "        [[0.09654118],\n",
       "         [0.10797216],\n",
       "         [0.1197195 ],\n",
       "         [0.13319625],\n",
       "         [0.1472108 ],\n",
       "         [0.1626595 ],\n",
       "         [0.17939471],\n",
       "         [0.19582411],\n",
       "         [0.21385637],\n",
       "         [0.23171992]],\n",
       " \n",
       "        [[0.09614046],\n",
       "         [0.10674892],\n",
       "         [0.11768428],\n",
       "         [0.12974797],\n",
       "         [0.14259201],\n",
       "         [0.15706   ],\n",
       "         [0.17116946],\n",
       "         [0.18624908],\n",
       "         [0.20255194],\n",
       "         [0.22009912]],\n",
       " \n",
       "        [[0.09387325],\n",
       "         [0.10389117],\n",
       "         [0.11567015],\n",
       "         [0.12855636],\n",
       "         [0.14138986],\n",
       "         [0.1548666 ],\n",
       "         [0.16983022],\n",
       "         [0.18525783],\n",
       "         [0.20184541],\n",
       "         [0.21899188]],\n",
       " \n",
       "        [[0.09445323],\n",
       "         [0.10561004],\n",
       "         [0.11724138],\n",
       "         [0.13064431],\n",
       "         [0.14482759],\n",
       "         [0.15883159],\n",
       "         [0.17441738],\n",
       "         [0.19099441],\n",
       "         [0.20801434],\n",
       "         [0.2247601 ]],\n",
       " \n",
       "        [[0.08608035],\n",
       "         [0.09468523],\n",
       "         [0.10398608],\n",
       "         [0.11408837],\n",
       "         [0.12570916],\n",
       "         [0.1387641 ],\n",
       "         [0.1526732 ],\n",
       "         [0.1682379 ],\n",
       "         [0.18506802],\n",
       "         [0.20272066]],\n",
       " \n",
       "        [[0.09330381],\n",
       "         [0.10463988],\n",
       "         [0.1176421 ],\n",
       "         [0.13246863],\n",
       "         [0.14772751],\n",
       "         [0.1637351 ],\n",
       "         [0.18176737],\n",
       "         [0.20014763],\n",
       "         [0.21954023],\n",
       "         [0.23922809]],\n",
       " \n",
       "        [[0.08400295],\n",
       "         [0.08886428],\n",
       "         [0.09350417],\n",
       "         [0.09745861],\n",
       "         [0.10189813],\n",
       "         [0.10614784],\n",
       "         [0.10977539],\n",
       "         [0.1130233 ],\n",
       "         [0.11617632],\n",
       "         [0.11938205]]]),\n",
       " 'RANK': array([[[0.],\n",
       "         [0.],\n",
       "         [0.],\n",
       "         [0.],\n",
       "         [0.],\n",
       "         [0.],\n",
       "         [0.],\n",
       "         [0.],\n",
       "         [0.],\n",
       "         [0.]],\n",
       " \n",
       "        [[0.],\n",
       "         [0.],\n",
       "         [0.],\n",
       "         [0.],\n",
       "         [0.],\n",
       "         [0.],\n",
       "         [0.],\n",
       "         [0.],\n",
       "         [0.],\n",
       "         [0.]],\n",
       " \n",
       "        [[0.],\n",
       "         [0.],\n",
       "         [0.],\n",
       "         [0.],\n",
       "         [0.],\n",
       "         [0.],\n",
       "         [0.],\n",
       "         [0.],\n",
       "         [0.],\n",
       "         [0.]],\n",
       " \n",
       "        [[0.],\n",
       "         [0.],\n",
       "         [0.],\n",
       "         [0.],\n",
       "         [0.],\n",
       "         [0.],\n",
       "         [0.],\n",
       "         [0.],\n",
       "         [0.],\n",
       "         [0.]],\n",
       " \n",
       "        [[0.],\n",
       "         [0.],\n",
       "         [0.],\n",
       "         [0.],\n",
       "         [0.],\n",
       "         [0.],\n",
       "         [0.],\n",
       "         [0.],\n",
       "         [0.],\n",
       "         [0.]],\n",
       " \n",
       "        [[0.],\n",
       "         [0.],\n",
       "         [0.],\n",
       "         [0.],\n",
       "         [0.],\n",
       "         [0.],\n",
       "         [0.],\n",
       "         [0.],\n",
       "         [0.],\n",
       "         [0.]],\n",
       " \n",
       "        [[0.],\n",
       "         [0.],\n",
       "         [0.],\n",
       "         [0.],\n",
       "         [0.],\n",
       "         [0.],\n",
       "         [0.],\n",
       "         [0.],\n",
       "         [0.],\n",
       "         [0.]],\n",
       " \n",
       "        [[0.],\n",
       "         [0.],\n",
       "         [0.],\n",
       "         [0.],\n",
       "         [0.],\n",
       "         [0.],\n",
       "         [0.],\n",
       "         [0.],\n",
       "         [0.],\n",
       "         [0.]],\n",
       " \n",
       "        [[0.],\n",
       "         [0.],\n",
       "         [0.],\n",
       "         [0.],\n",
       "         [0.],\n",
       "         [0.],\n",
       "         [0.],\n",
       "         [0.],\n",
       "         [0.],\n",
       "         [0.]],\n",
       " \n",
       "        [[0.],\n",
       "         [0.],\n",
       "         [0.],\n",
       "         [0.],\n",
       "         [0.],\n",
       "         [0.],\n",
       "         [0.],\n",
       "         [0.],\n",
       "         [0.],\n",
       "         [0.]]]),\n",
       " 'LAMB': array([[0.12589254],\n",
       "        [0.10797752],\n",
       "        [0.09261187],\n",
       "        [0.07943282],\n",
       "        [0.06812921],\n",
       "        [0.05843414],\n",
       "        [0.05011872],\n",
       "        [0.04298662],\n",
       "        [0.03686945],\n",
       "        [0.03162278]]),\n",
       " 'MU': array([[0],\n",
       "        [0],\n",
       "        [0],\n",
       "        [0],\n",
       "        [0],\n",
       "        [0],\n",
       "        [0],\n",
       "        [0],\n",
       "        [0],\n",
       "        [0]]),\n",
       " 'ix_uniform': 4,\n",
       " 'ix_indv': array([0, 3, 4, 2, 3, 2, 2, 3, 0, 9]),\n",
       " 'ix_mu': array([[0, 0, 0, 0, 0, 0, 0, 0, 0, 0],\n",
       "        [0, 0, 0, 0, 0, 0, 0, 0, 0, 0],\n",
       "        [0, 0, 0, 0, 0, 0, 0, 0, 0, 0],\n",
       "        [0, 0, 0, 0, 0, 0, 0, 0, 0, 0],\n",
       "        [0, 0, 0, 0, 0, 0, 0, 0, 0, 0],\n",
       "        [0, 0, 0, 0, 0, 0, 0, 0, 0, 0],\n",
       "        [0, 0, 0, 0, 0, 0, 0, 0, 0, 0],\n",
       "        [0, 0, 0, 0, 0, 0, 0, 0, 0, 0],\n",
       "        [0, 0, 0, 0, 0, 0, 0, 0, 0, 0],\n",
       "        [0, 0, 0, 0, 0, 0, 0, 0, 0, 0]])}"
      ]
     },
     "execution_count": 17,
     "metadata": {},
     "output_type": "execute_result"
    }
   ],
   "source": [
    "statistics"
   ]
  },
  {
   "cell_type": "code",
   "execution_count": 20,
   "id": "f3e8b5b6-3a6b-440b-9c55-6bc62d7071a0",
   "metadata": {},
   "outputs": [
    {
     "data": {
      "text/plain": [
       "'/storage/groups/bds01/datasets/brains/est_uniform100/'"
      ]
     },
     "execution_count": 20,
     "metadata": {},
     "output_type": "execute_result"
    }
   ],
   "source": [
    "b = \"100\"\n",
    "\n",
    "a = \"/storage/groups/bds01/datasets/brains/est_uniform{0}/\".format(b)\n",
    "\n",
    "a"
   ]
  },
  {
   "cell_type": "code",
   "execution_count": 5,
   "id": "ac391209-aaaf-4eb3-af46-acb95d5fb8be",
   "metadata": {
    "tags": []
   },
   "outputs": [
    {
     "name": "stdout",
     "output_type": "stream",
     "text": [
      " \n",
      "GROUP GRAPHICAL LASSO PROBLEM \n",
      "Regularization parameters:\n",
      "{'lambda1': array([0.17782794, 0.16259647, 0.14866962, 0.13593564, 0.12429236,\n",
      "       0.11364637, 0.10391223, 0.09501185, 0.08687381, 0.07943282]), 'lambda2': 0.01, 'mu1': None}\n"
     ]
    }
   ],
   "source": [
    "N = sub_corr.shape[1]\n",
    "\n",
    "P = glasso_problem(sub_corr[:10,:], N, reg_params = {'lambda1': lambda1_range}, latent = False, do_scaling = False)\n",
    "print(P)"
   ]
  },
  {
   "cell_type": "code",
   "execution_count": 6,
   "id": "bf33a867-9fa5-4b00-829c-9d99558b1f11",
   "metadata": {},
   "outputs": [],
   "source": [
    "modelselect_params = {'lambda1_range': lambda1_range}\n",
    "gamma = 0.3"
   ]
  },
  {
   "cell_type": "code",
   "execution_count": 7,
   "id": "93f901d7-0332-406c-be63-8603203ef8f5",
   "metadata": {
    "collapsed": true,
    "jupyter": {
     "outputs_hidden": true
    },
    "tags": []
   },
   "outputs": [
    {
     "ename": "KeyboardInterrupt",
     "evalue": "",
     "output_type": "error",
     "traceback": [
      "\u001b[0;31m---------------------------------------------------------------------------\u001b[0m",
      "\u001b[0;31mKeyboardInterrupt\u001b[0m                         Traceback (most recent call last)",
      "\u001b[0;32m/tmp/ipykernel_35665/159353443.py\u001b[0m in \u001b[0;36m<module>\u001b[0;34m\u001b[0m\n\u001b[0;32m----> 1\u001b[0;31m \u001b[0mP\u001b[0m\u001b[0;34m.\u001b[0m\u001b[0mmodel_selection\u001b[0m\u001b[0;34m(\u001b[0m\u001b[0mmodelselect_params\u001b[0m \u001b[0;34m=\u001b[0m \u001b[0mmodelselect_params\u001b[0m\u001b[0;34m,\u001b[0m \u001b[0mmethod\u001b[0m \u001b[0;34m=\u001b[0m \u001b[0;34m'eBIC'\u001b[0m\u001b[0;34m,\u001b[0m \u001b[0mgamma\u001b[0m \u001b[0;34m=\u001b[0m \u001b[0mgamma\u001b[0m\u001b[0;34m)\u001b[0m\u001b[0;34m\u001b[0m\u001b[0;34m\u001b[0m\u001b[0m\n\u001b[0m\u001b[1;32m      2\u001b[0m \u001b[0;34m\u001b[0m\u001b[0m\n\u001b[1;32m      3\u001b[0m \u001b[0;31m# regularization parameters are set to the best ones found during model selection\u001b[0m\u001b[0;34m\u001b[0m\u001b[0;34m\u001b[0m\u001b[0m\n\u001b[1;32m      4\u001b[0m \u001b[0mprint\u001b[0m\u001b[0;34m(\u001b[0m\u001b[0mP\u001b[0m\u001b[0;34m.\u001b[0m\u001b[0mreg_params\u001b[0m\u001b[0;34m)\u001b[0m\u001b[0;34m\u001b[0m\u001b[0;34m\u001b[0m\u001b[0m\n",
      "\u001b[0;32m~/miniconda3/envs/brains/lib/python3.9/site-packages/gglasso/problem.py\u001b[0m in \u001b[0;36mmodel_selection\u001b[0;34m(self, modelselect_params, method, gamma, tol, rtol)\u001b[0m\n\u001b[1;32m    580\u001b[0m             \u001b[0;31m###############################\u001b[0m\u001b[0;34m\u001b[0m\u001b[0;34m\u001b[0m\u001b[0m\n\u001b[1;32m    581\u001b[0m \u001b[0;34m\u001b[0m\u001b[0m\n\u001b[0;32m--> 582\u001b[0;31m             stats, best_ix, sol = grid_search(solver, S = self.S, N = self.N, p = self.p, reg = self.reg, l1 = self.modelselect_params['lambda1_range'], \\\n\u001b[0m\u001b[1;32m    583\u001b[0m                                         \u001b[0ml2\u001b[0m \u001b[0;34m=\u001b[0m \u001b[0mself\u001b[0m\u001b[0;34m.\u001b[0m\u001b[0mmodelselect_params\u001b[0m\u001b[0;34m[\u001b[0m\u001b[0;34m'lambda2_range'\u001b[0m\u001b[0;34m]\u001b[0m\u001b[0;34m,\u001b[0m \u001b[0mw2\u001b[0m \u001b[0;34m=\u001b[0m \u001b[0;32mNone\u001b[0m\u001b[0;34m,\u001b[0m \u001b[0mmethod\u001b[0m\u001b[0;34m=\u001b[0m \u001b[0mmethod\u001b[0m\u001b[0;34m,\u001b[0m \u001b[0mgamma\u001b[0m \u001b[0;34m=\u001b[0m \u001b[0mgamma\u001b[0m\u001b[0;34m,\u001b[0m\u001b[0;31m \u001b[0m\u001b[0;31m\\\u001b[0m\u001b[0;34m\u001b[0m\u001b[0;34m\u001b[0m\u001b[0m\n\u001b[1;32m    584\u001b[0m                                         \u001b[0mG\u001b[0m \u001b[0;34m=\u001b[0m \u001b[0mself\u001b[0m\u001b[0;34m.\u001b[0m\u001b[0mG\u001b[0m\u001b[0;34m,\u001b[0m \u001b[0mlatent\u001b[0m \u001b[0;34m=\u001b[0m \u001b[0mself\u001b[0m\u001b[0;34m.\u001b[0m\u001b[0mlatent\u001b[0m\u001b[0;34m,\u001b[0m \u001b[0mmu_range\u001b[0m \u001b[0;34m=\u001b[0m \u001b[0mself\u001b[0m\u001b[0;34m.\u001b[0m\u001b[0mmodelselect_params\u001b[0m\u001b[0;34m[\u001b[0m\u001b[0;34m'mu1_range'\u001b[0m\u001b[0;34m]\u001b[0m\u001b[0;34m,\u001b[0m \u001b[0mix_mu\u001b[0m \u001b[0;34m=\u001b[0m \u001b[0mix_mu\u001b[0m\u001b[0;34m,\u001b[0m\u001b[0;31m \u001b[0m\u001b[0;31m\\\u001b[0m\u001b[0;34m\u001b[0m\u001b[0;34m\u001b[0m\u001b[0m\n",
      "\u001b[0;32m~/miniconda3/envs/brains/lib/python3.9/site-packages/gglasso/helper/model_selection.py\u001b[0m in \u001b[0;36mgrid_search\u001b[0;34m(solver, S, N, p, reg, l1, l2, w2, method, gamma, G, latent, mu_range, ix_mu, tol, rtol, verbose)\u001b[0m\n\u001b[1;32m    173\u001b[0m \u001b[0;34m\u001b[0m\u001b[0m\n\u001b[1;32m    174\u001b[0m             \u001b[0;31m# solve\u001b[0m\u001b[0;34m\u001b[0m\u001b[0;34m\u001b[0m\u001b[0m\n\u001b[0;32m--> 175\u001b[0;31m             \u001b[0msol\u001b[0m\u001b[0;34m,\u001b[0m \u001b[0minfo\u001b[0m \u001b[0;34m=\u001b[0m \u001b[0msolver\u001b[0m\u001b[0;34m(\u001b[0m\u001b[0;34m**\u001b[0m\u001b[0mkwargs\u001b[0m\u001b[0;34m)\u001b[0m\u001b[0;34m\u001b[0m\u001b[0;34m\u001b[0m\u001b[0m\n\u001b[0m\u001b[1;32m    176\u001b[0m             \u001b[0mOmega_sol\u001b[0m \u001b[0;34m=\u001b[0m \u001b[0msol\u001b[0m\u001b[0;34m[\u001b[0m\u001b[0;34m'Omega'\u001b[0m\u001b[0;34m]\u001b[0m\u001b[0;34m\u001b[0m\u001b[0;34m\u001b[0m\u001b[0m\n\u001b[1;32m    177\u001b[0m             \u001b[0mTheta_sol\u001b[0m \u001b[0;34m=\u001b[0m \u001b[0msol\u001b[0m\u001b[0;34m[\u001b[0m\u001b[0;34m'Theta'\u001b[0m\u001b[0;34m]\u001b[0m\u001b[0;34m\u001b[0m\u001b[0;34m\u001b[0m\u001b[0m\n",
      "\u001b[0;32m~/miniconda3/envs/brains/lib/python3.9/site-packages/gglasso/solver/admm_solver.py\u001b[0m in \u001b[0;36mADMM_MGL\u001b[0;34m(S, lambda1, lambda2, reg, Omega_0, Theta_0, X_0, n_samples, tol, rtol, stopping_criterion, update_rho, rho, max_iter, verbose, measure, latent, mu1)\u001b[0m\n\u001b[1;32m    167\u001b[0m \u001b[0;34m\u001b[0m\u001b[0m\n\u001b[1;32m    168\u001b[0m         \u001b[0;32mfor\u001b[0m \u001b[0mk\u001b[0m \u001b[0;32min\u001b[0m \u001b[0mnp\u001b[0m\u001b[0;34m.\u001b[0m\u001b[0marange\u001b[0m\u001b[0;34m(\u001b[0m\u001b[0mK\u001b[0m\u001b[0;34m)\u001b[0m\u001b[0;34m:\u001b[0m\u001b[0;34m\u001b[0m\u001b[0;34m\u001b[0m\u001b[0m\n\u001b[0;32m--> 169\u001b[0;31m             \u001b[0mOmega_t\u001b[0m\u001b[0;34m[\u001b[0m\u001b[0mk\u001b[0m\u001b[0;34m,\u001b[0m\u001b[0;34m:\u001b[0m\u001b[0;34m,\u001b[0m\u001b[0;34m:\u001b[0m\u001b[0;34m]\u001b[0m \u001b[0;34m=\u001b[0m \u001b[0mphiplus\u001b[0m\u001b[0;34m(\u001b[0m\u001b[0mbeta\u001b[0m \u001b[0;34m=\u001b[0m \u001b[0mnk\u001b[0m\u001b[0;34m[\u001b[0m\u001b[0mk\u001b[0m\u001b[0;34m,\u001b[0m\u001b[0;36m0\u001b[0m\u001b[0;34m,\u001b[0m\u001b[0;36m0\u001b[0m\u001b[0;34m]\u001b[0m\u001b[0;34m/\u001b[0m\u001b[0mrho\u001b[0m\u001b[0;34m,\u001b[0m \u001b[0mD\u001b[0m \u001b[0;34m=\u001b[0m \u001b[0meigD\u001b[0m\u001b[0;34m[\u001b[0m\u001b[0mk\u001b[0m\u001b[0;34m,\u001b[0m\u001b[0;34m:\u001b[0m\u001b[0;34m]\u001b[0m\u001b[0;34m,\u001b[0m \u001b[0mQ\u001b[0m \u001b[0;34m=\u001b[0m \u001b[0meigQ\u001b[0m\u001b[0;34m[\u001b[0m\u001b[0mk\u001b[0m\u001b[0;34m,\u001b[0m\u001b[0;34m:\u001b[0m\u001b[0;34m,\u001b[0m\u001b[0;34m:\u001b[0m\u001b[0;34m]\u001b[0m\u001b[0;34m)\u001b[0m\u001b[0;34m\u001b[0m\u001b[0;34m\u001b[0m\u001b[0m\n\u001b[0m\u001b[1;32m    170\u001b[0m \u001b[0;34m\u001b[0m\u001b[0m\n\u001b[1;32m    171\u001b[0m         \u001b[0;31m# Theta Update\u001b[0m\u001b[0;34m\u001b[0m\u001b[0;34m\u001b[0m\u001b[0m\n",
      "\u001b[0;32m~/miniconda3/envs/brains/lib/python3.9/site-packages/numba/core/serialize.py\u001b[0m in \u001b[0;36m_numba_unpickle\u001b[0;34m(address, bytedata, hashed)\u001b[0m\n\u001b[1;32m     27\u001b[0m \u001b[0;34m\u001b[0m\u001b[0m\n\u001b[1;32m     28\u001b[0m \u001b[0;34m\u001b[0m\u001b[0m\n\u001b[0;32m---> 29\u001b[0;31m \u001b[0;32mdef\u001b[0m \u001b[0m_numba_unpickle\u001b[0m\u001b[0;34m(\u001b[0m\u001b[0maddress\u001b[0m\u001b[0;34m,\u001b[0m \u001b[0mbytedata\u001b[0m\u001b[0;34m,\u001b[0m \u001b[0mhashed\u001b[0m\u001b[0;34m)\u001b[0m\u001b[0;34m:\u001b[0m\u001b[0;34m\u001b[0m\u001b[0;34m\u001b[0m\u001b[0m\n\u001b[0m\u001b[1;32m     30\u001b[0m     \"\"\"Used by `numba_unpickle` from _helperlib.c\n\u001b[1;32m     31\u001b[0m \u001b[0;34m\u001b[0m\u001b[0m\n",
      "\u001b[0;31mKeyboardInterrupt\u001b[0m: "
     ]
    }
   ],
   "source": [
    "P.model_selection(modelselect_params = modelselect_params, method = 'eBIC', gamma = gamma)\n",
    "\n",
    "# regularization parameters are set to the best ones found during model selection\n",
    "print(P.reg_params)"
   ]
  },
  {
   "cell_type": "code",
   "execution_count": null,
   "id": "cff86b7f-d6f0-4e69-8d94-88677c2e1b81",
   "metadata": {
    "jupyter": {
     "source_hidden": true
    },
    "tags": []
   },
   "outputs": [],
   "source": [
    "P.solution.precision_"
   ]
  },
  {
   "cell_type": "code",
   "execution_count": null,
   "id": "f83c67bf-99e0-43cf-b04b-5da0d73519d5",
   "metadata": {
    "jupyter": {
     "source_hidden": true
    },
    "tags": []
   },
   "outputs": [],
   "source": [
    "sgl_stats = pd.DataFrame({'SP': list(P.modelselect_stats[\"SP\"]), 'lambda': list(P.modelselect_stats[\"LAMBDA\"])})\n",
    "sgl_stats[sgl_stats[\"lambda\"] == 0.14237976633439411]"
   ]
  },
  {
   "cell_type": "markdown",
   "id": "9b7224e4-00bf-434e-aa21-1b615b9bd6d0",
   "metadata": {
    "jupyter": {
     "source_hidden": true
    },
    "tags": []
   },
   "source": [
    "Opt lambda is 0.142 and corresponding sparsity level is 8.5%"
   ]
  },
  {
   "cell_type": "markdown",
   "id": "3caf018b-eaf0-43ac-8101-21fd0791fd88",
   "metadata": {
    "jupyter": {
     "source_hidden": true
    },
    "tags": []
   },
   "source": [
    "### SGL + low rank"
   ]
  },
  {
   "cell_type": "code",
   "execution_count": null,
   "id": "da3c4ef9-18bb-4826-877d-fdd0e3e4a09b",
   "metadata": {},
   "outputs": [],
   "source": [
    "opt_lambda = [0.142379]\n",
    "# mu1_range = np.logspace(0.8, 0.9, 30)\n",
    "opt_mu = [7.94]\n",
    "\n",
    "N = sub_corr.shape[1]"
   ]
  },
  {
   "cell_type": "code",
   "execution_count": null,
   "id": "c53f7d46-eddf-45a0-84ca-e85aafcc7d7d",
   "metadata": {
    "jupyter": {
     "source_hidden": true
    },
    "tags": []
   },
   "outputs": [],
   "source": [
    "P_low = glasso_problem(sub_corr[0,:], N, reg_params = {'lambda1': opt_lambda, 'mu1_range': opt_mu},\n",
    "                       latent = True, do_scaling = False)\n",
    "print(P_low)"
   ]
  },
  {
   "cell_type": "code",
   "execution_count": null,
   "id": "9a8af825-e228-42b3-ba86-751e4791ffd5",
   "metadata": {
    "jupyter": {
     "source_hidden": true
    },
    "tags": []
   },
   "outputs": [],
   "source": [
    "modelselect_params = {'lambda1_range': opt_lambda, 'mu1_range': opt_mu}"
   ]
  },
  {
   "cell_type": "code",
   "execution_count": null,
   "id": "7524abce-8419-4f8b-ad21-8083d2975fd1",
   "metadata": {},
   "outputs": [],
   "source": [
    "P_low.model_selection(modelselect_params = modelselect_params, method = 'eBIC', gamma = 0.3)\n",
    "\n",
    "print(P_low.reg_params)"
   ]
  },
  {
   "cell_type": "code",
   "execution_count": null,
   "id": "220e73c3-6dcd-4d4c-89bb-c001b1f2c20a",
   "metadata": {},
   "outputs": [],
   "source": [
    "P_low.modelselect_stats"
   ]
  },
  {
   "cell_type": "markdown",
   "id": "874fa151-c1ed-4d56-855a-1453e4bec236",
   "metadata": {
    "jupyter": {
     "source_hidden": true
    },
    "tags": []
   },
   "source": [
    "# 10 Samples"
   ]
  },
  {
   "cell_type": "markdown",
   "id": "88221a53-9a63-4e3c-81c9-7a043eea86cb",
   "metadata": {},
   "source": [
    "### SGL over separate 10 samples"
   ]
  },
  {
   "cell_type": "code",
   "execution_count": null,
   "id": "a198e7a9-25fa-4eb6-b424-9e07bb8f8c33",
   "metadata": {
    "jupyter": {
     "source_hidden": true
    },
    "tags": []
   },
   "outputs": [],
   "source": [
    "lambda1_range = np.logspace(-0.3, -1, 10)\n",
    "N = sub_corr.shape[1]"
   ]
  },
  {
   "cell_type": "code",
   "execution_count": null,
   "id": "b4aa8992-f2f9-47ac-9ef0-44702a153705",
   "metadata": {
    "jupyter": {
     "source_hidden": true
    },
    "tags": []
   },
   "outputs": [],
   "source": [
    "est_uniform, est_indv, statistics = K_single_grid(sub_corr[:9, :], lambda1_range, N,\n",
    "                                                  method = 'eBIC', gamma = gamma, \n",
    "                                                  latent = False, use_block = True)"
   ]
  },
  {
   "cell_type": "code",
   "execution_count": null,
   "id": "9e5c5476-3d92-4187-8aee-c243c71c3a4b",
   "metadata": {
    "jupyter": {
     "source_hidden": true
    },
    "tags": []
   },
   "outputs": [],
   "source": [
    "statistics"
   ]
  },
  {
   "cell_type": "code",
   "execution_count": null,
   "id": "3829230f-2452-4849-86fa-bd71323f1f86",
   "metadata": {},
   "outputs": [],
   "source": [
    "Theta = est_uniform[\"Theta\"]\n",
    "\n",
    "Theta.shape"
   ]
  },
  {
   "cell_type": "code",
   "execution_count": null,
   "id": "f95e1d7d-ae75-417d-a78f-39b12ad1854d",
   "metadata": {
    "tags": []
   },
   "outputs": [],
   "source": [
    "K = Theta.shape[0]\n",
    "\n",
    "\n",
    "for i in range(0, K):\n",
    "    fig, axes = plt.subplots(1, 2, sharex=True, figsize=(30,30))\n",
    "\n",
    "    ax = sns.heatmap(sub_corr[i, :], ax=axes[0], center=0, vmin = -0.5, vmax = 0.5, \n",
    "                     square = True, cbar = False, cmap = \"coolwarm\", xticklabels=False, yticklabels=False)\n",
    "    ax.set_title('Covariance')\n",
    "    \n",
    "    ax = sns.heatmap(Theta[i, :], ax=axes[1], center=0, vmin = -0.5, vmax = 0.5,\n",
    "                     square = True, cbar = False, cmap = \"coolwarm\", xticklabels=False, yticklabels=False)\n",
    "    ax.set_title('Inverse Covariance')\n",
    "    \n",
    "    fig.show()\n",
    "    \n",
    "    # fig.savefig(\"plots/SGL_plots/SGL_lowrank_heatmap{0}.png\".format(i))"
   ]
  },
  {
   "cell_type": "markdown",
   "id": "2a5fce08-272b-466e-961e-255ccee6beed",
   "metadata": {},
   "source": [
    "## The patterns are somewhat similar, it means we can solve group graphical lasso"
   ]
  },
  {
   "cell_type": "markdown",
   "id": "ca25c3cb-ab34-4868-8f59-160dcdc3f7a5",
   "metadata": {},
   "source": [
    "### SGL + low-rank over separate 10 samples"
   ]
  },
  {
   "cell_type": "code",
   "execution_count": null,
   "id": "e3b7b723-eeed-4c60-b6e2-d31709904146",
   "metadata": {},
   "outputs": [],
   "source": [
    "lambda1_range = [0.17, 0.14237977, 0.05]\n",
    "mu1_range = [5, 7.94, 10]\n",
    "gamma = 0.3\n",
    "\n",
    "N = sub_corr.shape[1]"
   ]
  },
  {
   "cell_type": "code",
   "execution_count": null,
   "id": "6a362a15-77d8-43dc-bc43-4321958ad7f6",
   "metadata": {
    "tags": []
   },
   "outputs": [],
   "source": [
    "low_est_uniform, low_est_indv, low_statistics = K_single_grid(sub_corr[:9, :], lambda1_range, N,\n",
    "                                                  mu_range = mu1_range,\n",
    "                                                  method = 'eBIC', gamma = gamma, \n",
    "                                                  latent = True, use_block = True)"
   ]
  },
  {
   "cell_type": "code",
   "execution_count": null,
   "id": "49de6fe3-5a83-4815-9363-8b347464ef2f",
   "metadata": {
    "jupyter": {
     "source_hidden": true
    },
    "tags": []
   },
   "outputs": [],
   "source": [
    "low_statistics"
   ]
  },
  {
   "cell_type": "markdown",
   "id": "b34433a3-a07c-4976-a9e9-6034041c1c47",
   "metadata": {},
   "source": [
    "The solver always picks the largest mu until rank becomes 0, so we make a conclusion there are no latent variables?"
   ]
  },
  {
   "cell_type": "code",
   "execution_count": null,
   "id": "afd637aa-9c01-4743-b173-de0b0792c4af",
   "metadata": {},
   "outputs": [],
   "source": [
    "Theta = low_est_uniform[\"Theta\"]\n",
    "L = low_est_uniform[\"L\"]\n",
    "\n",
    "Theta.shape, L.shape"
   ]
  },
  {
   "cell_type": "code",
   "execution_count": null,
   "id": "8667ba6f-cdc4-4ea4-92b1-cb2459804805",
   "metadata": {
    "tags": []
   },
   "outputs": [],
   "source": [
    "K = Theta.shape[0]\n",
    "\n",
    "\n",
    "for i in range(0, K):\n",
    "    fig, axes = plt.subplots(1, 3, sharex=True, figsize=(30,30))\n",
    "\n",
    "    ax = sns.heatmap(sub_corr[i, :], ax=axes[0], center=0, vmin = -0.5, vmax = 0.5, \n",
    "                     square = True, cbar = False, cmap = \"coolwarm\", xticklabels=False, yticklabels=False)\n",
    "    ax.set_title('Covariance')\n",
    "    \n",
    "    ax = sns.heatmap(Theta[i, :], ax=axes[1], center=0, vmin = -0.5, vmax = 0.5,\n",
    "                     square = True, cbar = False, cmap = \"coolwarm\", xticklabels=False, yticklabels=False)\n",
    "    ax.set_title('Inverse Covariance')\n",
    "    \n",
    "    ax = sns.heatmap(L[i, :], ax=axes[2], center=0, vmin = -0.5, vmax = 0.5,\n",
    "                 square = True, cbar = False, cmap = \"coolwarm\", xticklabels=False, yticklabels=False)\n",
    "    ax.set_title('Low-rank')\n",
    "    \n",
    "    fig.show()\n",
    "    \n",
    "    # fig.savefig(\"plots/SGL_plots/SGL_lowrank_heatmap{0}.png\".format(i))"
   ]
  },
  {
   "cell_type": "code",
   "execution_count": null,
   "id": "9ddf9135-929b-430c-865d-0a18c643c2d4",
   "metadata": {
    "tags": []
   },
   "outputs": [],
   "source": [
    "statistics"
   ]
  },
  {
   "cell_type": "markdown",
   "id": "124bf8b7-18b2-4cd3-bc6e-6d1b533b1a7d",
   "metadata": {},
   "source": [
    "## Low-rank matrix is empty, so no latent confouners!"
   ]
  },
  {
   "cell_type": "markdown",
   "id": "2276ff46-0beb-40e4-93f6-aa65efaf2dea",
   "metadata": {},
   "source": [
    "### MGL (Group Graphical Lasso)"
   ]
  },
  {
   "cell_type": "code",
   "execution_count": null,
   "id": "604fabfb-1e84-4fec-a66e-d7c062fdfeaf",
   "metadata": {},
   "outputs": [],
   "source": [
    "# lambda1_range = [0.17, 0.14237977, 0.1]\n",
    "lambda1_range = np.logspace(-0.8, -1.1, 5)\n",
    "lambda2_range = np.logspace(-0.8, -1.1, 5)\n",
    "N = sub_corr.shape[1]"
   ]
  },
  {
   "cell_type": "code",
   "execution_count": null,
   "id": "30c37966-e28b-45ad-87bf-92fb5862fc57",
   "metadata": {},
   "outputs": [],
   "source": [
    "P_10 = glasso_problem(sub_corr[:9,:], N, reg_params = {'lambda1_range': lambda1_range, 'lambda2_range': lambda2_range}, \n",
    "                      latent = False, do_scaling = False)\n",
    "print(P_10)"
   ]
  },
  {
   "cell_type": "code",
   "execution_count": null,
   "id": "6463177d-d0d1-48d3-aa90-761056316947",
   "metadata": {},
   "outputs": [],
   "source": [
    "modelselect_params = {'lambda1_range': lambda1_range, 'lambda2_range': lambda2_range}\n",
    "gamma = 0.3"
   ]
  },
  {
   "cell_type": "code",
   "execution_count": null,
   "id": "a9036d9e-746f-4329-84ad-9cd3d78a0431",
   "metadata": {},
   "outputs": [],
   "source": [
    "modelselect_params"
   ]
  },
  {
   "cell_type": "code",
   "execution_count": null,
   "id": "31f2646b-9e6f-4055-a214-22bfcabcf494",
   "metadata": {
    "tags": []
   },
   "outputs": [],
   "source": [
    "P_10.model_selection(modelselect_params = modelselect_params, method = 'eBIC', gamma = gamma)\n",
    "\n",
    "# regularization parameters are set to the best ones found during model selection\n",
    "print(P_10.reg_params)"
   ]
  },
  {
   "cell_type": "code",
   "execution_count": null,
   "id": "6e6c665d-6b49-4fdd-8211-24c3a8d47932",
   "metadata": {},
   "outputs": [],
   "source": [
    "np.logspace(-0.8, -1.1, 10)"
   ]
  },
  {
   "cell_type": "code",
   "execution_count": null,
   "id": "0a4a8b4d-f94d-4558-a05b-cc058640a08f",
   "metadata": {
    "tags": []
   },
   "outputs": [],
   "source": [
    "statistics_10 = P_10.modelselect_stats"
   ]
  },
  {
   "cell_type": "code",
   "execution_count": null,
   "id": "76db3d69-5640-4762-a069-f0129d53c07c",
   "metadata": {},
   "outputs": [],
   "source": [
    "P_10.solve()"
   ]
  },
  {
   "cell_type": "code",
   "execution_count": null,
   "id": "349de764-9abc-43b6-9dc9-70453156b3cb",
   "metadata": {},
   "outputs": [],
   "source": [
    "P_10.solution.precision_.shape"
   ]
  },
  {
   "cell_type": "code",
   "execution_count": null,
   "id": "502bc778-4d55-4a42-a99c-0d7bf9a1e0d7",
   "metadata": {
    "tags": []
   },
   "outputs": [],
   "source": [
    "K = P_10.solution.precision_.shape[0]\n",
    "\n",
    "\n",
    "for i in range(0, K):\n",
    "    fig, axes = plt.subplots(1, 2, sharex=True, figsize=(30,30))\n",
    "\n",
    "    ax = sns.heatmap(sub_corr[i, :], ax=axes[0], center=0, vmin = -0.5, vmax = 0.5, \n",
    "                     square = True, cbar = False, cmap = \"coolwarm\", xticklabels=False, yticklabels=False)\n",
    "    ax.set_title('Covariance')\n",
    "    \n",
    "    ax = sns.heatmap(P_10.solution.precision_[i, :], ax=axes[1], center=0, vmin = -0.5, vmax = 0.5,\n",
    "                     square = True, cbar = False, cmap = \"coolwarm\", xticklabels=False, yticklabels=False)\n",
    "    ax.set_title('Inverse Covariance')\n",
    "    \n",
    "    fig.show()"
   ]
  },
  {
   "cell_type": "code",
   "execution_count": null,
   "id": "ca2b241f-2336-43ea-8979-4996a4f50623",
   "metadata": {
    "jupyter": {
     "source_hidden": true
    },
    "tags": []
   },
   "outputs": [],
   "source": [
    "statistics_10['L1'].shape, statistics_10['L2'].shape, statistics_10['BIC'][0.3].shape"
   ]
  },
  {
   "cell_type": "code",
   "execution_count": null,
   "id": "488b5274-1df4-42f0-b460-a6f29c03e7da",
   "metadata": {},
   "outputs": [],
   "source": [
    "statistics_10['BIC'][0.3].shape"
   ]
  },
  {
   "cell_type": "code",
   "execution_count": null,
   "id": "223b13c8-9e65-4762-bb22-33c611fbb424",
   "metadata": {},
   "outputs": [],
   "source": [
    "#plot for GGL\n",
    "fig = surface_plot(statistics_10['L1'], statistics_10['L2'], statistics_10['BIC'][0.7], name = 'eBIC')\n",
    "fig.savefig(\"plots/GGL_l1_l2_10.png\")"
   ]
  }
 ],
 "metadata": {
  "kernelspec": {
   "display_name": "Python 3 (ipykernel)",
   "language": "python",
   "name": "python3"
  },
  "language_info": {
   "codemirror_mode": {
    "name": "ipython",
    "version": 3
   },
   "file_extension": ".py",
   "mimetype": "text/x-python",
   "name": "python",
   "nbconvert_exporter": "python",
   "pygments_lexer": "ipython3",
   "version": "3.9.7"
  }
 },
 "nbformat": 4,
 "nbformat_minor": 5
}
