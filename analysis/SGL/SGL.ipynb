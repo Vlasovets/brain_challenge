{
 "cells": [
  {
   "cell_type": "code",
   "execution_count": null,
   "id": "4107de80-001c-488d-9115-5951f771986d",
   "metadata": {},
   "outputs": [],
   "source": [
    "import gglasso\n",
    "import pickle\n",
    "import numpy as np\n",
    "import pandas as pd\n",
    "import seaborn as sns\n",
    "import scipy as sp\n",
    "import os\n",
    "import matplotlib.pyplot as plt\n",
    "\n",
    "from numpy import genfromtxt\n",
    "\n",
    "from numpy.linalg import matrix_rank\n",
    "from matplotlib.pyplot import figure\n",
    "from scipy import stats\n",
    "from scipy.linalg import eigh\n",
    "from numpy import genfromtxt\n",
    "from datetime import datetime\n",
    "\n",
    "from gglasso.solver.admm_solver import ADMM_MGL\n",
    "from gglasso.problem import glasso_problem\n",
    "\n",
    "from gglasso.helper.data_generation import generate_precision_matrix, group_power_network, sample_covariance_matrix\n",
    "from gglasso.helper.basic_linalg import adjacency_matrix\n",
    "from gglasso.helper.data_generation import time_varying_power_network, sample_covariance_matrix\n",
    "from gglasso.helper.experiment_helper import lambda_grid, discovery_rate, error\n",
    "from gglasso.helper.utils import get_K_identity\n",
    "from gglasso.helper.experiment_helper import plot_evolution, plot_deviation, surface_plot, single_heatmap_animation\n",
    "from gglasso.helper.model_selection import aic, ebic, K_single_grid"
   ]
  },
  {
   "cell_type": "code",
   "execution_count": null,
   "id": "b27339c6-3b4d-4c48-bce9-6ade1d948a36",
   "metadata": {},
   "outputs": [],
   "source": [
    "def calculate_edge_probablity(data=list, indices=list):\n",
    "    \n",
    "    P = np.zeros((436, 436))\n",
    "    \n",
    "    for i in indices:\n",
    "        x = data[i, :]\n",
    "        x = (x != 0).astype(int)\n",
    "\n",
    "        P = P + x\n",
    "    \n",
    "    P = P / len(indices)\n",
    "    \n",
    "    return pd.DataFrame(P)"
   ]
  },
  {
   "cell_type": "markdown",
   "id": "e7cc3982-33cf-4e9b-b5ad-f25a6951522c",
   "metadata": {},
   "source": [
    "### Read data"
   ]
  },
  {
   "cell_type": "markdown",
   "id": "baf5e632-fb81-4933-a2ba-93e37f0cbad8",
   "metadata": {},
   "source": [
    "#### Remove outliers"
   ]
  },
  {
   "cell_type": "markdown",
   "id": "37e59322-17ba-41ba-974e-6f23ebd228a5",
   "metadata": {},
   "source": [
    "The outliers are found after manual checking of SGL solution for all samples."
   ]
  },
  {
   "cell_type": "code",
   "execution_count": null,
   "id": "3f283d43-bd4d-4ece-a962-5186b804a4b9",
   "metadata": {},
   "outputs": [],
   "source": [
    "corr_all_ix = np.arange(0, 950)\n",
    "outliers_ix = [96, 144, 210, 522]\n",
    "\n",
    "corr_filtered_ix = np.array([i for i in corr_all_ix if i not in outliers_ix])\n",
    "corr_filtered_ix.shape"
   ]
  },
  {
   "cell_type": "code",
   "execution_count": null,
   "id": "7f009859-8012-48a1-932e-e0fdaf6792ab",
   "metadata": {},
   "outputs": [],
   "source": [
    "storage_dir = \"/lustre/groups/bds01/datasets/brains/\""
   ]
  },
  {
   "cell_type": "code",
   "execution_count": null,
   "id": "6742433a-8a36-40a2-8479-b16841bff8e3",
   "metadata": {},
   "outputs": [],
   "source": [
    "outliers = []\n",
    "\n",
    "for i in outliers_ix:\n",
    "    outliers.append(genfromtxt(storage_dir + \"corr_matrices/corr{0}.csv\".format(i), delimiter=','))\n",
    "\n",
    "    \n",
    "outliers = np.array(outliers)\n",
    "outliers.shape"
   ]
  },
  {
   "cell_type": "code",
   "execution_count": null,
   "id": "a3ae5916-16a6-4e28-8495-bbe83723383e",
   "metadata": {
    "tags": []
   },
   "outputs": [],
   "source": [
    "fig, axes = plt.subplots(2, 2, sharex=True, figsize=(30,30))\n",
    "\n",
    "ax = sns.heatmap(outliers[0, :], ax=axes[0][0], center=0, vmin = -0.5, vmax = 0.5, \n",
    "                 square = True, cbar = False, cmap = \"coolwarm\", xticklabels=False, yticklabels=False)\n",
    "ax.set_title('outlier_{0}'.format(outliers_ix[0]))\n",
    "\n",
    "ax = sns.heatmap(outliers[1, :], ax=axes[0][1], center=0, vmin = -0.5, vmax = 0.5,\n",
    "                 square = True, cbar = False, cmap = \"coolwarm\", xticklabels=False, yticklabels=False)\n",
    "ax.set_title('outlier_{0}'.format(outliers_ix[1]))\n",
    "\n",
    "ax = sns.heatmap(outliers[2, :], ax=axes[1][0], center=0, vmin = -0.5, vmax = 0.5,\n",
    "                 square = True, cbar = False, cmap = \"coolwarm\", xticklabels=False, yticklabels=False)\n",
    "ax.set_title('outlier_{0}'.format(outliers_ix[2]))\n",
    "\n",
    "ax = sns.heatmap(outliers[3, :], ax=axes[1][1], center=0, vmin = -0.5, vmax = 0.5,\n",
    "                 square = True, cbar = False, cmap = \"coolwarm\", xticklabels=False, yticklabels=False)\n",
    "ax.set_title('outlier_{0}'.format(outliers_ix[3]))\n",
    "    \n",
    "fig.savefig(\"../../plots/outliers_heatmap.png\")"
   ]
  },
  {
   "cell_type": "markdown",
   "id": "9c658493-bb62-47e6-b171-be35b326e7fc",
   "metadata": {},
   "source": [
    "### HMGU cluster"
   ]
  },
  {
   "cell_type": "code",
   "execution_count": null,
   "id": "cf0182eb-f63f-4fe3-8e0c-4382b145d962",
   "metadata": {},
   "outputs": [],
   "source": [
    "### on cloud\n",
    "corr = []\n",
    "\n",
    "for i in corr_filtered_ix[:10]:\n",
    "    corr.append(genfromtxt(storage_dir + \"corr_matrices/corr{0}.csv\".format(i), delimiter=','))\n",
    "\n",
    "    \n",
    "corr = np.array(corr)\n",
    "corr.shape"
   ]
  },
  {
   "cell_type": "markdown",
   "id": "c66f1f51-04ce-487c-a763-2b8b8a711794",
   "metadata": {
    "jp-MarkdownHeadingCollapsed": true,
    "tags": []
   },
   "source": [
    "### On premisis"
   ]
  },
  {
   "cell_type": "code",
   "execution_count": null,
   "id": "656c4d78-7524-4aa5-8cf3-d3ce954cedb4",
   "metadata": {},
   "outputs": [],
   "source": [
    "start = 0\n",
    "stop = 50\n",
    "\n",
    "sub_corr = []\n",
    "\n",
    "### on premisis\n",
    "for i in range(start, stop):\n",
    "    sub_corr.append(genfromtxt(\"../../data/sub_corr50/sub_corr{0}.csv\".format(i), delimiter=','))\n",
    "\n",
    "    \n",
    "sub_corr = np.array(sub_corr)\n",
    "sub_corr.shape"
   ]
  },
  {
   "cell_type": "markdown",
   "id": "a2f452b3-2ce4-43ec-9391-ca5ed4984216",
   "metadata": {},
   "source": [
    "### Single GL"
   ]
  },
  {
   "cell_type": "markdown",
   "id": "483fa83e-7da6-4376-ae70-28b40e6eae8f",
   "metadata": {
    "jp-MarkdownHeadingCollapsed": true,
    "tags": []
   },
   "source": [
    "### On premises"
   ]
  },
  {
   "cell_type": "code",
   "execution_count": null,
   "id": "ca203a79-a939-4743-bc7d-7458b030a308",
   "metadata": {
    "tags": []
   },
   "outputs": [],
   "source": [
    "N = [sub_corr.shape[1]]*sub_corr.shape[0]\n",
    "lambda1_range = np.logspace(0, -3, 8)\n",
    "print(\"Lambda range: {0}\".format(lambda1_range))\n",
    "\n",
    "est_uniform, est_indv, statistics = K_single_grid(sub_corr, lambda1_range, N, \n",
    "                                                  method = 'eBIC', gamma = 0.3, \n",
    "                                                  latent = False, use_block = True)\n",
    "\n",
    "\n",
    "K = \"50\"\n",
    "\n",
    "if not os.path.exists(\"../data/est_uniform{0}/\".format(K)):\n",
    "    os.mkdir(\"../data/est_uniform{0}/\".format(K))\n",
    "    \n",
    "if not os.path.exists(\"../data/est_individ{0}/\".format(K)):\n",
    "    os.mkdir(\"../data/est_individ{0}/\".format(K))\n",
    "\n",
    "# dump matrices into csv\n",
    "for i in range(start, stop):\n",
    "    np.savetxt(\"../data/est_uniform{0}/est_uniform{1}.csv\".format(K, i), est_uniform[\"Theta\"][i], \n",
    "               delimiter=\",\", header='')\n",
    "    np.savetxt(\"../data/est_individ{0}/est_individ{1}.csv\".format(K, i), est_indv[\"Theta\"][i], \n",
    "               delimiter=\",\", header='')\n",
    "    \n",
    "with open(\"../data/statistics{0}.txt\".format(K), 'w') as f:\n",
    "    print(statistics, file=f)"
   ]
  },
  {
   "cell_type": "markdown",
   "id": "d8c72963-41dc-4a97-b12d-d0622932a002",
   "metadata": {
    "tags": []
   },
   "source": [
    "### HMGU cluster"
   ]
  },
  {
   "cell_type": "code",
   "execution_count": null,
   "id": "e33da049-2251-4c1f-a5f1-9ebe5f206ede",
   "metadata": {},
   "outputs": [],
   "source": [
    "lambda1_range = np.logspace(-0.9, -1.5, 10)\n",
    "lambda1_range"
   ]
  },
  {
   "cell_type": "code",
   "execution_count": null,
   "id": "ccd8de7a-4c52-4401-8b1e-a90ea85c6f51",
   "metadata": {},
   "outputs": [],
   "source": [
    "K = len(corr)\n",
    "N = K*[corr.shape[1]]"
   ]
  },
  {
   "cell_type": "code",
   "execution_count": null,
   "id": "a7dd5be2-3006-4ea3-b26c-970ea9496ad0",
   "metadata": {},
   "outputs": [],
   "source": [
    "start_time = datetime.now()\n",
    "\n",
    "est_uniform, est_indv, statistics = K_single_grid(corr[:2, :], lambda1_range, N[:2], \n",
    "                                                  method = 'eBIC', gamma = 0.3, \n",
    "                                                  latent = False, use_block = True)\n",
    "\n",
    "\n",
    "end_time = datetime.now()\n",
    "\n",
    "run_time = end_time - start_time\n",
    "\n",
    "statistics['time'] = run_time\n",
    "print(\"--- TIME: {0} ---\".format(run_time))"
   ]
  },
  {
   "cell_type": "code",
   "execution_count": null,
   "id": "0845ebaf-1ec2-4e6f-b3e1-d0c96c31323b",
   "metadata": {},
   "outputs": [],
   "source": [
    "with open('statistics_SGL_0_300.txt', 'w') as f:\n",
    "    print(statistics, file=f)"
   ]
  },
  {
   "cell_type": "code",
   "execution_count": null,
   "id": "ba2fe81e-0f2e-42ba-8b3d-a478d9d30ad9",
   "metadata": {},
   "outputs": [],
   "source": [
    "K = est_uniform[\"Theta\"].shape[0]"
   ]
  },
  {
   "cell_type": "code",
   "execution_count": null,
   "id": "b38fe120-4801-4db9-ac9a-282ff436f163",
   "metadata": {},
   "outputs": [],
   "source": [
    "if not os.path.exists(storage_dir + \"/est_uniform_test/\"):\n",
    "    os.makedirs(storage_dir + \"/est_uniform_test/\")\n",
    "    \n",
    "if not os.path.exists(storage_dir + \"/est_individ_test/\"):\n",
    "    os.makedirs(storage_dir + \"/est_individ_test/\")"
   ]
  },
  {
   "cell_type": "code",
   "execution_count": null,
   "id": "381ab764-afbf-4ce0-99c7-142d58794f37",
   "metadata": {},
   "outputs": [],
   "source": [
    "# dump matrices into csv\n",
    "for i in corr_filtered_ix[:2]:\n",
    "    np.savetxt(storage_dir + \"/est_uniform_test/est_uniform{0}.csv\".format(i), est_uniform[\"Theta\"][i], \n",
    "               delimiter=\",\", header='')\n",
    "    np.savetxt(storage_dir + \"/est_individ_test/est_individ{0}.csv\".format(i), est_indv[\"Theta\"][i], \n",
    "               delimiter=\",\", header='')"
   ]
  },
  {
   "cell_type": "code",
   "execution_count": null,
   "id": "34d48550-b266-4365-8927-7071a58900ee",
   "metadata": {},
   "outputs": [],
   "source": [
    "# !jupyter nbconvert --to script --no-prompt SGL.ipynb"
   ]
  },
  {
   "cell_type": "markdown",
   "id": "411d8069-b901-4d1d-aa39-81a5c5292be6",
   "metadata": {},
   "source": [
    "### Read solution"
   ]
  },
  {
   "cell_type": "code",
   "execution_count": null,
   "id": "baddfa35-230f-418d-8ea6-521b13d148dd",
   "metadata": {},
   "outputs": [],
   "source": [
    "corr = []\n",
    "sol = []\n",
    "\n",
    "for i in corr_filtered_ix:\n",
    "    corr.append(genfromtxt(storage_dir + \"/corr_matrices/corr{0}.csv\".format(i), delimiter=','))\n",
    "    sol.append(genfromtxt(storage_dir + \"/est_uniform/est_uniform{0}.csv\".format(i), delimiter=','))"
   ]
  },
  {
   "cell_type": "code",
   "execution_count": null,
   "id": "701b47ce-bd79-4451-84d5-3005d673a549",
   "metadata": {},
   "outputs": [],
   "source": [
    "sol = np.array(sol)\n",
    "corr = np.array(corr)\n",
    "corr.shape, sol.shape"
   ]
  },
  {
   "cell_type": "markdown",
   "id": "5694d6f0-313b-4789-a522-9be7fd5b5736",
   "metadata": {},
   "source": [
    "### Plot the solution"
   ]
  },
  {
   "cell_type": "code",
   "execution_count": null,
   "id": "13b00095-3c52-4b6f-aa23-52b4472c5004",
   "metadata": {
    "tags": []
   },
   "outputs": [],
   "source": [
    "K = sol.shape[0]\n",
    "\n",
    "\n",
    "for i in range(0, 2):\n",
    "    fig, axes = plt.subplots(1, 2, sharex=True, figsize=(30,30))\n",
    "    \n",
    "    ax = sns.heatmap(corr[i, :], ax=axes[0], center=0, vmin = -0.5, vmax = 0.5, \n",
    "                     square = True, cbar = False, cmap = \"coolwarm\", xticklabels=False, yticklabels=False)\n",
    "    ax.set_title('Covariance')\n",
    "    \n",
    "    ax = sns.heatmap(sol[i, :], ax=axes[1], center=0, vmin = -0.5, vmax = 0.5,\n",
    "                     square = True, cbar = False, cmap = \"coolwarm\", xticklabels=False, yticklabels=False)\n",
    "    ax.set_title('Inverse Covariance')\n",
    "    \n",
    "    fig.show()\n",
    "    \n",
    "    #fig.savefig(\"/storage/groups/bds01/datasets/brains/plots/SGL_plots/SGL_heatmap{0}.png\".format(i))"
   ]
  },
  {
   "cell_type": "code",
   "execution_count": null,
   "id": "668e8f3e-b912-491d-bde2-ae76e6897373",
   "metadata": {},
   "outputs": [],
   "source": [
    "sex = pd.read_csv(storage_dir + \"sex.csv\")"
   ]
  },
  {
   "cell_type": "code",
   "execution_count": null,
   "id": "3c44cbb8-5a28-4415-9572-8ab84527fa18",
   "metadata": {},
   "outputs": [],
   "source": [
    "print(\"The sex of {0} people - unknown (test set)\".format(sex[\"sex_f0_m1\"].isna().sum()))"
   ]
  },
  {
   "cell_type": "code",
   "execution_count": null,
   "id": "c7d6a8e9-5a4e-40d9-955e-9cb26370f52b",
   "metadata": {},
   "outputs": [],
   "source": [
    "sex = sex.reset_index()\n",
    "\n",
    "male_ixs = np.array(sex[sex[\"sex_f0_m1\"] == 1.0][\"index\"])\n",
    "female_ixs = np.array(sex[sex[\"sex_f0_m1\"] == 0.0][\"index\"])\n",
    "\n",
    "male_ixs.shape, female_ixs.shape"
   ]
  },
  {
   "cell_type": "code",
   "execution_count": null,
   "id": "f73ad84d-1712-4c50-886e-b9dae508fc03",
   "metadata": {
    "tags": []
   },
   "outputs": [],
   "source": [
    "P_male = calculate_edge_probablity(data=sol, indices=male_ixs)\n",
    "P_female = calculate_edge_probablity(data=sol, indices=female_ixs)"
   ]
  },
  {
   "cell_type": "markdown",
   "id": "0c87d237-02ef-461e-8867-35450f3cf5e6",
   "metadata": {},
   "source": [
    "Set probability threshold = 0.8"
   ]
  },
  {
   "cell_type": "code",
   "execution_count": null,
   "id": "a23568c1-d744-45d6-bf92-b2100cc3a3e3",
   "metadata": {},
   "outputs": [],
   "source": [
    "P_male[P_male < 0.8] = 0\n",
    "P_female[P_female < 0.8] = 0"
   ]
  },
  {
   "cell_type": "code",
   "execution_count": null,
   "id": "44560274-99fd-4e4e-9b25-1106b6564e40",
   "metadata": {},
   "outputs": [],
   "source": [
    "plt.figure(figsize=(16,16))\n",
    "ax = sns.heatmap(P_male, center=0, vmin = -0.5, vmax = 0.5, square = True, cbar = False, \n",
    "                 cmap = \"coolwarm\", xticklabels=False, yticklabels=False)\n",
    "\n",
    "\n",
    "fig, axes = plt.subplots(1, 2, sharex=True, figsize=(30,30))\n",
    "\n",
    "ax = sns.heatmap(P_male, ax=axes[0], center=0, vmin = -0.5, vmax = 0.5, \n",
    "                 square = True, cbar = False, cmap = \"coolwarm\", xticklabels=False, yticklabels=False)\n",
    "ax.set_title(\"Male's connectivity network\")\n",
    "\n",
    "ax = sns.heatmap(P_female, ax=axes[1], center=0, vmin = -0.5, vmax = 0.5,\n",
    "                 square = True, cbar = False, cmap = \"coolwarm\", xticklabels=False, yticklabels=False)\n",
    "ax.set_title(\"Female's connectivity network\")\n",
    "\n",
    "fig.show()\n",
    "\n",
    "fig.savefig(\"/mnt/home/icb/oleg.vlasovetc/brain_challenge/f-threshold-select/plots/connectivity_heatmap.png\")"
   ]
  }
 ],
 "metadata": {
  "kernelspec": {
   "display_name": "Python 3 (ipykernel)",
   "language": "python",
   "name": "python3"
  },
  "language_info": {
   "codemirror_mode": {
    "name": "ipython",
    "version": 3
   },
   "file_extension": ".py",
   "mimetype": "text/x-python",
   "name": "python",
   "nbconvert_exporter": "python",
   "pygments_lexer": "ipython3",
   "version": "3.9.7"
  }
 },
 "nbformat": 4,
 "nbformat_minor": 5
}
