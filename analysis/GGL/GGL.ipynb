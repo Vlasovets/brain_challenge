{
 "cells": [
  {
   "cell_type": "code",
   "execution_count": null,
   "id": "2388f46f-2c30-4f8c-9ed1-3e5b1490ed0e",
   "metadata": {},
   "outputs": [],
   "source": [
    "import gglasso\n",
    "import pickle\n",
    "import numpy as np\n",
    "import pandas as pd\n",
    "import seaborn as sns\n",
    "import os\n",
    "import matplotlib.pyplot as plt\n",
    "\n",
    "from numpy import genfromtxt\n",
    "from matplotlib.pyplot import figure\n",
    "from datetime import datetime\n",
    "from gglasso.problem import glasso_problem\n",
    "from gglasso.helper.model_selection import K_single_grid\n",
    "from gglasso.helper.experiment_helper import surface_plot, lambda_grid"
   ]
  },
  {
   "cell_type": "code",
   "execution_count": null,
   "id": "7d3c6d57-47f4-4ab7-8d1a-5dd28cfba49a",
   "metadata": {},
   "outputs": [],
   "source": [
    "def read_sub_corr(K=int, path=str):\n",
    "    sub_corr = []\n",
    "\n",
    "    for i in range(0, K):\n",
    "        sub_corr.append(genfromtxt(path.format(i), delimiter=','))\n",
    "\n",
    "    sub_corr = np.array(sub_corr)\n",
    "    \n",
    "    return sub_corr"
   ]
  },
  {
   "cell_type": "code",
   "execution_count": null,
   "id": "05a6484c-9045-4b30-830a-afd8ff6d7f97",
   "metadata": {},
   "outputs": [],
   "source": [
    "def plot_solution(solution = np.array, show_output = True, name = str):\n",
    "    \n",
    "    K = solution.shape[0]\n",
    "\n",
    "\n",
    "    for i in range(0, K):\n",
    "        fig, axes = plt.subplots(1, 2, sharex=True, figsize=(30,30))\n",
    "\n",
    "        ax = sns.heatmap(sub_corr[i, :], ax=axes[0], center=0, vmin = -0.5, vmax = 0.5, \n",
    "                         square = True, cbar = False, cmap = \"coolwarm\", xticklabels=False, yticklabels=False)\n",
    "        ax.set_title('Covariance')\n",
    "\n",
    "        ax = sns.heatmap(solution[i, :], ax=axes[1], center=0, vmin = -0.5, vmax = 0.5,\n",
    "                         square = True, cbar = False, cmap = \"coolwarm\", xticklabels=False, yticklabels=False)\n",
    "        ax.set_title('Inverse Covariance')\n",
    "\n",
    "        fig.savefig(\"../../plots/{0}_heatmap{1}.png\".format(name, i))"
   ]
  },
  {
   "cell_type": "markdown",
   "id": "1a013d62-dd7b-4777-83b8-d888ccc4ddd1",
   "metadata": {},
   "source": [
    "### Read data"
   ]
  },
  {
   "cell_type": "markdown",
   "id": "faf05e95-fde1-48bf-9211-a5c0b0ffb331",
   "metadata": {},
   "source": [
    "#### Remove outliers"
   ]
  },
  {
   "cell_type": "markdown",
   "id": "c56b35c4-f3db-4722-ab92-b2eacb5b2d52",
   "metadata": {},
   "source": [
    "The outliers are found after manual checking of SGL solution for all samples."
   ]
  },
  {
   "cell_type": "code",
   "execution_count": null,
   "id": "83dbc7d9-dd18-4ead-b117-1c8faeb14bcd",
   "metadata": {},
   "outputs": [],
   "source": [
    "corr_all_ix = np.arange(0, 950)\n",
    "outliers_ix = [96, 144, 210, 522]\n",
    "\n",
    "corr_filtered_ix = np.array([i for i in corr_all_ix if i not in outliers_ix])\n",
    "corr_filtered_ix.shape"
   ]
  },
  {
   "cell_type": "code",
   "execution_count": null,
   "id": "c5a9f333-50f2-4ff0-8042-f5b9f499c543",
   "metadata": {},
   "outputs": [],
   "source": [
    "storage_dir = \"/lustre/groups/bds01/datasets/brains/\""
   ]
  },
  {
   "cell_type": "code",
   "execution_count": null,
   "id": "f8da1707-3cba-4130-a4f8-f47f11d40e07",
   "metadata": {},
   "outputs": [],
   "source": [
    "outliers = []\n",
    "\n",
    "for i in outliers_ix:\n",
    "    outliers.append(genfromtxt(storage_dir + \"corr_matrices/corr{0}.csv\".format(i), delimiter=','))\n",
    "\n",
    "    \n",
    "outliers = np.array(outliers)\n",
    "outliers.shape"
   ]
  },
  {
   "cell_type": "markdown",
   "id": "725abc31-0a37-4de3-b134-bdd1727ab5f8",
   "metadata": {},
   "source": [
    "#### HMGU cluster"
   ]
  },
  {
   "cell_type": "code",
   "execution_count": null,
   "id": "0f0226e2-2860-493f-b5d0-b038f5eb8968",
   "metadata": {},
   "outputs": [],
   "source": [
    "corr = []\n",
    "\n",
    "for i in corr_filtered_ix[:50]:\n",
    "    corr.append(genfromtxt(storage_dir + \"corr_matrices/corr{0}.csv\".format(i), delimiter=','))\n",
    "\n",
    "    \n",
    "corr = np.array(corr)\n",
    "corr.shape"
   ]
  },
  {
   "cell_type": "markdown",
   "id": "6297ba93-5792-4da0-92e6-5859d530ea42",
   "metadata": {},
   "source": [
    "#### On premises"
   ]
  },
  {
   "cell_type": "code",
   "execution_count": null,
   "id": "1a7ea721-7e6f-4d09-a680-9069f501b3ca",
   "metadata": {},
   "outputs": [],
   "source": [
    "start = 0\n",
    "stop = 50\n",
    "\n",
    "sub_corr = []\n",
    "\n",
    "### on premisis\n",
    "for i in range(start, stop):\n",
    "    sub_corr.append(genfromtxt(\"../data/sub_corr50/sub_corr{0}.csv\".format(i), delimiter=','))\n",
    "\n",
    "    \n",
    "sub_corr = np.array(sub_corr)\n",
    "sub_corr.shape"
   ]
  },
  {
   "cell_type": "code",
   "execution_count": null,
   "id": "e4e1dc15-2d45-44d8-9201-7168eb115498",
   "metadata": {
    "tags": []
   },
   "outputs": [],
   "source": [
    "plot_solution(solution=sub_corr[:2,:], name=\"SGL\")"
   ]
  },
  {
   "cell_type": "markdown",
   "id": "010cd183-8084-40a2-8b70-5ab379696c10",
   "metadata": {},
   "source": [
    "### Group GL"
   ]
  },
  {
   "cell_type": "markdown",
   "id": "2cd1e7bb-2081-459f-9047-f332b1824bcb",
   "metadata": {
    "jupyter": {
     "source_hidden": true
    },
    "tags": []
   },
   "source": [
    "# GGL"
   ]
  },
  {
   "cell_type": "code",
   "execution_count": null,
   "id": "4bcdffd8-c0c7-458b-b723-9caabe50f436",
   "metadata": {},
   "outputs": [],
   "source": [
    "# N = 436\n",
    "N = 5\n",
    "gamma = 0.3\n",
    "\n",
    "# lambda1_range = np.logspace(0.5, -5, 5)\n",
    "# lambda2_range = np.logspace(0.1, -3, 3)\n",
    "\n",
    "lambda1_range = [0.89442719, 0.28284271, 0.08944272, 0.02828427, 0.00894427]\n",
    "lambda2_range = [0.31622777, 0.1, 0.03162278, 0.01, 0.00316228]"
   ]
  },
  {
   "cell_type": "code",
   "execution_count": null,
   "id": "7a932e3d-03c1-47c8-8aa9-162c732f719d",
   "metadata": {},
   "outputs": [],
   "source": [
    "P_50 = glasso_problem(corr, N, reg_params = {'lambda1_range': lambda1_range, 'lambda2_range': lambda2_range}, \n",
    "                      latent = False, do_scaling = False)"
   ]
  },
  {
   "cell_type": "code",
   "execution_count": null,
   "id": "7585a696-840c-40b0-9537-fdb279c07bf1",
   "metadata": {},
   "outputs": [],
   "source": [
    "modelselect_params = {'lambda1_range': lambda1_range, 'lambda2_range': lambda2_range}"
   ]
  },
  {
   "cell_type": "code",
   "execution_count": null,
   "id": "9a5a650a-723b-471c-b372-8fb07ac86c9b",
   "metadata": {},
   "outputs": [],
   "source": [
    "P_50.model_selection(modelselect_params = modelselect_params, method = 'eBIC', gamma = gamma)"
   ]
  },
  {
   "cell_type": "code",
   "execution_count": null,
   "id": "bd90cef4-8212-4355-9f6c-f598e24349e9",
   "metadata": {},
   "outputs": [],
   "source": [
    "sol = P_50.solution.precision_\n",
    "sol.shape"
   ]
  },
  {
   "cell_type": "code",
   "execution_count": null,
   "id": "f8a68ea4-f8e8-4d41-ba4e-e552af873f79",
   "metadata": {},
   "outputs": [],
   "source": [
    "with open('statistics_GGL.txt', 'w') as f:\n",
    "    print(P_50.modelselect_stats, file=f)"
   ]
  },
  {
   "cell_type": "code",
   "execution_count": null,
   "id": "435b99bc-db23-4e74-b65d-cad5eebb632f",
   "metadata": {},
   "outputs": [],
   "source": [
    "stats = P_50.modelselect_stats"
   ]
  },
  {
   "cell_type": "code",
   "execution_count": null,
   "id": "1aac9392-bba3-4472-bcb4-6bb0b6cf4b02",
   "metadata": {
    "tags": []
   },
   "outputs": [],
   "source": [
    "#plot for GGL\n",
    "fig = surface_plot(stats['L1'], stats['L2'], stats['BIC'][0.7], name = 'eBIC')\n",
    "fig.show()\n",
    "\n",
    "# fig.savefig(\"../../plots/eBIC.png\")"
   ]
  },
  {
   "cell_type": "markdown",
   "id": "711d25bb-5ada-41ed-a4bb-38300c9f17a7",
   "metadata": {},
   "source": [
    "## Never reach optimum"
   ]
  }
 ],
 "metadata": {
  "kernelspec": {
   "display_name": "Python 3 (ipykernel)",
   "language": "python",
   "name": "python3"
  },
  "language_info": {
   "codemirror_mode": {
    "name": "ipython",
    "version": 3
   },
   "file_extension": ".py",
   "mimetype": "text/x-python",
   "name": "python",
   "nbconvert_exporter": "python",
   "pygments_lexer": "ipython3",
   "version": "3.9.7"
  }
 },
 "nbformat": 4,
 "nbformat_minor": 5
}
