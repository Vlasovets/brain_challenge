{
 "cells": [
  {
   "cell_type": "code",
   "execution_count": null,
   "id": "4bb37bcd-69bb-4130-bad3-e14f4751949b",
   "metadata": {},
   "outputs": [],
   "source": [
    "# !pip install gglasso\n",
    "# !pip install plotly"
   ]
  },
  {
   "cell_type": "code",
   "execution_count": null,
   "id": "2798c487-a1ca-4d8e-8ba5-d1effe3e8436",
   "metadata": {
    "tags": []
   },
   "outputs": [],
   "source": [
    "# !conda install -c conda-forge nodejs -y\n",
    "# !conda install -c conda-forge/label/gcc7 nodejs -y\n",
    "# !conda install -c conda-forge/label/cf201901 nodejs -y\n",
    "# !conda install -c conda-forge/label/cf202003 nodejs -y\n",
    "\n",
    "# !jupyter labextension install jupyterlab-plotly\n",
    "# !pip install scipy\n",
    "# !pip install -U kaleido\n",
    "# !pip install networkx\n",
    "# !pip install matplotlib\n",
    "# !pip install igraph"
   ]
  },
  {
   "cell_type": "code",
   "execution_count": null,
   "id": "12a609af-d4ee-4289-a59c-08d6a7af364b",
   "metadata": {},
   "outputs": [],
   "source": [
    "import os\n",
    "import gglasso\n",
    "import pickle\n",
    "import numpy as np\n",
    "import pandas as pd\n",
    "import seaborn as sns\n",
    "import scipy as sp\n",
    "import matplotlib.pyplot as plt\n",
    "import plotly.graph_objects as go\n",
    "import plotly.express as px\n",
    "\n",
    "from xgboost import XGBClassifier\n",
    "\n",
    "\n",
    "from matplotlib.pyplot import figure\n",
    "\n",
    "from numpy.linalg import matrix_rank\n",
    "from numpy import genfromtxt\n",
    "\n",
    "from scipy import stats\n",
    "from scipy.linalg import eigh\n",
    "\n",
    "from sklearn.linear_model import LogisticRegression\n",
    "from sklearn import svm\n",
    "from sklearn.model_selection import train_test_split\n",
    "from sklearn import metrics\n",
    "from sklearn.metrics import accuracy_score\n",
    "\n",
    "from gglasso.solver.admm_solver import ADMM_MGL\n",
    "from gglasso.problem import glasso_problem\n",
    "from gglasso.helper.data_generation import generate_precision_matrix, group_power_network, sample_covariance_matrix\n",
    "from gglasso.helper.basic_linalg import adjacency_matrix\n",
    "from gglasso.helper.data_generation import time_varying_power_network, sample_covariance_matrix\n",
    "from gglasso.helper.experiment_helper import lambda_grid, discovery_rate, error\n",
    "from gglasso.helper.utils import get_K_identity\n",
    "from gglasso.helper.experiment_helper import plot_evolution, plot_deviation, surface_plot, single_heatmap_animation\n",
    "from gglasso.helper.model_selection import aic, ebic, K_single_grid"
   ]
  },
  {
   "cell_type": "code",
   "execution_count": null,
   "id": "467bb5c9-a0f0-46a4-82bc-26bd21c86c87",
   "metadata": {},
   "outputs": [],
   "source": [
    "start = 0\n",
    "stop = 50\n",
    "\n",
    "sub_corr = []\n",
    "\n",
    "### on cloud\n",
    "# for i in range(start, stop):\n",
    "#     sub_corr.append(genfromtxt(\"/storage/groups/bds01/datasets/brains/corr_matrices/corr{0}.csv\".format(i), delimiter=','))\n",
    "\n",
    "### on premisis\n",
    "for i in range(start, stop):\n",
    "    sub_corr.append(genfromtxt(\"../data/sub_corr50/sub_corr{0}.csv\".format(i), delimiter=','))\n",
    "    \n",
    "    \n",
    "\n",
    "    \n",
    "sub_corr = np.array(sub_corr)\n",
    "sub_corr.shape"
   ]
  },
  {
   "cell_type": "code",
   "execution_count": null,
   "id": "3cfd97c8-d331-4a55-958f-5956840dff1d",
   "metadata": {},
   "outputs": [],
   "source": [
    "lambda1_range = np.logspace(-0.9, -1.5, 2)\n",
    "\n",
    "N = [sub_corr.shape[1]]*sub_corr.shape[0]\n",
    "\n",
    "\n",
    "est_uniform, est_indv, statistics = K_single_grid(sub_corr, lambda1_range, N, \n",
    "                                                  method = 'eBIC', gamma = 0.3, \n",
    "                                                  latent = False, use_block = True)\n",
    "\n",
    "\n",
    "K = \"50\"\n",
    "\n",
    "if not os.path.exists(\"../data/est_uniform{0}/\".format(K)):\n",
    "    os.mkdir(\"../data/est_uniform{0}/\".format(K))\n",
    "    \n",
    "if not os.path.exists(\"../data/est_individ{0}/\".format(K)):\n",
    "    os.mkdir(\"../data/est_individ{0}/\".format(K))\n",
    "\n",
    "# dump matrices into csv\n",
    "for i in range(start, stop):\n",
    "    np.savetxt(\"../data/est_uniform{0}/est_uniform{1}.csv\".format(K, i), est_uniform[\"Theta\"][i], \n",
    "               delimiter=\",\", header='')\n",
    "    np.savetxt(\"../data/est_individ{0}/est_individ{1}.csv\".format(K, i), est_indv[\"Theta\"][i], \n",
    "               delimiter=\",\", header='')\n",
    "    \n",
    "with open(\"../data/statistics{0}.txt\".format(K), 'w') as f:\n",
    "    print(statistics, file=f)\n",
    "\n",
    "\n",
    "### cloud\n",
    "# os.mkdir(\"/storage/groups/bds01/datasets/brains/est_uniform{0}/\".format(K))\n",
    "# os.mkdir(\"/storage/groups/bds01/datasets/brains/est_individ{0}/\".format(K))\n",
    "\n",
    "# # dump matrices into csv\n",
    "# for i in range(start, stop):\n",
    "#     np.savetxt(\"/storage/groups/bds01/datasets/brains/est_uniform{0}/est_uniform{1}.csv\".format(K, i), est_uniform[\"Theta\"][i], \n",
    "#                delimiter=\",\", header='')\n",
    "#     np.savetxt(\"/storage/groups/bds01/datasets/brains/est_individ{0}/est_individ{1}.csv\".format(K, i), est_indv[\"Theta\"][i], \n",
    "#                delimiter=\",\", header='')\n",
    "    \n",
    "# with open(\"statistics{0}.txt\".format(K), 'w') as f:\n",
    "#     print(statistics, file=f)"
   ]
  },
  {
   "cell_type": "code",
   "execution_count": null,
   "id": "bb22eeb7-61c7-4088-9f5b-2b7d092f6f1b",
   "metadata": {},
   "outputs": [],
   "source": [
    "est_uniform['Theta'].shape"
   ]
  },
  {
   "cell_type": "code",
   "execution_count": null,
   "id": "2e2f2f05-6fbe-402b-a675-ef65478b5714",
   "metadata": {},
   "outputs": [],
   "source": [
    "sex = pd.read_csv(\"../data/sex.csv\")\n",
    "age = pd.read_csv(\"../data/age.csv\")"
   ]
  },
  {
   "cell_type": "markdown",
   "id": "8415da2d-a824-43fe-9b8a-63218ec014a3",
   "metadata": {},
   "source": [
    "# Logistic regression"
   ]
  },
  {
   "cell_type": "markdown",
   "id": "229ea0d2-293d-4207-b142-58d8c76f4fd0",
   "metadata": {},
   "source": [
    "### Read data"
   ]
  },
  {
   "cell_type": "code",
   "execution_count": null,
   "id": "48d12954-f4ae-40db-ab35-37682ece03dc",
   "metadata": {},
   "outputs": [],
   "source": [
    "Theta = []\n",
    "K = 50\n",
    "\n",
    "for i in range(start, stop):\n",
    "    Theta.append(genfromtxt(\"../data/est_uniform{0}/Theta{1}.csv\".format(K, i), delimiter=','))\n",
    "    \n",
    "\n",
    "Theta = np.array(Theta)\n",
    "Theta.shape"
   ]
  },
  {
   "cell_type": "code",
   "execution_count": null,
   "id": "a8026d86-0593-4477-b49d-9b04447db745",
   "metadata": {},
   "outputs": [],
   "source": [
    "sex_50 = np.array(sex.iloc[:50,])\n",
    "age_50 = np.array(age.iloc[:50,])\n",
    "\n",
    "sex_50.shape, age_50.shape"
   ]
  },
  {
   "cell_type": "code",
   "execution_count": null,
   "id": "18d94710-713f-4a6c-b519-f5eb72177a1d",
   "metadata": {},
   "outputs": [],
   "source": [
    "X, y = Theta, sex_50\n",
    "\n",
    "X.shape, y.shape"
   ]
  },
  {
   "cell_type": "code",
   "execution_count": null,
   "id": "7fd20894-ca94-4abb-b39c-7ca1c8dd964b",
   "metadata": {},
   "outputs": [],
   "source": [
    "X_train, X_test, y_train, y_test = train_test_split(X, y, test_size=0.20, random_state=42)\n",
    "\n",
    "print('X_train: ',X_train.shape)\n",
    "print('X_test: ',X_test.shape)\n",
    "print('Y_train: ', y_train.shape)\n",
    "print('Y_test: ', y_test.shape)"
   ]
  },
  {
   "cell_type": "code",
   "execution_count": null,
   "id": "9c0ca944-12f8-461c-b192-bd3d74a8aea0",
   "metadata": {},
   "outputs": [],
   "source": [
    "# Converting the 3D matrix to 2D matrix\n",
    "print('X_train: {0}'.format(X_train.shape))\n",
    "print('X_test: {0} \\n'.format(X_test.shape))\n",
    "\n",
    "n_train = X_train.shape[0]\n",
    "n_test = X_test.shape[0]\n",
    "\n",
    "X_train = X_train.reshape(n_train, X_train.shape[1]*X_train.shape[2])\n",
    "X_test = X_test.reshape(n_test, X_test.shape[1]*X_test.shape[2])\n",
    "\n",
    "print(\"X train flatten: {0}\".format(X_train.shape))\n",
    "print(\"X test flatten: {0} \\n\".format(X_test.shape))"
   ]
  },
  {
   "cell_type": "code",
   "execution_count": null,
   "id": "b6ea0075-ec0e-48f7-afd5-79adc7d54d42",
   "metadata": {},
   "outputs": [],
   "source": [
    "# create model and train test accuracy print\n",
    "logreg = LogisticRegression(random_state = 42, max_iter= 150, penalty='l2')\n",
    "logreg.fit(X_train, y_train.ravel())\n",
    "print(\"Test accuracy: {} \".format(logreg.score(X_test, y_test)))"
   ]
  },
  {
   "cell_type": "code",
   "execution_count": null,
   "id": "03b751b2-14ea-4d33-9924-1738b910fb72",
   "metadata": {},
   "outputs": [],
   "source": [
    "predictions = logreg.predict(X_test)\n",
    "\n",
    "cm = metrics.confusion_matrix(y_test, predictions)\n",
    "\n",
    "plt.figure(figsize=(9,9))\n",
    "sns.heatmap(cm, annot=True, fmt=\".3f\", linewidths=.5, square = True, cmap = 'Blues_r');\n",
    "plt.ylabel('Actual label');\n",
    "plt.xlabel('Predicted label');\n",
    "all_sample_title = 'Accuracy Score: {0}'.format(logreg.score(X_test, y_test))\n",
    "plt.title(all_sample_title, size = 15);"
   ]
  },
  {
   "cell_type": "code",
   "execution_count": null,
   "id": "05ea8783-ac2a-4d60-9511-6161ee5602e4",
   "metadata": {},
   "outputs": [],
   "source": [
    "print(\"Coefficints: {0}\".format(logreg.coef_))\n",
    "print(\"Intercept: {0}\".format(logreg.intercept_))"
   ]
  },
  {
   "cell_type": "code",
   "execution_count": null,
   "id": "972ca41f-bbcf-4885-9539-981610edfed2",
   "metadata": {},
   "outputs": [],
   "source": [
    "coefs = np.array(logreg.coef_)\n",
    "\n",
    "coefs = coefs.flatten()\n",
    "coefs = coefs.reshape(X.shape[1], X.shape[2])\n",
    "coefs = pd.DataFrame(coefs)"
   ]
  },
  {
   "cell_type": "code",
   "execution_count": null,
   "id": "e5ff5764-7604-45b4-938f-e22d8f089849",
   "metadata": {
    "tags": []
   },
   "outputs": [],
   "source": [
    "fig = px.imshow(coefs, text_auto=True)\n",
    "\n",
    "fig.write_image(\"coeffs.png\")\n",
    "fig.write_html(\"coeffs.html\")"
   ]
  },
  {
   "cell_type": "code",
   "execution_count": null,
   "id": "3914f882-ba60-47b0-acda-9463a78c3756",
   "metadata": {},
   "outputs": [],
   "source": [
    "mask = np.triu(np.ones_like(coefs, dtype=bool))\n",
    "coefs_df = coefs.mask(mask)\n",
    "coefs_df"
   ]
  },
  {
   "cell_type": "code",
   "execution_count": null,
   "id": "4d936847-96bc-490a-ae52-2d7108e2e50b",
   "metadata": {},
   "outputs": [],
   "source": [
    "heat = go.Heatmap(\n",
    "    z = coefs_df,\n",
    "    x = coefs_df.columns.values,\n",
    "    y = coefs_df.columns.values,\n",
    "    zmin = - 0.1, # Sets the lower bound of the color domain\n",
    "    zmax = 1,\n",
    "    xgap = 1, # Sets the horizontal gap (in pixels) between bricks\n",
    "    ygap = 1,\n",
    "    colorscale = 'RdBu'\n",
    ")\n",
    "\n",
    "title = 'Logistic regression coefficients'\n",
    "\n",
    "layout = go.Layout(\n",
    "    title_text=title, \n",
    "    title_x=0.5, \n",
    "    width=600, \n",
    "    height=600,\n",
    "    xaxis_showgrid=False,\n",
    "    yaxis_showgrid=False,\n",
    "    yaxis_autorange='reversed'\n",
    ")\n",
    "\n",
    "fig=go.Figure(data=[heat], layout=layout)\n",
    "fig.write_image(\"coeffs.png\")\n",
    "fig.write_html(\"coeffs.html\")"
   ]
  },
  {
   "cell_type": "markdown",
   "id": "d50c1310-a026-4c70-8ac0-eaa073fbd455",
   "metadata": {},
   "source": [
    "# XGBoost"
   ]
  },
  {
   "cell_type": "code",
   "execution_count": null,
   "id": "23ecc08e-5b7d-452e-9fcd-611e7cef8bca",
   "metadata": {},
   "outputs": [],
   "source": [
    "xgb_cl = XGBClassifier()\n",
    "print(type(xgb_cl))"
   ]
  },
  {
   "cell_type": "code",
   "execution_count": null,
   "id": "53e3c6ac-cfcd-4932-bd0e-f186910271d7",
   "metadata": {},
   "outputs": [],
   "source": [
    "xgb_cl.fit(X_train, y_train.ravel())\n",
    "\n",
    "preds = xgb_cl.predict(X_test)\n",
    "accuracy_score(y_test, preds)"
   ]
  },
  {
   "cell_type": "markdown",
   "id": "40dae815-429b-4cdf-b6d7-9e8dd851c5c3",
   "metadata": {},
   "source": [
    "### Benchmarking"
   ]
  },
  {
   "cell_type": "code",
   "execution_count": null,
   "id": "e4cff039-50de-4f0f-a809-c04c3553528d",
   "metadata": {},
   "outputs": [],
   "source": [
    "#adjust CV threshold so you don't have only one class in a sample\n",
    "heldout = [0.3, 0.2, 0.1]\n",
    "# Number of rounds to fit and evaluate an estimator.\n",
    "rounds = 10\n",
    "X, y = est_uniform['Theta'], sex_50\n",
    "\n",
    "classifiers = [\n",
    "     (\"XGBoost\", xgb.XGBClassifier()),\n",
    "    (\"Log-regression\", LogisticRegression(max_iter= 110, penalty='l2')),\n",
    "   (\"SVM\", svm.SVC(kernel='linear'))\n",
    "]\n",
    "\n",
    "xx = 1.0 - np.array(heldout)\n",
    "\n",
    "for name, clf in classifiers:\n",
    "    print(\"training %s\" % name)\n",
    "    rng = np.random.RandomState(42)\n",
    "    yy = []\n",
    "    for i in heldout:\n",
    "        yy_ = []\n",
    "        for r in range(rounds):\n",
    "            X_train, X_test, y_train, y_test = train_test_split(\n",
    "                X, y, test_size=i, random_state=rng\n",
    "            )\n",
    "            \n",
    "            n_train = X_train.shape[0]\n",
    "            n_test = X_test.shape[0]\n",
    "\n",
    "            X_train = X_train.reshape(n_train, X_train.shape[1]*X_train.shape[2])\n",
    "            X_test = X_test.reshape(n_test, X_test.shape[1]*X_test.shape[2])\n",
    "            \n",
    "            clf.fit(X_train, y_train.ravel())\n",
    "            y_pred = clf.predict(X_test)\n",
    "            yy_.append(1 - np.mean(y_pred == y_test))\n",
    "        yy.append(np.mean(yy_))\n",
    "    plt.plot(xx, yy, label=name)\n",
    "\n",
    "plt.legend(loc=\"upper right\")\n",
    "plt.xlabel(\"Proportion train\")\n",
    "plt.ylabel(\"Test Error Rate\")\n",
    "plt.show()"
   ]
  }
 ],
 "metadata": {
  "kernelspec": {
   "display_name": "Python 3 (ipykernel)",
   "language": "python",
   "name": "python3"
  },
  "language_info": {
   "codemirror_mode": {
    "name": "ipython",
    "version": 3
   },
   "file_extension": ".py",
   "mimetype": "text/x-python",
   "name": "python",
   "nbconvert_exporter": "python",
   "pygments_lexer": "ipython3",
   "version": "3.9.7"
  }
 },
 "nbformat": 4,
 "nbformat_minor": 5
}
