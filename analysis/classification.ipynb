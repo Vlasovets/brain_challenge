{
 "cells": [
  {
   "cell_type": "code",
   "execution_count": null,
   "id": "b4eea893-9eda-4d4b-8318-e15c5241495a",
   "metadata": {},
   "outputs": [],
   "source": [
    "# !conda install -c conda-forge nodejs -y\n",
    "# !conda install -c conda-forge/label/gcc7 nodejs -y\n",
    "# !conda install -c conda-forge/label/cf201901 nodejs -y\n",
    "# !conda install -c conda-forge/label/cf202003 nodejs -y\n",
    "\n",
    "# !jupyter labextension install jupyterlab-plotly\n",
    "# !pip install scipy\n",
    "# !pip install -U kaleido\n",
    "# !pip install networkx\n",
    "# !pip install matplotlib\n",
    "# !pip install igraph"
   ]
  },
  {
   "cell_type": "code",
   "execution_count": null,
   "id": "12a609af-d4ee-4289-a59c-08d6a7af364b",
   "metadata": {},
   "outputs": [],
   "source": [
    "import os\n",
    "import gglasso\n",
    "import pickle\n",
    "import numpy as np\n",
    "import pandas as pd\n",
    "import seaborn as sns\n",
    "import scipy as sp\n",
    "import matplotlib.pyplot as plt\n",
    "import plotly.graph_objects as go\n",
    "import plotly.express as px\n",
    "\n",
    "from xgboost import XGBClassifier\n",
    "\n",
    "\n",
    "from matplotlib.pyplot import figure\n",
    "\n",
    "from numpy.linalg import matrix_rank\n",
    "from numpy import genfromtxt\n",
    "\n",
    "from scipy import stats\n",
    "from scipy.linalg import eigh\n",
    "\n",
    "from sklearn.linear_model import LogisticRegression\n",
    "from sklearn import svm\n",
    "from sklearn.model_selection import train_test_split\n",
    "from sklearn import metrics\n",
    "from sklearn.metrics import accuracy_score\n",
    "from sklearn.model_selection import GridSearchCV"
   ]
  },
  {
   "cell_type": "markdown",
   "id": "951762a7-c817-4d9e-b03d-7de9a45413e9",
   "metadata": {},
   "source": [
    "### Read solution"
   ]
  },
  {
   "cell_type": "markdown",
   "id": "1baa49c5-5d2c-4b22-81d1-04bdf3a3edf9",
   "metadata": {},
   "source": [
    "#### Remove outliers"
   ]
  },
  {
   "cell_type": "markdown",
   "id": "b11f6de8-b5c3-40bb-9f1b-e4e2864e9f31",
   "metadata": {},
   "source": [
    "The outliers are found after manual checking of SGL solution for all samples."
   ]
  },
  {
   "cell_type": "code",
   "execution_count": null,
   "id": "cbaaa0e6-531f-42b2-84d0-570bce89ef2d",
   "metadata": {},
   "outputs": [],
   "source": [
    "corr_all_ix = np.arange(0, 950)\n",
    "outliers_ix = [96, 144, 210, 522]\n",
    "\n",
    "corr_filtered_ix = np.array([i for i in corr_all_ix if i not in outliers_ix])\n",
    "corr_filtered_ix.shape"
   ]
  },
  {
   "cell_type": "code",
   "execution_count": null,
   "id": "1868d00f-f964-422d-86be-822c65aac609",
   "metadata": {},
   "outputs": [],
   "source": [
    "storage_dir = \"/lustre/groups/bds01/datasets/brains/\""
   ]
  },
  {
   "cell_type": "code",
   "execution_count": null,
   "id": "759a5845-07ba-4354-873f-603048d6c3b8",
   "metadata": {},
   "outputs": [],
   "source": [
    "outliers = []\n",
    "\n",
    "for i in outliers_ix:\n",
    "    outliers.append(genfromtxt(storage_dir + \"corr_matrices/corr{0}.csv\".format(i), delimiter=','))\n",
    "\n",
    "    \n",
    "outliers = np.array(outliers)\n",
    "outliers.shape"
   ]
  },
  {
   "cell_type": "markdown",
   "id": "c94d166c-1d9e-43b5-870c-8f67de30a1ed",
   "metadata": {},
   "source": [
    "#### HMGU cluster"
   ]
  },
  {
   "cell_type": "code",
   "execution_count": null,
   "id": "17a9e0dc-84c1-4134-97b9-d1068146fa4d",
   "metadata": {},
   "outputs": [],
   "source": [
    "corr = []\n",
    "sol = []\n",
    "\n",
    "for i in corr_filtered_ix:\n",
    "    corr.append(genfromtxt(storage_dir + \"/corr_matrices/corr{0}.csv\".format(i), delimiter=','))\n",
    "    sol.append(genfromtxt(storage_dir + \"/est_uniform/est_uniform{0}.csv\".format(i), delimiter=','))\n",
    "    \n",
    "sol = np.array(sol)\n",
    "corr = np.array(corr)\n",
    "corr.shape, sol.shape"
   ]
  },
  {
   "cell_type": "code",
   "execution_count": null,
   "id": "fcfca55b-4739-4b7c-9225-2b339b13711a",
   "metadata": {},
   "outputs": [],
   "source": [
    "sex = pd.read_csv(storage_dir + \"sex.csv\")\n",
    "age = pd.read_csv(storage_dir + \"age.csv\")\n",
    "\n",
    "#remove outliers\n",
    "sex = sex.iloc[corr_filtered_ix]\n",
    "age = age.iloc[corr_filtered_ix]\n",
    "\n",
    "sex.shape, age.shape"
   ]
  },
  {
   "cell_type": "markdown",
   "id": "a26e47fa-29ae-4297-900a-9dcb8f4c82c9",
   "metadata": {
    "jp-MarkdownHeadingCollapsed": true,
    "tags": []
   },
   "source": [
    "#### On premises"
   ]
  },
  {
   "cell_type": "code",
   "execution_count": null,
   "id": "88fc3ab6-e569-4e55-961a-09d383015856",
   "metadata": {},
   "outputs": [],
   "source": [
    "start = 0\n",
    "stop = 50\n",
    "\n",
    "sub_corr = []\n",
    "\n",
    "### on premisis\n",
    "for i in range(start, stop):\n",
    "    sub_corr.append(genfromtxt(\"../data/sub_corr50/sub_corr{0}.csv\".format(i), delimiter=','))\n",
    "\n",
    "    \n",
    "sub_corr = np.array(sub_corr)\n",
    "sub_corr.shape"
   ]
  },
  {
   "cell_type": "code",
   "execution_count": null,
   "id": "bb22eeb7-61c7-4088-9f5b-2b7d092f6f1b",
   "metadata": {},
   "outputs": [],
   "source": [
    "est_uniform['Theta'].shape"
   ]
  },
  {
   "cell_type": "code",
   "execution_count": null,
   "id": "2e2f2f05-6fbe-402b-a675-ef65478b5714",
   "metadata": {},
   "outputs": [],
   "source": [
    "sex = pd.read_csv(\"../data/sex.csv\")\n",
    "age = pd.read_csv(\"../data/age.csv\")"
   ]
  },
  {
   "cell_type": "markdown",
   "id": "8415da2d-a824-43fe-9b8a-63218ec014a3",
   "metadata": {},
   "source": [
    "# Logistic regression"
   ]
  },
  {
   "cell_type": "code",
   "execution_count": null,
   "id": "18d94710-713f-4a6c-b519-f5eb72177a1d",
   "metadata": {},
   "outputs": [],
   "source": [
    "# X, y = sol, sex\n",
    "\n",
    "X, y = sol[:100, ], sex[:100]\n",
    "\n",
    "X.shape, y.shape"
   ]
  },
  {
   "cell_type": "code",
   "execution_count": null,
   "id": "7fd20894-ca94-4abb-b39c-7ca1c8dd964b",
   "metadata": {},
   "outputs": [],
   "source": [
    "X_train, X_test, y_train, y_test = train_test_split(X, y, test_size=0.20, random_state=42)\n",
    "\n",
    "print('X_train: ', X_train.shape)\n",
    "print('X_test: ', X_test.shape)\n",
    "print('y_train: ', y_train.shape)\n",
    "print('y_test: ', y_test.shape)"
   ]
  },
  {
   "cell_type": "code",
   "execution_count": null,
   "id": "9c0ca944-12f8-461c-b192-bd3d74a8aea0",
   "metadata": {},
   "outputs": [],
   "source": [
    "# Converting the 3D matrix to 2D matrix\n",
    "print('X_train: {0}'.format(X_train.shape))\n",
    "print('X_test: {0} \\n'.format(X_test.shape))\n",
    "\n",
    "n_train = X_train.shape[0]\n",
    "n_test = X_test.shape[0]\n",
    "\n",
    "X_train = X_train.reshape(n_train, X_train.shape[1]*X_train.shape[2])\n",
    "X_test = X_test.reshape(n_test, X_test.shape[1]*X_test.shape[2])\n",
    "\n",
    "print(\"X train flatten: {0}\".format(X_train.shape))\n",
    "print(\"X test flatten: {0} \\n\".format(X_test.shape))"
   ]
  },
  {
   "cell_type": "code",
   "execution_count": null,
   "id": "b6ea0075-ec0e-48f7-afd5-79adc7d54d42",
   "metadata": {},
   "outputs": [],
   "source": [
    "# create model and train test accuracy print\n",
    "logreg = LogisticRegression(random_state = 42, max_iter= 1000, penalty='l2')\n",
    "logreg.fit(X_train, y_train.values.ravel())\n",
    "print(\"Test accuracy: {} \".format(logreg.score(X_test, y_test)))"
   ]
  },
  {
   "cell_type": "code",
   "execution_count": null,
   "id": "03b751b2-14ea-4d33-9924-1738b910fb72",
   "metadata": {},
   "outputs": [],
   "source": [
    "predictions = logreg.predict(X_test)\n",
    "\n",
    "cm = metrics.confusion_matrix(y_test, predictions)\n",
    "\n",
    "plt.figure(figsize=(9,9))\n",
    "sns.heatmap(cm, annot=True, fmt=\".3f\", linewidths=.5, square = True, cmap = 'Blues_r');\n",
    "plt.ylabel('Actual label');\n",
    "plt.xlabel('Predicted label');\n",
    "all_sample_title = 'Accuracy Score: {0}'.format(logreg.score(X_test, y_test))\n",
    "plt.title(all_sample_title, size = 15);\n",
    "\n",
    "plt.savefig('../plots/confusion_matrix.png')"
   ]
  },
  {
   "cell_type": "code",
   "execution_count": null,
   "id": "05ea8783-ac2a-4d60-9511-6161ee5602e4",
   "metadata": {},
   "outputs": [],
   "source": [
    "print(\"Coefficints: {0}\".format(logreg.coef_))\n",
    "print(\"Intercept: {0}\".format(logreg.intercept_))"
   ]
  },
  {
   "cell_type": "code",
   "execution_count": null,
   "id": "972ca41f-bbcf-4885-9539-981610edfed2",
   "metadata": {},
   "outputs": [],
   "source": [
    "coefs = np.array(logreg.coef_)\n",
    "\n",
    "coefs = coefs.flatten()\n",
    "coefs = coefs.reshape(X.shape[1], X.shape[2])\n",
    "coefs = pd.DataFrame(coefs)"
   ]
  },
  {
   "cell_type": "code",
   "execution_count": null,
   "id": "e5ff5764-7604-45b4-938f-e22d8f089849",
   "metadata": {
    "tags": []
   },
   "outputs": [],
   "source": [
    "fig_coef_1 = px.imshow(coefs,color_continuous_scale='RdBu_r', \n",
    "                text_auto=True, zmin=0, zmax=0.1, \n",
    "                title=\"Coefficients of Logistic regression classifier with l2 penalty term\")\n",
    "fig_coef_1.update_layout(coloraxis_showscale=False)\n",
    "\n",
    "fig_coef_2 = px.imshow(coefs,color_continuous_scale='RdBu_r', \n",
    "                text_auto=True,\n",
    "                title=\"Coefficients pattern of Logistic regression classifier with l2 penalty term\")\n",
    "\n",
    "fig_coef_1.write_image(\"../plots/coeffs.png\")\n",
    "fig_coef_2.write_html(\"../plots/coeffs.html\")"
   ]
  },
  {
   "cell_type": "code",
   "execution_count": null,
   "id": "3914f882-ba60-47b0-acda-9463a78c3756",
   "metadata": {},
   "outputs": [],
   "source": [
    "mask = np.triu(np.ones_like(coefs, dtype=bool))\n",
    "coefs_df = coefs.mask(mask)"
   ]
  },
  {
   "cell_type": "markdown",
   "id": "d50c1310-a026-4c70-8ac0-eaa073fbd455",
   "metadata": {},
   "source": [
    "# XGBoost"
   ]
  },
  {
   "cell_type": "code",
   "execution_count": null,
   "id": "482ab5bc-fecb-4a49-aaa4-4b65cb666b67",
   "metadata": {},
   "outputs": [],
   "source": [
    "parameters = {'booster': ('gbtree', 'gblinear', 'dart'),\n",
    "             'eta': [0.1, 0.3, 0.5, 0.8],\n",
    "             'gamma': [0, 0.1, 0.3],\n",
    "             'max_depth': [4, 6, 10],\n",
    "             'max_bin': [50, 100, 256, 300] }"
   ]
  },
  {
   "cell_type": "code",
   "execution_count": null,
   "id": "94c711ae-a80b-4561-84fe-e08a9a84cf87",
   "metadata": {},
   "outputs": [],
   "source": [
    "xgb = XGBClassifier()\n",
    "\n",
    "xgb_cl = GridSearchCV(xgb, parameters)"
   ]
  },
  {
   "cell_type": "code",
   "execution_count": null,
   "id": "53e3c6ac-cfcd-4932-bd0e-f186910271d7",
   "metadata": {},
   "outputs": [],
   "source": [
    "xgb_cl.fit(X_train, y_train.values.ravel())\n",
    "\n",
    "preds = xgb_cl.predict(X_test)\n",
    "accuracy_score(y_test, preds)"
   ]
  },
  {
   "cell_type": "markdown",
   "id": "40dae815-429b-4cdf-b6d7-9e8dd851c5c3",
   "metadata": {},
   "source": [
    "### Benchmarking"
   ]
  },
  {
   "cell_type": "code",
   "execution_count": null,
   "id": "e4cff039-50de-4f0f-a809-c04c3553528d",
   "metadata": {},
   "outputs": [],
   "source": [
    "#adjust CV threshold so you don't have only one class in a sample\n",
    "heldout = [0.3, 0.2, 0.1]\n",
    "# Number of rounds to fit and evaluate an estimator.\n",
    "rounds = 10\n",
    "X, y = sol[:100, ], sex[:100]\n",
    "\n",
    "classifiers = [\n",
    "     (\"XGBoost\", XGBClassifier()),\n",
    "    (\"Log-regression\", LogisticRegression(max_iter= 110, penalty='l2')),\n",
    "   (\"SVM\", svm.SVC(kernel='linear'))\n",
    "]\n",
    "\n",
    "xx = 1.0 - np.array(heldout)\n",
    "\n",
    "for name, clf in classifiers:\n",
    "    print(\"training %s\" % name)\n",
    "    rng = np.random.RandomState(42)\n",
    "    yy = []\n",
    "    for i in heldout:\n",
    "        yy_ = []\n",
    "        for r in range(rounds):\n",
    "            X_train, X_test, y_train, y_test = train_test_split(\n",
    "                X, y, test_size=i, random_state=rng\n",
    "            )\n",
    "            \n",
    "            n_train = X_train.shape[0]\n",
    "            n_test = X_test.shape[0]\n",
    "\n",
    "            X_train = X_train.reshape(n_train, X_train.shape[1]*X_train.shape[2])\n",
    "            X_test = X_test.reshape(n_test, X_test.shape[1]*X_test.shape[2])\n",
    "            \n",
    "            clf.fit(X_train, y_train.values.ravel())\n",
    "            y_pred = clf.predict(X_test)\n",
    "            yy_.append(1 - np.mean(y_pred == y_test))\n",
    "        yy.append(np.mean(yy_))\n",
    "    plt.plot(xx, yy, label=name)\n",
    "\n",
    "plt.legend(loc=\"upper right\")\n",
    "plt.xlabel(\"Proportion train\")\n",
    "plt.ylabel(\"Test Error Rate\")\n",
    "plt.show()"
   ]
  }
 ],
 "metadata": {
  "kernelspec": {
   "display_name": "Python 3 (ipykernel)",
   "language": "python",
   "name": "python3"
  },
  "language_info": {
   "codemirror_mode": {
    "name": "ipython",
    "version": 3
   },
   "file_extension": ".py",
   "mimetype": "text/x-python",
   "name": "python",
   "nbconvert_exporter": "python",
   "pygments_lexer": "ipython3",
   "version": "3.9.7"
  }
 },
 "nbformat": 4,
 "nbformat_minor": 5
}
