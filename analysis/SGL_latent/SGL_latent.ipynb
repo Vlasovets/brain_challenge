{
 "cells": [
  {
   "cell_type": "code",
   "execution_count": null,
   "id": "4107de80-001c-488d-9115-5951f771986d",
   "metadata": {},
   "outputs": [],
   "source": [
    "import gglasso\n",
    "import pickle\n",
    "import numpy as np\n",
    "import pandas as pd\n",
    "import seaborn as sns\n",
    "import os\n",
    "import matplotlib.pyplot as plt\n",
    "\n",
    "from numpy import genfromtxt\n",
    "from matplotlib.pyplot import figure\n",
    "from datetime import datetime\n",
    "from gglasso.helper.model_selection import K_single_grid"
   ]
  },
  {
   "cell_type": "code",
   "execution_count": null,
   "id": "4eb46e0c-f032-48d1-852c-f19acb0ffd95",
   "metadata": {},
   "outputs": [],
   "source": [
    "def calculate_edge_probablity(data=list, indices=list):\n",
    "    \n",
    "    P = np.zeros((436, 436))\n",
    "    \n",
    "    for i in indices:\n",
    "        x = data[i, :]\n",
    "        x = (x != 0).astype(int)\n",
    "\n",
    "        P = P + x\n",
    "    \n",
    "    P = P / len(indices)\n",
    "    \n",
    "    return pd.DataFrame(P)"
   ]
  },
  {
   "cell_type": "markdown",
   "id": "e7cc3982-33cf-4e9b-b5ad-f25a6951522c",
   "metadata": {},
   "source": [
    "### Read data"
   ]
  },
  {
   "cell_type": "markdown",
   "id": "0a16f1c3-95c7-47c5-a57b-e27d924f1bdb",
   "metadata": {},
   "source": [
    "#### Remove outliers"
   ]
  },
  {
   "cell_type": "markdown",
   "id": "7d34e6e5-b630-4049-9c1b-66656edb1bcb",
   "metadata": {},
   "source": [
    "The outliers are found after manual checking of SGL solution for all samples."
   ]
  },
  {
   "cell_type": "code",
   "execution_count": null,
   "id": "cf0182eb-f63f-4fe3-8e0c-4382b145d962",
   "metadata": {},
   "outputs": [],
   "source": [
    "corr_all_ix = np.arange(0, 950)\n",
    "outliers_ix = [96, 144, 210, 522]\n",
    "\n",
    "corr_filtered_ix = np.array([i for i in corr_all_ix if i not in outliers_ix])\n",
    "corr_filtered_ix.shape"
   ]
  },
  {
   "cell_type": "code",
   "execution_count": null,
   "id": "d841d6d0-c823-469d-8825-dad05f9cd898",
   "metadata": {},
   "outputs": [],
   "source": [
    "storage_dir = \"/lustre/groups/bds01/datasets/brains/\""
   ]
  },
  {
   "cell_type": "code",
   "execution_count": null,
   "id": "54a70b1b-e25d-40f5-9fb0-31cce0f7e926",
   "metadata": {},
   "outputs": [],
   "source": [
    "outliers = []\n",
    "\n",
    "for i in outliers_ix:\n",
    "    outliers.append(genfromtxt(storage_dir + \"corr_matrices/corr{0}.csv\".format(i), delimiter=','))\n",
    "\n",
    "    \n",
    "outliers = np.array(outliers)\n",
    "outliers.shape"
   ]
  },
  {
   "cell_type": "code",
   "execution_count": null,
   "id": "843b0a8f-d629-4de7-99f3-b226eac1b3dd",
   "metadata": {},
   "outputs": [],
   "source": [
    "fig, axes = plt.subplots(2, 2, sharex=True, figsize=(30,30))\n",
    "\n",
    "ax = sns.heatmap(outliers[0, :], ax=axes[0][0], center=0, vmin = -0.5, vmax = 0.5, \n",
    "                 square = True, cbar = False, cmap = \"coolwarm\", xticklabels=False, yticklabels=False)\n",
    "ax.set_title('outlier_{0}'.format(outliers_ix[0]))\n",
    "\n",
    "ax = sns.heatmap(outliers[1, :], ax=axes[0][1], center=0, vmin = -0.5, vmax = 0.5,\n",
    "                 square = True, cbar = False, cmap = \"coolwarm\", xticklabels=False, yticklabels=False)\n",
    "ax.set_title('outlier_{0}'.format(outliers_ix[1]))\n",
    "\n",
    "ax = sns.heatmap(outliers[2, :], ax=axes[1][0], center=0, vmin = -0.5, vmax = 0.5,\n",
    "                 square = True, cbar = False, cmap = \"coolwarm\", xticklabels=False, yticklabels=False)\n",
    "ax.set_title('outlier_{0}'.format(outliers_ix[2]))\n",
    "\n",
    "ax = sns.heatmap(outliers[3, :], ax=axes[1][1], center=0, vmin = -0.5, vmax = 0.5,\n",
    "                 square = True, cbar = False, cmap = \"coolwarm\", xticklabels=False, yticklabels=False)\n",
    "ax.set_title('outlier_{0}'.format(outliers_ix[3]))\n",
    "    \n",
    "fig.savefig(\"../../plots/outliers_heatmap.png\")"
   ]
  },
  {
   "cell_type": "markdown",
   "id": "9a1a9ff0-bcf2-485d-89c0-7ef554641a60",
   "metadata": {},
   "source": [
    "### HMGU cluster"
   ]
  },
  {
   "cell_type": "code",
   "execution_count": null,
   "id": "ab39ece7-ba07-4a34-8140-b6f0c33f1a4e",
   "metadata": {},
   "outputs": [],
   "source": [
    "### on cloud\n",
    "corr = []\n",
    "\n",
    "for i in corr_filtered_ix[:10]:\n",
    "    corr.append(genfromtxt(storage_dir + \"corr_matrices/corr{0}.csv\".format(i), delimiter=','))\n",
    "\n",
    "    \n",
    "corr = np.array(corr)\n",
    "corr.shape"
   ]
  },
  {
   "cell_type": "markdown",
   "id": "f23bd8af-09a5-4acb-9e2b-38189559fad7",
   "metadata": {
    "jp-MarkdownHeadingCollapsed": true,
    "tags": []
   },
   "source": [
    "### On premisis"
   ]
  },
  {
   "cell_type": "code",
   "execution_count": null,
   "id": "1b286628-5e19-42a0-8f65-db736e52ec6b",
   "metadata": {},
   "outputs": [],
   "source": [
    "start = 0\n",
    "stop = 50\n",
    "\n",
    "sub_corr = []\n",
    "\n",
    "### on premisis\n",
    "for i in range(start, stop):\n",
    "    sub_corr.append(genfromtxt(\"../../data/sub_corr50/sub_corr{0}.csv\".format(i), delimiter=','))\n",
    "\n",
    "    \n",
    "sub_corr = np.array(sub_corr)\n",
    "sub_corr.shape"
   ]
  },
  {
   "cell_type": "markdown",
   "id": "a2f452b3-2ce4-43ec-9391-ca5ed4984216",
   "metadata": {},
   "source": [
    "### Single GL"
   ]
  },
  {
   "cell_type": "markdown",
   "id": "a20ceadd-c1c7-4a8b-b162-d477f51508ec",
   "metadata": {
    "tags": []
   },
   "source": [
    "### On premises"
   ]
  },
  {
   "cell_type": "code",
   "execution_count": null,
   "id": "e33da049-2251-4c1f-a5f1-9ebe5f206ede",
   "metadata": {},
   "outputs": [],
   "source": [
    "lambda1_range = np.logspace(0, -1, 5)\n",
    "mu1_range = np.logspace(0, -1, 5)"
   ]
  },
  {
   "cell_type": "code",
   "execution_count": null,
   "id": "95d51918-0824-4b94-9db1-77ca17429752",
   "metadata": {},
   "outputs": [],
   "source": [
    "N = sub_corr.shape[1]"
   ]
  },
  {
   "cell_type": "code",
   "execution_count": null,
   "id": "a7dd5be2-3006-4ea3-b26c-970ea9496ad0",
   "metadata": {},
   "outputs": [],
   "source": [
    "est_uniform, est_indv, statistics = K_single_grid(sub_corr[:1, :], lambda1_range, N,\n",
    "                                                  mu_range = mu1_range,\n",
    "                                                  method = 'eBIC', gamma = 0.3, \n",
    "                                                  latent = True, use_block = True)"
   ]
  },
  {
   "cell_type": "code",
   "execution_count": null,
   "id": "ba2fe81e-0f2e-42ba-8b3d-a478d9d30ad9",
   "metadata": {},
   "outputs": [],
   "source": [
    "K = est_uniform[\"Theta\"].shape[0]"
   ]
  },
  {
   "cell_type": "code",
   "execution_count": null,
   "id": "381ab764-afbf-4ce0-99c7-142d58794f37",
   "metadata": {},
   "outputs": [],
   "source": [
    "# dump matrices into csv\n",
    "for i in range(0, K):\n",
    "    np.savetxt(\"/storage/groups/bds01/datasets/brains/est_uniform_latent50/Theta{0}.csv\".format(i), est_uniform[\"Theta\"][i], \n",
    "               delimiter=\",\", header='')\n",
    "    np.savetxt(\"/storage/groups/bds01/datasets/brains/est_uniform_latent50/L{0}.csv\".format(i), est_uniform[\"L\"][i], \n",
    "               delimiter=\",\", header='')"
   ]
  },
  {
   "cell_type": "code",
   "execution_count": null,
   "id": "34d48550-b266-4365-8927-7071a58900ee",
   "metadata": {},
   "outputs": [],
   "source": [
    "# !jupyter nbconvert --to script --no-prompt SGL_latent.ipynb"
   ]
  },
  {
   "cell_type": "code",
   "execution_count": null,
   "id": "a25ae86f-9770-4e9c-8592-09dc1ac6c18a",
   "metadata": {},
   "outputs": [],
   "source": [
    "with open('/storage/groups/bds01/datasets/brains/statistics_SGL_latent50.txt', 'w') as f:\n",
    "    print(statistics, file=f)"
   ]
  },
  {
   "cell_type": "markdown",
   "id": "ee7f3e13-6990-4788-9fd5-987a7e922d62",
   "metadata": {},
   "source": [
    "### HMGU cluster"
   ]
  },
  {
   "cell_type": "code",
   "execution_count": null,
   "id": "4c41e133-c46c-4b81-a8e4-ea7fc6ebb45b",
   "metadata": {},
   "outputs": [],
   "source": [
    "lambda1_range = np.logspace(-0.9, -1.5, 4)\n",
    "mu1_range = np.arange(6.25, 11,  0.5)[::-1]"
   ]
  },
  {
   "cell_type": "code",
   "execution_count": null,
   "id": "1481ab4a-1caf-41a8-ab90-ab1a2cd31087",
   "metadata": {},
   "outputs": [],
   "source": [
    "K = len(corr)\n",
    "N = K*[corr.shape[1]]"
   ]
  },
  {
   "cell_type": "code",
   "execution_count": null,
   "id": "34706e2b-cba6-4a95-ae83-3d5b39802c81",
   "metadata": {
    "tags": []
   },
   "outputs": [],
   "source": [
    "start_time = datetime.now()\n",
    "\n",
    "low_est_uniform, low_est_indv, low_statistics = K_single_grid(corr[:2, :], lambda1_range, N[:2],\n",
    "                                                  mu_range = mu1_range,\n",
    "                                                  method = 'eBIC', gamma = 0.3, \n",
    "                                                  latent = True, use_block = True)\n",
    "\n",
    "end_time = datetime.now()\n",
    "\n",
    "run_time = end_time - start_time\n",
    "\n",
    "low_statistics['time'] = run_time\n",
    "print(\"--- TIME: {0} ---\".format(run_time))"
   ]
  },
  {
   "cell_type": "markdown",
   "id": "1a848816-342a-48e1-8ff3-9934e0ef971f",
   "metadata": {},
   "source": [
    "### Read solution"
   ]
  },
  {
   "cell_type": "code",
   "execution_count": null,
   "id": "0bea85db-00b8-47b6-aa18-339103140c76",
   "metadata": {},
   "outputs": [],
   "source": [
    "Theta = []\n",
    "L = []\n",
    "\n",
    "for i in range(0, 50):\n",
    "    Theta.append(genfromtxt(\"/storage/groups/bds01/datasets/brains/est_uniform_latent50/Theta{0}.csv\".format(i), delimiter=','))\n",
    "    L.append(genfromtxt(\"/storage/groups/bds01/datasets/brains/est_uniform_latent50/L{0}.csv\".format(i), delimiter=','))\n",
    "\n",
    "Theta, L = np.array(Theta), np.array(L)\n",
    "Theta.shape, L.shape"
   ]
  },
  {
   "cell_type": "code",
   "execution_count": null,
   "id": "f93e02b9-fdb2-41ce-b375-26e1e21c0cec",
   "metadata": {},
   "outputs": [],
   "source": [
    "K = Theta.shape[0]"
   ]
  },
  {
   "cell_type": "markdown",
   "id": "1e5c2d20-7ea6-4054-a23a-af64aae83f58",
   "metadata": {},
   "source": [
    "### Plot the solution and low rank"
   ]
  },
  {
   "cell_type": "code",
   "execution_count": null,
   "id": "32d88f46-a5f9-4653-8937-6ea81e2243ba",
   "metadata": {
    "tags": []
   },
   "outputs": [],
   "source": [
    "for i in range(0, K):\n",
    "    fig, axes = plt.subplots(1, 3, sharex=True, figsize=(30,30))\n",
    "\n",
    "    ax = sns.heatmap(sub_corr[i, :], ax=axes[0], center=0, vmin = -0.5, vmax = 0.5, \n",
    "                     square = True, cbar = False, cmap = \"coolwarm\", xticklabels=False, yticklabels=False)\n",
    "    ax.set_title('Covariance')\n",
    "    \n",
    "    ax = sns.heatmap(Theta[i, :], ax=axes[1], center=0, vmin = -0.5, vmax = 0.5,\n",
    "                     square = True, cbar = False, cmap = \"coolwarm\", xticklabels=False, yticklabels=False)\n",
    "    ax.set_title('Inverse Covariance')\n",
    "    \n",
    "    ax = sns.heatmap(L[i, :], ax=axes[2], center=0, vmin = -0.5, vmax = 0.5,\n",
    "                 square = True, cbar = False, cmap = \"coolwarm\", xticklabels=False, yticklabels=False)\n",
    "    ax.set_title('Low-rank')\n",
    "    \n",
    "    fig.savefig(\"plots/SGL_plots/SGL_lowrank_heatmap{0}.png\".format(i))"
   ]
  }
 ],
 "metadata": {
  "kernelspec": {
   "display_name": "Python 3 (ipykernel)",
   "language": "python",
   "name": "python3"
  },
  "language_info": {
   "codemirror_mode": {
    "name": "ipython",
    "version": 3
   },
   "file_extension": ".py",
   "mimetype": "text/x-python",
   "name": "python",
   "nbconvert_exporter": "python",
   "pygments_lexer": "ipython3",
   "version": "3.9.7"
  }
 },
 "nbformat": 4,
 "nbformat_minor": 5
}
