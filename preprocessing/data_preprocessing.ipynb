{
 "cells": [
  {
   "cell_type": "code",
   "execution_count": null,
   "id": "equipped-deviation",
   "metadata": {},
   "outputs": [],
   "source": [
    "import gglasso\n",
    "import pickle\n",
    "import numpy as np\n",
    "import pandas as pd\n",
    "import seaborn as sns\n",
    "import scipy as sp\n",
    "import matplotlib.pyplot as plt\n",
    "\n",
    "from numpy.linalg import matrix_rank\n",
    "from matplotlib.pyplot import figure\n",
    "from scipy import stats\n",
    "from scipy.linalg import eigh\n",
    "from numpy import genfromtxt\n",
    "from datetime import datetime\n",
    "\n",
    "from gglasso.solver.admm_solver import ADMM_MGL\n",
    "from gglasso.problem import glasso_problem\n",
    "\n",
    "from gglasso.helper.data_generation import generate_precision_matrix, group_power_network, sample_covariance_matrix\n",
    "from gglasso.helper.basic_linalg import adjacency_matrix\n",
    "from gglasso.helper.data_generation import time_varying_power_network, sample_covariance_matrix\n",
    "from gglasso.helper.experiment_helper import lambda_grid, discovery_rate, error\n",
    "from gglasso.helper.utils import get_K_identity\n",
    "from gglasso.helper.experiment_helper import plot_evolution, plot_deviation, surface_plot, single_heatmap_animation\n",
    "from gglasso.helper.model_selection import aic, ebic"
   ]
  },
  {
   "cell_type": "code",
   "execution_count": null,
   "id": "a9229440-a721-4cf8-9c90-e667005acf7d",
   "metadata": {},
   "outputs": [],
   "source": [
    "storage_dir = \"/lustre/groups/bds01/datasets/brains/\""
   ]
  },
  {
   "cell_type": "code",
   "execution_count": null,
   "id": "charged-rhythm",
   "metadata": {},
   "outputs": [],
   "source": [
    "### cloud\n",
    "# df_train = pd.read_csv(\"/storage/groups/bds01/datasets/brains/train.csv\", sep=',')\n",
    "# df_test = pd.read_csv(\"/storage/groups/bds01/datasets/brains/submission_valid.csv\", sep=',')\n",
    "\n",
    "# df = pd.concat([df_train, df_test], ignore_index=True)\n",
    "\n",
    "### on premises\n",
    "df_train = pd.read_csv(\"data/train.csv\", sep=',')\n",
    "df_test = pd.read_csv(\"data/submission_valid.csv\", sep=',')\n",
    "\n",
    "df = pd.concat([df_train, df_test], ignore_index=True)"
   ]
  },
  {
   "cell_type": "code",
   "execution_count": null,
   "id": "c84acd54-9b1c-4965-8644-dcd16c097cfd",
   "metadata": {},
   "outputs": [],
   "source": [
    "# df.to_csv('data/merged.csv', index=False)"
   ]
  },
  {
   "cell_type": "code",
   "execution_count": null,
   "id": "described-local",
   "metadata": {},
   "outputs": [],
   "source": [
    "print(\"Shape of datasets: \\n train - {0}, \\n test - {1}, \\n merged - {2}\".format(df_train.shape, df_test.shape, df.shape))"
   ]
  },
  {
   "cell_type": "code",
   "execution_count": null,
   "id": "07ba53c8-2393-4efa-9eb2-dde9fa4683c9",
   "metadata": {},
   "outputs": [],
   "source": [
    "sex_train = pd.read_csv(\"../sex.csv\")\n",
    "sex_test = pd.read_csv(\"../submission.csv\")\n",
    "sex = pd.concat([sex_train, sex_test])\n",
    "sex = sex.dropna()\n",
    "sex.reset_index(drop=True)"
   ]
  },
  {
   "cell_type": "code",
   "execution_count": null,
   "id": "round-penny",
   "metadata": {},
   "outputs": [],
   "source": [
    "age = df[\"age\"]"
   ]
  },
  {
   "cell_type": "code",
   "execution_count": null,
   "id": "8ab6eb79-4355-46d8-9129-59d3fa601a77",
   "metadata": {},
   "outputs": [],
   "source": [
    "# sex.to_csv('data/sex.csv', index=False)\n",
    "# age.to_csv('data/age.csv', index=False)"
   ]
  },
  {
   "cell_type": "code",
   "execution_count": null,
   "id": "cosmetic-sponsorship",
   "metadata": {},
   "outputs": [],
   "source": [
    "#drop sex and age from the data\n",
    "df = df.iloc[:, :-2]\n",
    "df.shape"
   ]
  },
  {
   "cell_type": "code",
   "execution_count": null,
   "id": "faced-steps",
   "metadata": {},
   "outputs": [],
   "source": [
    "ix_list = []\n",
    "range_ = np.arange(0,436)\n",
    "sum_ = sum(range_)\n",
    "\n",
    "#list of indices where should be 1\n",
    "for i in range(0, 436):\n",
    "    ix = sum_ - sum(range(0, 436 - i)) + i\n",
    "    ix_list.append(ix)"
   ]
  },
  {
   "cell_type": "code",
   "execution_count": null,
   "id": "fatty-quebec",
   "metadata": {},
   "outputs": [],
   "source": [
    "#create an empty list of the shape of data\n",
    "empty = np.empty([951, 95266], dtype=float)"
   ]
  },
  {
   "cell_type": "code",
   "execution_count": null,
   "id": "artificial-romantic",
   "metadata": {},
   "outputs": [],
   "source": [
    "for i, row in df.iterrows():\n",
    "    a = np.array(row)\n",
    "    \n",
    "    for ix in ix_list:\n",
    "        a = np.insert(a, ix, 1, axis=0)\n",
    "    \n",
    "    empty[i, :] = a"
   ]
  },
  {
   "cell_type": "code",
   "execution_count": null,
   "id": "iraqi-aruba",
   "metadata": {},
   "outputs": [],
   "source": [
    "diag_df = pd.DataFrame(empty)\n",
    "diag_df.shape"
   ]
  },
  {
   "cell_type": "markdown",
   "id": "living-salad",
   "metadata": {},
   "source": [
    "### From feature vector to correlation matrix"
   ]
  },
  {
   "cell_type": "code",
   "execution_count": null,
   "id": "signed-writing",
   "metadata": {},
   "outputs": [],
   "source": [
    "corr = []\n",
    "for _, i in diag_df.iterrows():\n",
    "    #split a row to subrows representing columns in corr matrix\n",
    "    #exclude 0 index from splitting criteria\n",
    "    items = np.split(i, ix_list[1:])\n",
    "    \n",
    "    # get the maximum  col length\n",
    "    maxlen = len(max(items, key=len))\n",
    "    \n",
    "    # pad left of each sublist with NaN to make it as long as the longest\n",
    "    i = 0\n",
    "    for item in items:\n",
    "        nans = np.repeat(np.nan, (maxlen - len(item)))\n",
    "        item = np.concatenate((nans, item), axis=None)\n",
    "        items[i] = item\n",
    "        i += 1\n",
    "        \n",
    "    #create upper and lower triangular matrices\n",
    "    upper = pd.DataFrame.from_records(items)\n",
    "    lower = upper.T\n",
    "    \n",
    "    #full corr matrix\n",
    "    c = upper.fillna(lower)\n",
    "    \n",
    "    corr.append(c)"
   ]
  },
  {
   "cell_type": "code",
   "execution_count": null,
   "id": "spread-replacement",
   "metadata": {},
   "outputs": [],
   "source": [
    "C = np.array(corr)\n",
    "C.shape"
   ]
  },
  {
   "cell_type": "code",
   "execution_count": null,
   "id": "corporate-bachelor",
   "metadata": {},
   "outputs": [],
   "source": [
    "ein_counts = []\n",
    "\n",
    "for i in range(0, C.shape[0]):\n",
    "    for j in range(0, C.shape[1]):\n",
    "        if C[i][j].any() >= 1:\n",
    "            #print(\"Not a corr value at matrix - {0}\".format(i))\n",
    "            ein_counts.append(1)\n",
    "        elif C[i][j].any() <= -1:\n",
    "            #print(\"Not a corr value at {0}\".format(i))\n",
    "            ein_counts.append(1)\n",
    "print(\"If 1 is only at the diagonal: 951*436 = {0}\".format(951*436))\n",
    "print(\"Total number of ones: {0}\".format(np.array(ein_counts).sum()))"
   ]
  },
  {
   "cell_type": "code",
   "execution_count": null,
   "id": "immune-projection",
   "metadata": {},
   "outputs": [],
   "source": [
    "#check if any NaN\n",
    "pd.DataFrame(C[0]).isnull().values.any()"
   ]
  },
  {
   "cell_type": "markdown",
   "id": "24df9b28-dc2b-438b-9774-e61251d2cba6",
   "metadata": {},
   "source": [
    "# SPD violation problem "
   ]
  },
  {
   "cell_type": "markdown",
   "id": "287b8a1a-3d00-49aa-870c-f30f98ba76cd",
   "metadata": {
    "jp-MarkdownHeadingCollapsed": true,
    "tags": []
   },
   "source": [
    "### Workaround #1"
   ]
  },
  {
   "cell_type": "code",
   "execution_count": null,
   "id": "c0ce2e26-f5d0-4f11-9643-c0ede468591f",
   "metadata": {},
   "outputs": [],
   "source": [
    "# take first corr matrix as an example\n",
    "test_C = C[0]\n",
    "test_C.shape\n",
    "\n",
    "tol = 1e-14\n",
    "\n",
    "#eigendecompsition for symmetric matrix\n",
    "v, r = eigh(test_C)\n",
    "\n",
    "# set very small values to 0\n",
    "v.real[abs(v.real) < tol] = 0.0\n",
    "\n",
    "#create diag matrix for further matrix multiplication\n",
    "v = np.diag(v)\n",
    "\n",
    "v.diagonal()"
   ]
  },
  {
   "cell_type": "code",
   "execution_count": null,
   "id": "cb579196-615c-42e1-97e5-ea37219c1941",
   "metadata": {},
   "outputs": [],
   "source": [
    "#back to correlation through solving A = rvr*\n",
    "new_test = r@v@sp.linalg.inv(r)\n",
    "new_test.shape"
   ]
  },
  {
   "cell_type": "markdown",
   "id": "27f0a819-1fb8-4ec9-8ff0-e25cb2f57b27",
   "metadata": {},
   "source": [
    "Now, the matrix has to be SPD by the definition since all eigenvalues are non-negative."
   ]
  },
  {
   "cell_type": "code",
   "execution_count": null,
   "id": "8d739f7c-0296-416e-b98f-864f2de37d6e",
   "metadata": {},
   "outputs": [],
   "source": [
    "figure(figsize=(8, 8), dpi=150)\n",
    "\n",
    "plt.plot(v.diagonal(), label=\"eigenvalues\")\n",
    "# plt.yscale('log')\n",
    "plt.legend()\n",
    "plt.show()"
   ]
  },
  {
   "cell_type": "markdown",
   "id": "cf2f4142-416e-49dc-91e6-3c0717a3f761",
   "metadata": {},
   "source": [
    "However, if we do Choleskiy decomposition of a new matrix, it will still gives us an error since the matrix is not SPD.\n",
    "\n",
    "Can  this be due to some approximation in Numpy implementation?"
   ]
  },
  {
   "cell_type": "code",
   "execution_count": null,
   "id": "b1cb91b7-3ce7-474d-9611-47eb51dc1c6d",
   "metadata": {},
   "outputs": [],
   "source": [
    "# np.linalg.cholesky(new_test)\n",
    "\n",
    "# a = pd.DataFrame(test_C)\n",
    "# b = pd.DataFrame(new_test)\n",
    "# # a.compare(b)"
   ]
  },
  {
   "cell_type": "markdown",
   "id": "d6e6eac7-1430-4f3e-beab-ab4a077e5405",
   "metadata": {},
   "source": [
    "For example, if we do eigendecomposition of a new matrix, we will find very small negative eigenvalues again.\n",
    "\n",
    "After this small expriment we can see that some of the eigen values are very close to zero, but not absolute zero.\n",
    "\n",
    "\n",
    "This prevents the matrix to be positive semidefinite, we will set those extremelly small values to 0 and reconstruct correlation matrix. accordingly."
   ]
  },
  {
   "cell_type": "code",
   "execution_count": null,
   "id": "fa9daf35-aacb-40c5-b3b9-10351a7f8acf",
   "metadata": {
    "tags": []
   },
   "outputs": [],
   "source": [
    "#check if the matrix is SPD\n",
    "np.linalg.cholesky(test_C)"
   ]
  },
  {
   "cell_type": "markdown",
   "id": "exposed-surgeon",
   "metadata": {},
   "source": [
    "If the resulting matrix is not semipositive definite, we violates GGLasso constraint."
   ]
  },
  {
   "cell_type": "markdown",
   "id": "a96ac398-6d66-4407-9840-8bf8fdfa099b",
   "metadata": {},
   "source": [
    "### Workaround #2 (currently used)"
   ]
  },
  {
   "cell_type": "code",
   "execution_count": null,
   "id": "adfab798-97dd-46bd-b776-1955e303345b",
   "metadata": {
    "tags": []
   },
   "outputs": [],
   "source": [
    "# (436,436) identity matrix\n",
    "I = np.eye(C.shape[1])\n",
    "\n",
    "tol_up = 10e-6\n",
    "tol_low = 10e-14\n",
    "\n",
    "corr_mod = []\n",
    "\n",
    "# 951 matrices\n",
    "for i in range(0, C.shape[0]):\n",
    "    matrix = C[i]\n",
    "    \n",
    "    eigenvalues = eigh(matrix, eigvals_only=True)\n",
    "    #change negative to zero first and then continue - does not make sense becuase the reproducible matrix will have neagtive eigenvalues again.\n",
    "    min_positive = np.select(eigenvalues > 0, eigenvalues)\n",
    "    \n",
    "    if min_positive > tol_up:\n",
    "        min_positive = tol_up\n",
    "    elif min_positive < tol_low:\n",
    "        min_positive = tol_low\n",
    "    \n",
    "    matrix = matrix + I*min_positive\n",
    "    \n",
    "    try:\n",
    "        np.linalg.cholesky(matrix)\n",
    "        corr_mod.append(matrix)\n",
    "    except:\n",
    "        print(\"Some matrices are not SPD\")"
   ]
  },
  {
   "cell_type": "code",
   "execution_count": null,
   "id": "39632bbf-5d8c-40f5-96ed-8708424bc529",
   "metadata": {},
   "outputs": [],
   "source": [
    "corr_mod = np.array(corr_mod)\n",
    "corr_mod.shape"
   ]
  },
  {
   "cell_type": "code",
   "execution_count": null,
   "id": "e3181ff9-6c39-46fa-8645-08b227ec94b6",
   "metadata": {},
   "outputs": [],
   "source": [
    "# select first 50 corr matrices\n",
    "sub_corr = corr_mod[:50, :]\n",
    "\n",
    "sub_corr.shape"
   ]
  },
  {
   "cell_type": "code",
   "execution_count": null,
   "id": "68b03c03-d2a5-4c7f-b625-83d63845febb",
   "metadata": {},
   "outputs": [],
   "source": [
    "#dump matrices into csv\n",
    "for i in range(0, sub_corr.shape[0]):\n",
    "    np.savetxt(\"data/sub_corr50/sub_corr{0}.csv\".format(i), sub_corr[i], delimiter=\",\", header='')"
   ]
  },
  {
   "cell_type": "markdown",
   "id": "together-module",
   "metadata": {},
   "source": [
    "### Semi-positive definite matrix"
   ]
  },
  {
   "cell_type": "markdown",
   "id": "9d6d6a5a-8bc3-4a6c-ba3c-9fcbf2413c02",
   "metadata": {},
   "source": [
    "Run for 50 matrices first"
   ]
  },
  {
   "cell_type": "code",
   "execution_count": null,
   "id": "supposed-hello",
   "metadata": {},
   "outputs": [],
   "source": [
    "N = corr_mod.shape[1]\n",
    "N"
   ]
  },
  {
   "cell_type": "code",
   "execution_count": null,
   "id": "annual-mayor",
   "metadata": {},
   "outputs": [],
   "source": [
    "P = glasso_problem(corr_mod[:50, :], N, reg_params = {'lambda1': 0.05}, latent = True, do_scaling = False)\n",
    "print(P)"
   ]
  },
  {
   "cell_type": "code",
   "execution_count": null,
   "id": "banner-lender",
   "metadata": {
    "tags": []
   },
   "outputs": [],
   "source": [
    "lambda1_range = np.logspace(0, -1, 5)\n",
    "mu1_range = np.logspace(0, -1, 5)\n",
    "modelselect_params = {'lambda1_range': lambda1_range, 'mu1_range': mu1_range}\n",
    "\n",
    "P.model_selection(modelselect_params = modelselect_params, method = 'eBIC', gamma = 0.25)\n",
    "\n",
    "# regularization parameters are set to the best ones found during model selection\n",
    "print(P.reg_params)"
   ]
  },
  {
   "cell_type": "code",
   "execution_count": null,
   "id": "spread-wiring",
   "metadata": {},
   "outputs": [],
   "source": [
    "#tmp = P.modelselect_stats\n",
    "sol = P.solution.precision_\n",
    "P.solution.calc_adjacency(t = 1e-4)"
   ]
  },
  {
   "cell_type": "code",
   "execution_count": null,
   "id": "forty-international",
   "metadata": {
    "tags": []
   },
   "outputs": [],
   "source": [
    "# reg = \"FGL\"\n",
    "# lambda1 = 0.002\n",
    "# lambda2 = 0.002\n",
    "# mu1 = 0.01\n",
    "\n",
    "\n",
    "# K = corr.shape[0]\n",
    "# p = corr.shape[1]\n",
    "\n",
    "# Omega_0 = get_K_identity(K,p)\n",
    "# Theta_0 = get_K_identity(K,p)\n",
    "# X_0 = np.zeros((K,p,p))\n",
    "\n",
    "# sol, info = ADMM_MGL(SPD, lambda1, lambda2, reg, Omega_0, Theta_0 = Theta_0, X_0 = X_0, tol = 1e-8, rtol = 1e-8, mu1=mu1, latent=True,verbose = True, measure = False)"
   ]
  },
  {
   "cell_type": "code",
   "execution_count": null,
   "id": "fossil-texture",
   "metadata": {},
   "outputs": [],
   "source": [
    "sol.shape"
   ]
  },
  {
   "cell_type": "code",
   "execution_count": null,
   "id": "0aa4f73e-49dc-4e53-a7ec-33c43ca9529b",
   "metadata": {},
   "outputs": [],
   "source": [
    "Omega = P.solution.precision_\n",
    "L = P.solution.lowrank_\n",
    "S = P.solution.sample_covariance_"
   ]
  },
  {
   "cell_type": "code",
   "execution_count": null,
   "id": "cc3d817e-d01c-47be-bef4-5b63954cb6cb",
   "metadata": {},
   "outputs": [],
   "source": [
    "Omega.shape, L.shape, S.shape"
   ]
  },
  {
   "cell_type": "code",
   "execution_count": null,
   "id": "b29a17df-537b-49b0-a934-3abaacf92cc9",
   "metadata": {},
   "outputs": [],
   "source": [
    "Omega[49].shape"
   ]
  },
  {
   "cell_type": "code",
   "execution_count": null,
   "id": "c3172b05-d222-4420-9849-4eecdc38bbee",
   "metadata": {},
   "outputs": [],
   "source": [
    "#dump matrices into csv\n",
    "# for i in range(0, 50):\n",
    "#     np.savetxt(\"output/Omega{0}.csv\".format(i), Omega[i], delimiter=\",\", header='')\n",
    "#     np.savetxt(\"output/L{0}.csv\".format(i), L[i], delimiter=\",\", header='')\n",
    "#     np.savetxt(\"output/S{0}.csv\".format(i), S[i], delimiter=\",\", header='')"
   ]
  },
  {
   "cell_type": "code",
   "execution_count": null,
   "id": "a880c8d8-73d6-49fc-9b2d-8c49145bf46d",
   "metadata": {},
   "outputs": [],
   "source": [
    "# my_data = genfromtxt('my_file.csv', delimiter=',')"
   ]
  },
  {
   "cell_type": "code",
   "execution_count": null,
   "id": "26e8b5d4-8180-4676-bfb6-7cb258ea939d",
   "metadata": {},
   "outputs": [],
   "source": [
    "#read csv and convert them to numpy back\n",
    "\n",
    "Omega = []\n",
    "L = []\n",
    "S = []\n",
    "\n",
    "for i in range(0, 50):\n",
    "    Omega.append(genfromtxt(\"output/Omega{0}.csv\".format(i), delimiter=','))\n",
    "    L.append(genfromtxt(\"output/L{0}.csv\".format(i), delimiter=','))\n",
    "    S.append(genfromtxt(\"output/S{0}.csv\".format(i), delimiter=','))\n",
    "    \n",
    "\n",
    "Omega = np.array(Omega)\n",
    "L = np.array(L)\n",
    "S = np.array(S)"
   ]
  },
  {
   "cell_type": "code",
   "execution_count": null,
   "id": "north-atlantic",
   "metadata": {},
   "outputs": [],
   "source": [
    "# theta = open('Theta.pkl', 'wb')\n",
    "# pickle.dump(sol[\"Theta\"], theta)\n",
    "# theta.close()"
   ]
  },
  {
   "cell_type": "code",
   "execution_count": null,
   "id": "internal-medicaid",
   "metadata": {},
   "outputs": [],
   "source": [
    "# omega = open('Omega.pkl', 'wb')\n",
    "# pickle.dump(sol[\"Omega\"], omega)\n",
    "# omega.close()"
   ]
  },
  {
   "cell_type": "code",
   "execution_count": null,
   "id": "composed-sandwich",
   "metadata": {},
   "outputs": [],
   "source": [
    "# L_list = open('L.pkl', 'wb')\n",
    "# pickle.dump(sol[\"L\"], L_list)\n",
    "# L_list.close()"
   ]
  },
  {
   "cell_type": "code",
   "execution_count": null,
   "id": "necessary-diana",
   "metadata": {},
   "outputs": [],
   "source": [
    "# X_list = open('X.pkl', 'wb')\n",
    "# pickle.dump(sol[\"X\"], X_list)\n",
    "# X_list.close()"
   ]
  },
  {
   "cell_type": "code",
   "execution_count": null,
   "id": "controlled-pursuit",
   "metadata": {},
   "outputs": [],
   "source": [
    "# matrix_rank(sol[\"L\"])"
   ]
  },
  {
   "cell_type": "code",
   "execution_count": null,
   "id": "personal-pursuit",
   "metadata": {},
   "outputs": [],
   "source": [
    "sns.set(rc={'figure.figsize':(15,15)})"
   ]
  },
  {
   "cell_type": "code",
   "execution_count": null,
   "id": "71254a92-4090-44e3-b8b2-45c6a73ad1f7",
   "metadata": {},
   "outputs": [],
   "source": [
    "ax = sns.heatmap(corr_mod[0,:], center=0, vmin = -0.5, vmax = 0.5, square = True, cbar = False, cmap = \"coolwarm\")"
   ]
  },
  {
   "cell_type": "code",
   "execution_count": null,
   "id": "southern-michael",
   "metadata": {},
   "outputs": [],
   "source": [
    "ax = sns.heatmap(sol[0,:], center=0, vmin = -0.5, vmax = 0.5, square = True, cbar = False, cmap = \"coolwarm\")"
   ]
  },
  {
   "cell_type": "code",
   "execution_count": null,
   "id": "fb8d0ea5-258c-49f8-9c22-dbd612c88fe3",
   "metadata": {},
   "outputs": [],
   "source": [
    "ax = sns.heatmap(Omega[0,:], center=0, vmin = -0.5, vmax = 0.5, square = True, cbar = False, cmap = \"coolwarm\")"
   ]
  },
  {
   "cell_type": "code",
   "execution_count": null,
   "id": "apparent-payroll",
   "metadata": {},
   "outputs": [],
   "source": [
    "# ax = sns.heatmap(sol[\"L\"][0,:], center=0, vmin = -0.5, vmax = 0.5, square = True, cbar = False, cmap = \"coolwarm\")"
   ]
  },
  {
   "cell_type": "code",
   "execution_count": null,
   "id": "noted-musical",
   "metadata": {},
   "outputs": [],
   "source": [
    "# sparse = open(\"sparse.txt\", \"w\")\n",
    "# for row in sol[\"Theta\"]:\n",
    "#     np.savetxt(sparse, row)\n",
    "\n",
    "# sparse.close()"
   ]
  },
  {
   "cell_type": "markdown",
   "id": "olympic-topic",
   "metadata": {},
   "source": [
    "## RobustPCA"
   ]
  },
  {
   "cell_type": "code",
   "execution_count": null,
   "id": "distant-supply",
   "metadata": {},
   "outputs": [],
   "source": [
    "age.shape, sex.shape"
   ]
  },
  {
   "cell_type": "code",
   "execution_count": null,
   "id": "steady-utility",
   "metadata": {},
   "outputs": [],
   "source": [
    "def robust_PCA(X, L, inverse=True):\n",
    "    sig, V = np.linalg.eigh(L)\n",
    "\n",
    "    # sort eigenvalues in descending order\n",
    "    sig = sig[::-1]\n",
    "    V = V[:,::-1]\n",
    "\n",
    "    ind = np.argwhere(sig > 1e-9)\n",
    "\n",
    "    if inverse:\n",
    "        loadings = V[:,ind] @ np.diag(np.sqrt(1/sig[ind]))\n",
    "    else:\n",
    "        loadings = V[:,ind] @ np.diag(np.sqrt(sig[ind]))\n",
    "\n",
    "    # compute the projection\n",
    "    zu = X.T @ loadings\n",
    "\n",
    "    return zu, loadings, np.round(sig[ind].squeeze(),3)"
   ]
  },
  {
   "cell_type": "code",
   "execution_count": null,
   "id": "pregnant-adams",
   "metadata": {},
   "outputs": [],
   "source": [
    "L = np.array(sol[\"L\"])[0,:]\n",
    "proj, loadings, eigv = robust_PCA(SPD[0,:], L, inverse=True)\n",
    "r = np.linalg.matrix_rank(L)\n",
    "print(r)"
   ]
  },
  {
   "cell_type": "code",
   "execution_count": null,
   "id": "later-approach",
   "metadata": {},
   "outputs": [],
   "source": [
    "proj.shape"
   ]
  },
  {
   "cell_type": "markdown",
   "id": "ideal-mayor",
   "metadata": {},
   "source": [
    "## Age vs. PC1"
   ]
  },
  {
   "cell_type": "code",
   "execution_count": null,
   "id": "private-protection",
   "metadata": {},
   "outputs": [],
   "source": [
    "proj[:,0].shape, age.shape"
   ]
  },
  {
   "cell_type": "code",
   "execution_count": null,
   "id": "removable-ethernet",
   "metadata": {},
   "outputs": [],
   "source": [
    "fig, ax = plt.subplots(1,1)\n",
    "im = ax.scatter(proj[:100,0], age,c = sex, cmap = plt.cm.Greens, vmin = -1)\n",
    "cbar = fig.colorbar(im)\n",
    "ax.set_xlabel(f\"PCA component 1 with eigenvalue {eigv[0]}\")\n",
    "ax.set_ylabel(\"Age\")\n",
    "\n",
    "print(\"Spearman correlation between age and 1st component: {0}, p-value: {1}\".format(stats.spearmanr(age, proj[:100,0])[0],\n",
    "                                                                              stats.spearmanr(age, proj[:100,0])[1]))"
   ]
  },
  {
   "cell_type": "markdown",
   "id": "taken-barcelona",
   "metadata": {},
   "source": [
    "## Sex vs. PC2"
   ]
  },
  {
   "cell_type": "code",
   "execution_count": null,
   "id": "about-cycling",
   "metadata": {},
   "outputs": [],
   "source": [
    "fig, ax = plt.subplots(1,1)\n",
    "im = ax.scatter(proj[:100,0], sex, cmap = plt.cm.Blues, vmin = 0)\n",
    "cbar = fig.colorbar(im)\n",
    "ax.set_xlabel(f\"PCA component 2 with eigenvalue {eigv[0]}\")\n",
    "ax.set_ylabel(\"Sex\")\n",
    "\n",
    "print(\"Spearman correlation between sex and 2st component: {0}, p-value: {1}\".format(stats.spearmanr(sex, proj[:100,0])[0],\n",
    "                                                                              stats.spearmanr(sex, proj[:100,0])[1]))"
   ]
  }
 ],
 "metadata": {
  "kernelspec": {
   "display_name": "Python 3 (ipykernel)",
   "language": "python",
   "name": "python3"
  },
  "language_info": {
   "codemirror_mode": {
    "name": "ipython",
    "version": 3
   },
   "file_extension": ".py",
   "mimetype": "text/x-python",
   "name": "python",
   "nbconvert_exporter": "python",
   "pygments_lexer": "ipython3",
   "version": "3.9.7"
  }
 },
 "nbformat": 4,
 "nbformat_minor": 5
}
