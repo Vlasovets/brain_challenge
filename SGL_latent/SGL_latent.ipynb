{
 "cells": [
  {
   "cell_type": "code",
   "execution_count": null,
   "id": "36a733a0-9bf7-4a72-86f8-ccd47908694f",
   "metadata": {},
   "outputs": [],
   "source": [
    "# %cd f-threshold-select"
   ]
  },
  {
   "cell_type": "code",
   "execution_count": null,
   "id": "f7b25a0a-34e5-45c1-81e5-8f6c8a0da361",
   "metadata": {
    "tags": []
   },
   "outputs": [],
   "source": [
    "# !git clone https://github.com/fabian-sp/GGLasso.git"
   ]
  },
  {
   "cell_type": "code",
   "execution_count": null,
   "id": "4107de80-001c-488d-9115-5951f771986d",
   "metadata": {},
   "outputs": [],
   "source": [
    "import gglasso\n",
    "import pickle\n",
    "import numpy as np\n",
    "import pandas as pd\n",
    "import seaborn as sns\n",
    "import scipy as sp\n",
    "import matplotlib.pyplot as plt\n",
    "\n",
    "from numpy.linalg import matrix_rank\n",
    "from matplotlib.pyplot import figure\n",
    "from scipy import stats\n",
    "from scipy.linalg import eigh\n",
    "from numpy import genfromtxt\n",
    "\n",
    "from gglasso.solver.admm_solver import ADMM_MGL\n",
    "from gglasso.problem import glasso_problem\n",
    "\n",
    "from gglasso.helper.data_generation import generate_precision_matrix, group_power_network, sample_covariance_matrix\n",
    "from gglasso.helper.basic_linalg import adjacency_matrix\n",
    "from gglasso.helper.data_generation import time_varying_power_network, sample_covariance_matrix\n",
    "from gglasso.helper.experiment_helper import lambda_grid, discovery_rate, error\n",
    "from gglasso.helper.utils import get_K_identity\n",
    "from gglasso.helper.experiment_helper import plot_evolution, plot_deviation, surface_plot, single_heatmap_animation\n",
    "from gglasso.helper.model_selection import aic, ebic, K_single_grid"
   ]
  },
  {
   "cell_type": "markdown",
   "id": "e7cc3982-33cf-4e9b-b5ad-f25a6951522c",
   "metadata": {},
   "source": [
    "### Read data"
   ]
  },
  {
   "cell_type": "code",
   "execution_count": null,
   "id": "cf0182eb-f63f-4fe3-8e0c-4382b145d962",
   "metadata": {},
   "outputs": [],
   "source": [
    "sub_corr = []\n",
    "\n",
    "for i in range(0, 50):\n",
    "    sub_corr.append(genfromtxt(\"/storage/groups/bds01/datasets/brains/sub_corr50/sub_corr{0}.csv\".format(i), delimiter=','))\n",
    "\n",
    "sub_corr = np.array(sub_corr)\n",
    "sub_corr.shape"
   ]
  },
  {
   "cell_type": "markdown",
   "id": "a2f452b3-2ce4-43ec-9391-ca5ed4984216",
   "metadata": {},
   "source": [
    "### Single GL"
   ]
  },
  {
   "cell_type": "code",
   "execution_count": null,
   "id": "e33da049-2251-4c1f-a5f1-9ebe5f206ede",
   "metadata": {},
   "outputs": [],
   "source": [
    "lambda1_range = np.logspace(0, -1, 5)\n",
    "mu1_range = np.logspace(0, -1, 5)"
   ]
  },
  {
   "cell_type": "code",
   "execution_count": null,
   "id": "95d51918-0824-4b94-9db1-77ca17429752",
   "metadata": {},
   "outputs": [],
   "source": [
    "N = sub_corr.shape[1]"
   ]
  },
  {
   "cell_type": "code",
   "execution_count": null,
   "id": "a7dd5be2-3006-4ea3-b26c-970ea9496ad0",
   "metadata": {},
   "outputs": [],
   "source": [
    "est_uniform, est_indv, statistics = K_single_grid(sub_corr[:1, :], lambda1_range, N,\n",
    "                                                  mu_range = mu1_range,\n",
    "                                                  method = 'eBIC', gamma = 0.3, \n",
    "                                                  latent = True, use_block = True)"
   ]
  },
  {
   "cell_type": "code",
   "execution_count": null,
   "id": "ba2fe81e-0f2e-42ba-8b3d-a478d9d30ad9",
   "metadata": {},
   "outputs": [],
   "source": [
    "K = est_uniform[\"Theta\"].shape[0]"
   ]
  },
  {
   "cell_type": "code",
   "execution_count": null,
   "id": "381ab764-afbf-4ce0-99c7-142d58794f37",
   "metadata": {},
   "outputs": [],
   "source": [
    "# dump matrices into csv\n",
    "for i in range(0, K):\n",
    "    np.savetxt(\"/storage/groups/bds01/datasets/brains/est_uniform_latent50/Theta{0}.csv\".format(i), est_uniform[\"Theta\"][i], \n",
    "               delimiter=\",\", header='')\n",
    "    np.savetxt(\"/storage/groups/bds01/datasets/brains/est_uniform_latent50/L{0}.csv\".format(i), est_uniform[\"L\"][i], \n",
    "               delimiter=\",\", header='')"
   ]
  },
  {
   "cell_type": "code",
   "execution_count": null,
   "id": "34d48550-b266-4365-8927-7071a58900ee",
   "metadata": {},
   "outputs": [],
   "source": [
    "# !jupyter nbconvert --to script --no-prompt SGL_latent.ipynb"
   ]
  },
  {
   "cell_type": "code",
   "execution_count": null,
   "id": "a25ae86f-9770-4e9c-8592-09dc1ac6c18a",
   "metadata": {},
   "outputs": [],
   "source": [
    "with open('/storage/groups/bds01/datasets/brains/statistics_SGL_latent50.txt', 'w') as f:\n",
    "    print(statistics, file=f)"
   ]
  },
  {
   "cell_type": "markdown",
   "id": "1a848816-342a-48e1-8ff3-9934e0ef971f",
   "metadata": {},
   "source": [
    "### Read solution"
   ]
  },
  {
   "cell_type": "code",
   "execution_count": null,
   "id": "0bea85db-00b8-47b6-aa18-339103140c76",
   "metadata": {},
   "outputs": [],
   "source": [
    "Theta = []\n",
    "L = []\n",
    "\n",
    "for i in range(0, 50):\n",
    "    Theta.append(genfromtxt(\"/storage/groups/bds01/datasets/brains/est_uniform_latent50/Theta{0}.csv\".format(i), delimiter=','))\n",
    "    L.append(genfromtxt(\"/storage/groups/bds01/datasets/brains/est_uniform_latent50/L{0}.csv\".format(i), delimiter=','))\n",
    "\n",
    "Theta, L = np.array(Theta), np.array(L)\n",
    "Theta.shape, L.shape"
   ]
  },
  {
   "cell_type": "code",
   "execution_count": null,
   "id": "f93e02b9-fdb2-41ce-b375-26e1e21c0cec",
   "metadata": {},
   "outputs": [],
   "source": [
    "K = Theta.shape[0]"
   ]
  },
  {
   "cell_type": "markdown",
   "id": "1e5c2d20-7ea6-4054-a23a-af64aae83f58",
   "metadata": {},
   "source": [
    "### Plot the solution and low rank"
   ]
  },
  {
   "cell_type": "code",
   "execution_count": null,
   "id": "32d88f46-a5f9-4653-8937-6ea81e2243ba",
   "metadata": {
    "tags": []
   },
   "outputs": [],
   "source": [
    "for i in range(0, K):\n",
    "    fig, axes = plt.subplots(1, 3, sharex=True, figsize=(30,30))\n",
    "\n",
    "    ax = sns.heatmap(sub_corr[i, :], ax=axes[0], center=0, vmin = -0.5, vmax = 0.5, \n",
    "                     square = True, cbar = False, cmap = \"coolwarm\", xticklabels=False, yticklabels=False)\n",
    "    ax.set_title('Covariance')\n",
    "    \n",
    "    ax = sns.heatmap(Theta[i, :], ax=axes[1], center=0, vmin = -0.5, vmax = 0.5,\n",
    "                     square = True, cbar = False, cmap = \"coolwarm\", xticklabels=False, yticklabels=False)\n",
    "    ax.set_title('Inverse Covariance')\n",
    "    \n",
    "    ax = sns.heatmap(L[i, :], ax=axes[2], center=0, vmin = -0.5, vmax = 0.5,\n",
    "                 square = True, cbar = False, cmap = \"coolwarm\", xticklabels=False, yticklabels=False)\n",
    "    ax.set_title('Low-rank')\n",
    "    \n",
    "    fig.savefig(\"plots/SGL_plots/SGL_lowrank_heatmap{0}.png\".format(i))"
   ]
  },
  {
   "cell_type": "markdown",
   "id": "cd4ce185-c134-4635-ba88-c7e86b1c7bc8",
   "metadata": {},
   "source": [
    "## Logistic regression"
   ]
  },
  {
   "cell_type": "code",
   "execution_count": null,
   "id": "96d5808f-79c4-499d-ba87-0547ec5381e7",
   "metadata": {},
   "outputs": [],
   "source": [
    "from sklearn.linear_model import LogisticRegression\n",
    "from sklearn.model_selection import train_test_split"
   ]
  },
  {
   "cell_type": "code",
   "execution_count": null,
   "id": "5271c897-1c4e-4f0e-8120-6d6f7dce996b",
   "metadata": {},
   "outputs": [],
   "source": [
    "sex = pd.read_csv(\"/storage/groups/bds01/datasets/brains/sex.csv\")\n",
    "age = pd.read_csv(\"/storage/groups/bds01/datasets/brains/age.csv\")"
   ]
  },
  {
   "cell_type": "code",
   "execution_count": null,
   "id": "1a92190b-fe15-4e7c-b24e-8b6dc12c8ea5",
   "metadata": {},
   "outputs": [],
   "source": [
    "sex_50 = np.array(sex.iloc[:50,])\n",
    "age_50 = np.array(age.iloc[:50,])"
   ]
  },
  {
   "cell_type": "markdown",
   "id": "d30ba0b5-9161-4602-944f-27bf493fee0d",
   "metadata": {},
   "source": [
    "### Predict sex"
   ]
  },
  {
   "cell_type": "code",
   "execution_count": null,
   "id": "4f6c2f17-ecc6-4364-9612-93d0653287de",
   "metadata": {},
   "outputs": [],
   "source": [
    "X, y = L, sex_50"
   ]
  },
  {
   "cell_type": "code",
   "execution_count": null,
   "id": "40561996-db94-4da4-9e18-28d74d493bb5",
   "metadata": {},
   "outputs": [],
   "source": [
    "X.shape, y.shape"
   ]
  },
  {
   "cell_type": "code",
   "execution_count": null,
   "id": "9f955910-e839-4cf8-936d-db6b3d3ebf00",
   "metadata": {},
   "outputs": [],
   "source": [
    "X_train, X_test, Y_train, Y_test = train_test_split(X, y, test_size=0.20, random_state=42)\n",
    "print('X_train: ',X_train.shape)\n",
    "print('X_test: ',X_test.shape)\n",
    "print('Y_train: ',Y_train.shape)\n",
    "print('Y_test: ',Y_test.shape)"
   ]
  },
  {
   "cell_type": "code",
   "execution_count": null,
   "id": "c60f4512-d560-4f88-afb8-3658e52eb504",
   "metadata": {},
   "outputs": [],
   "source": [
    "# Converting the 3D matrix to 2D matrix\n",
    "print('X_train: ',X_train.shape)\n",
    "print('X_test: ',X_test.shape)\n",
    "\n",
    "number_of_train = X_train.shape[0]\n",
    "number_of_test = X_test.shape[0]\n",
    "\n",
    "X_train_flatten = X_train.reshape(number_of_train, X_train.shape[1]*X_train.shape[2])\n",
    "X_test_flatten = X_test .reshape(number_of_test, X_test.shape[1]*X_test.shape[2])\n",
    "\n",
    "print(\"X train flatten\", X_train_flatten.shape)\n",
    "print(\"X test flatten\", X_test_flatten.shape)\n",
    "\n",
    "x_train = X_train_flatten\n",
    "x_test = X_test_flatten\n",
    "y_train = Y_train\n",
    "y_test = Y_test\n",
    "\n",
    "print(\"x train: \", x_train.shape)\n",
    "print(\"x test: \", x_test.shape)\n",
    "print(\"y train: \", y_train.shape)\n",
    "print(\"y test: \", y_test.shape)"
   ]
  },
  {
   "cell_type": "code",
   "execution_count": null,
   "id": "77408210-601d-46e4-9618-ecd89f682be9",
   "metadata": {},
   "outputs": [],
   "source": [
    "# create model and train test accuracy print\n",
    "logreg = LogisticRegression(random_state = 42, max_iter= 150, penalty='l2')\n",
    "logreg.fit(x_train, y_train.ravel())\n",
    "print(\"Test accuracy: {} \".format(logreg.score(x_test, y_test)))"
   ]
  }
 ],
 "metadata": {
  "kernelspec": {
   "display_name": "Python 3 (ipykernel)",
   "language": "python",
   "name": "python3"
  },
  "language_info": {
   "codemirror_mode": {
    "name": "ipython",
    "version": 3
   },
   "file_extension": ".py",
   "mimetype": "text/x-python",
   "name": "python",
   "nbconvert_exporter": "python",
   "pygments_lexer": "ipython3",
   "version": "3.9.7"
  }
 },
 "nbformat": 4,
 "nbformat_minor": 5
}
