{
 "cells": [
  {
   "cell_type": "code",
   "execution_count": null,
   "id": "2388f46f-2c30-4f8c-9ed1-3e5b1490ed0e",
   "metadata": {},
   "outputs": [],
   "source": [
    "import os\n",
    "import gglasso\n",
    "import pickle\n",
    "import numpy as np\n",
    "import pandas as pd\n",
    "import seaborn as sns\n",
    "import scipy as sp\n",
    "import matplotlib.pyplot as plt\n",
    "\n",
    "from numpy.linalg import matrix_rank\n",
    "from matplotlib.pyplot import figure\n",
    "from scipy import stats\n",
    "from scipy.linalg import eigh\n",
    "from numpy import genfromtxt\n",
    "\n",
    "from gglasso.solver.admm_solver import ADMM_MGL\n",
    "from gglasso.problem import glasso_problem\n",
    "\n",
    "from gglasso.helper.data_generation import generate_precision_matrix, group_power_network, sample_covariance_matrix\n",
    "from gglasso.helper.basic_linalg import adjacency_matrix\n",
    "from gglasso.helper.data_generation import time_varying_power_network, sample_covariance_matrix\n",
    "from gglasso.helper.experiment_helper import lambda_grid, discovery_rate, error\n",
    "from gglasso.helper.utils import get_K_identity\n",
    "from gglasso.helper.experiment_helper import plot_evolution, plot_deviation, surface_plot, single_heatmap_animation\n",
    "from gglasso.helper.model_selection import aic, ebic, K_single_grid"
   ]
  },
  {
   "cell_type": "code",
   "execution_count": null,
   "id": "7d3c6d57-47f4-4ab7-8d1a-5dd28cfba49a",
   "metadata": {},
   "outputs": [],
   "source": [
    "def read_sub_corr(K=int, path=str):\n",
    "    sub_corr = []\n",
    "\n",
    "    for i in range(0, K):\n",
    "        sub_corr.append(genfromtxt(path.format(i), delimiter=','))\n",
    "\n",
    "    sub_corr = np.array(sub_corr)\n",
    "    \n",
    "    return sub_corr"
   ]
  },
  {
   "cell_type": "code",
   "execution_count": null,
   "id": "05a6484c-9045-4b30-830a-afd8ff6d7f97",
   "metadata": {},
   "outputs": [],
   "source": [
    "def plot_solution(solution = np.array, show_output = True, name = str):\n",
    "    \n",
    "    K = solution.shape[0]\n",
    "\n",
    "\n",
    "    for i in range(0, K):\n",
    "        fig, axes = plt.subplots(1, 2, sharex=True, figsize=(30,30))\n",
    "\n",
    "        ax = sns.heatmap(sub_corr[i, :], ax=axes[0], center=0, vmin = -0.5, vmax = 0.5, \n",
    "                         square = True, cbar = False, cmap = \"coolwarm\", xticklabels=False, yticklabels=False)\n",
    "        ax.set_title('Covariance')\n",
    "\n",
    "        ax = sns.heatmap(solution[i, :], ax=axes[1], center=0, vmin = -0.5, vmax = 0.5,\n",
    "                         square = True, cbar = False, cmap = \"coolwarm\", xticklabels=False, yticklabels=False)\n",
    "        ax.set_title('Inverse Covariance')\n",
    "\n",
    "        fig.savefig(\"plots/{0}_heatmap{1}.png\".format(name, i))"
   ]
  },
  {
   "cell_type": "code",
   "execution_count": null,
   "id": "0f0226e2-2860-493f-b5d0-b038f5eb8968",
   "metadata": {},
   "outputs": [],
   "source": [
    "sub_corr_path = \"/storage/groups/bds01/datasets/brains/sub_corr50/sub_corr{0}.csv\"\n",
    "\n",
    "sub_corr = read_sub_corr(K=50, path = sub_corr_path)"
   ]
  },
  {
   "cell_type": "code",
   "execution_count": null,
   "id": "d2e0f8ef-89df-4e86-a208-626b98b3f244",
   "metadata": {},
   "outputs": [],
   "source": [
    "sub_corr.shape"
   ]
  },
  {
   "cell_type": "code",
   "execution_count": null,
   "id": "1a7ea721-7e6f-4d09-a680-9069f501b3ca",
   "metadata": {},
   "outputs": [],
   "source": [
    "start = 0\n",
    "stop = 50\n",
    "\n",
    "sub_corr = []\n",
    "\n",
    "### on premisis\n",
    "for i in range(start, stop):\n",
    "    sub_corr.append(genfromtxt(\"../data/sub_corr50/sub_corr{0}.csv\".format(i), delimiter=','))\n",
    "\n",
    "    \n",
    "sub_corr = np.array(sub_corr)\n",
    "sub_corr.shape"
   ]
  },
  {
   "cell_type": "markdown",
   "id": "93b50d7a-853d-43da-90f2-e48a1b417d03",
   "metadata": {
    "jp-MarkdownHeadingCollapsed": true,
    "tags": []
   },
   "source": [
    "# SGL"
   ]
  },
  {
   "cell_type": "code",
   "execution_count": null,
   "id": "973c609a-037e-4ee8-996d-3c9b7f802b89",
   "metadata": {},
   "outputs": [],
   "source": [
    "N = 436\n",
    "gamma = 0.3\n",
    "\n",
    "lambda1_range = np.logspace(-0.3, -1, 10)\n",
    "\n",
    "est_uniform, est_indv, statistics = K_single_grid(sub_corr, lambda1_range, N,\n",
    "                                                  method = 'eBIC', gamma = gamma, \n",
    "                                                  latent = False, use_block = True)"
   ]
  },
  {
   "cell_type": "code",
   "execution_count": null,
   "id": "e4e1dc15-2d45-44d8-9201-7168eb115498",
   "metadata": {
    "jupyter": {
     "source_hidden": true
    },
    "tags": []
   },
   "outputs": [],
   "source": [
    "plot_solution(solution=est_uniform[\"Theta\"], name=\"SGL\")"
   ]
  },
  {
   "cell_type": "code",
   "execution_count": null,
   "id": "bc76ed6e-2a1c-43a9-89e4-ba9675419278",
   "metadata": {},
   "outputs": [],
   "source": [
    "with open('statistics.txt', 'w') as f:\n",
    "    print(statistics, file=f)"
   ]
  },
  {
   "cell_type": "markdown",
   "id": "2cd1e7bb-2081-459f-9047-f332b1824bcb",
   "metadata": {
    "jupyter": {
     "source_hidden": true
    },
    "tags": []
   },
   "source": [
    "# GGL"
   ]
  },
  {
   "cell_type": "code",
   "execution_count": null,
   "id": "4bcdffd8-c0c7-458b-b723-9caabe50f436",
   "metadata": {},
   "outputs": [],
   "source": [
    "# N = 436\n",
    "N = 50\n",
    "gamma = 0.3\n",
    "\n",
    "lambda1_range = np.logspace(0, -2, 8)\n",
    "lambda2_range = np.logspace(-0.5, -2, 8)"
   ]
  },
  {
   "cell_type": "code",
   "execution_count": null,
   "id": "7a932e3d-03c1-47c8-8aa9-162c732f719d",
   "metadata": {},
   "outputs": [],
   "source": [
    "P_50 = glasso_problem(sub_corr[:50,:], N, reg_params = {'lambda1_range': lambda1_range, 'lambda2_range': lambda2_range}, \n",
    "                      latent = False, do_scaling = False)"
   ]
  },
  {
   "cell_type": "code",
   "execution_count": null,
   "id": "7585a696-840c-40b0-9537-fdb279c07bf1",
   "metadata": {},
   "outputs": [],
   "source": [
    "modelselect_params = {'lambda1_range': lambda1_range, 'lambda2_range': lambda2_range}"
   ]
  },
  {
   "cell_type": "code",
   "execution_count": null,
   "id": "9a5a650a-723b-471c-b372-8fb07ac86c9b",
   "metadata": {},
   "outputs": [],
   "source": [
    "P_50.model_selection(modelselect_params = modelselect_params, method = 'eBIC', gamma = gamma)"
   ]
  },
  {
   "cell_type": "code",
   "execution_count": null,
   "id": "bd90cef4-8212-4355-9f6c-f598e24349e9",
   "metadata": {},
   "outputs": [],
   "source": [
    "sol = P_50.solution.precision_\n",
    "sol.shape"
   ]
  },
  {
   "cell_type": "code",
   "execution_count": null,
   "id": "666c0cd8-a7a1-43d5-a313-adc50187f2a9",
   "metadata": {},
   "outputs": [],
   "source": [
    "K = \"50\"\n",
    "\n",
    "if not os.path.exists(\"../data/est_group{0}/\".format(K)):\n",
    "    os.mkdir(\"../data/est_group{0}/\".format(K))\n",
    "\n",
    "# dump matrices into csv\n",
    "for i in range(start, stop):\n",
    "    np.savetxt(\"../data/est_group{0}/Theta{1}.csv\".format(K, i), sol[i], \n",
    "               delimiter=\",\", header='')\n",
    "    \n",
    "with open(\"../data/group_statistics{0}.txt\".format(K), 'w') as f:\n",
    "    print(P_50.modelselect_stats, file=f)"
   ]
  },
  {
   "cell_type": "code",
   "execution_count": null,
   "id": "7d6da801-b8a0-4145-aea3-925015caa6d5",
   "metadata": {},
   "outputs": [],
   "source": [
    "statistics_50 = P_50.modelselect_stats"
   ]
  },
  {
   "cell_type": "code",
   "execution_count": null,
   "id": "877861d3-a97e-412f-a050-60d85e127aac",
   "metadata": {},
   "outputs": [],
   "source": [
    "statistics_50.keys()"
   ]
  },
  {
   "cell_type": "code",
   "execution_count": null,
   "id": "1aac9392-bba3-4472-bcb4-6bb0b6cf4b02",
   "metadata": {
    "tags": []
   },
   "outputs": [],
   "source": [
    "#plot for GGL\n",
    "fig = surface_plot(statistics_50['L1'], statistics_50['L2'], statistics_50['BIC'][0.7], name = 'eBIC')\n",
    "fig.show()"
   ]
  },
  {
   "cell_type": "code",
   "execution_count": null,
   "id": "878c2d16-86d2-4007-8d91-fc5f9600f2e9",
   "metadata": {
    "jupyter": {
     "source_hidden": true
    },
    "tags": []
   },
   "outputs": [],
   "source": [
    "plot_solution(solution=P_10.solution.precision_, name=\"SGL\")"
   ]
  },
  {
   "cell_type": "code",
   "execution_count": null,
   "id": "51d6e409-d3b1-409a-89b0-0721e9b782cb",
   "metadata": {},
   "outputs": [],
   "source": [
    "with open('new_MGL_statistics.txt', 'w') as f:\n",
    "    print(statistics_10, file=f)"
   ]
  },
  {
   "cell_type": "code",
   "execution_count": null,
   "id": "e2b055fb-e065-48ed-947e-b9ad97c71a2b",
   "metadata": {},
   "outputs": [],
   "source": [
    "N = 436\n",
    "gamma = 0.3\n",
    "\n",
    "lambda1_range = [0.18957357, 0.14677993, 0.11364637]\n",
    "lambda2_range = [0.01, 0.005, 0.001]\n",
    "# lambda2_range = np.logspace(-2, -3, 5)"
   ]
  },
  {
   "cell_type": "code",
   "execution_count": null,
   "id": "749b63be-2b1d-4256-ac50-475ad5210322",
   "metadata": {},
   "outputs": [],
   "source": [
    "P_10v2 = glasso_problem(sub_corr[:9,:], N, reg_params = {'lambda1_range': lambda1_range, 'lambda2_range': lambda2_range}, \n",
    "                      latent = False, do_scaling = False)"
   ]
  },
  {
   "cell_type": "code",
   "execution_count": null,
   "id": "d5dd13e7-6add-428d-bc81-ff5e2e5da166",
   "metadata": {},
   "outputs": [],
   "source": [
    "modelselect_params = {'lambda1_range': lambda1_range, 'lambda2_range': lambda2_range}"
   ]
  },
  {
   "cell_type": "code",
   "execution_count": null,
   "id": "7cecd276-b051-4d43-b172-64149c2c73dc",
   "metadata": {
    "jupyter": {
     "source_hidden": true
    },
    "tags": []
   },
   "outputs": [],
   "source": [
    "P_10v2.model_selection(modelselect_params = modelselect_params, method = 'eBIC', gamma = gamma)"
   ]
  },
  {
   "cell_type": "code",
   "execution_count": null,
   "id": "ea358b35-a84b-41a4-bb1c-5876a84ca299",
   "metadata": {
    "tags": []
   },
   "outputs": [],
   "source": [
    "plot_solution(solution=P_10v2.solution.precision_, name=\"MGL\")"
   ]
  },
  {
   "cell_type": "code",
   "execution_count": null,
   "id": "8b8a7346-4b75-4997-812a-87907415cd32",
   "metadata": {
    "tags": []
   },
   "outputs": [],
   "source": [
    "statistics_10v2 = P_10v2.modelselect_stats\n",
    "statistics_10v2"
   ]
  },
  {
   "cell_type": "code",
   "execution_count": null,
   "id": "64f831fd-5e38-4a56-ae21-8629c059e623",
   "metadata": {},
   "outputs": [],
   "source": [
    "#plot for GGL\n",
    "fig = surface_plot(statistics_10v2['L1'], statistics_10v2['L2'], statistics_10v2['BIC'][0.7], name = 'eBIC')\n",
    "fig.savefig(\"plots/GGL_l1_l2_10v2.png\")"
   ]
  },
  {
   "cell_type": "code",
   "execution_count": null,
   "id": "323e53ea-7fa7-47e8-ac62-db246385a7d8",
   "metadata": {},
   "outputs": [],
   "source": [
    "N = 436\n",
    "gamma = 0.3\n",
    "\n",
    "lambda1_range = [0.18957357, 0.14677993, 0.11364637]\n",
    "lambda2_range = [0.001, 0.0005, 0.0000001]\n",
    "# lambda2_range = np.logspace(-2, -3, 5)"
   ]
  },
  {
   "cell_type": "code",
   "execution_count": null,
   "id": "ecd34d59-37c1-4539-b357-5ec581332ffb",
   "metadata": {},
   "outputs": [],
   "source": [
    "P_10v3 = glasso_problem(sub_corr[:9,:], N, reg_params = {'lambda1_range': lambda1_range, 'lambda2_range': lambda2_range}, \n",
    "                      latent = False, do_scaling = False)"
   ]
  },
  {
   "cell_type": "code",
   "execution_count": null,
   "id": "e4820481-039b-495d-956d-55fa132c8375",
   "metadata": {},
   "outputs": [],
   "source": [
    "modelselect_params = {'lambda1_range': lambda1_range, 'lambda2_range': lambda2_range}"
   ]
  },
  {
   "cell_type": "code",
   "execution_count": null,
   "id": "1f51b07c-23bc-4f9e-b19d-4ae9dad4f6dd",
   "metadata": {
    "tags": []
   },
   "outputs": [],
   "source": [
    "P_10v3.model_selection(modelselect_params = modelselect_params, method = 'eBIC', gamma = gamma)"
   ]
  },
  {
   "cell_type": "code",
   "execution_count": null,
   "id": "77e5e15b-902f-430f-a966-f3dcb3e79ab9",
   "metadata": {
    "tags": []
   },
   "outputs": [],
   "source": [
    "statistics_10v3 = P_10v3.modelselect_stats\n",
    "statistics_10v3"
   ]
  },
  {
   "cell_type": "code",
   "execution_count": null,
   "id": "c9ebdf49-e0bf-461f-9a61-29a1168562d7",
   "metadata": {},
   "outputs": [],
   "source": [
    "#plot for GGL\n",
    "fig = surface_plot(statistics_10v3['L1'], statistics_10v3['L2'], statistics_10v3['BIC'][0.7], name = 'eBIC')\n",
    "fig.savefig(\"plots/GGL_l1_l2_10v3.png\")"
   ]
  }
 ],
 "metadata": {
  "kernelspec": {
   "display_name": "Python 3 (ipykernel)",
   "language": "python",
   "name": "python3"
  },
  "language_info": {
   "codemirror_mode": {
    "name": "ipython",
    "version": 3
   },
   "file_extension": ".py",
   "mimetype": "text/x-python",
   "name": "python",
   "nbconvert_exporter": "python",
   "pygments_lexer": "ipython3",
   "version": "3.9.7"
  }
 },
 "nbformat": 4,
 "nbformat_minor": 5
}
