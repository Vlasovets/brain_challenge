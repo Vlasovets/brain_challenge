{
 "cells": [
  {
   "cell_type": "code",
   "execution_count": 1,
   "id": "animal-pathology",
   "metadata": {},
   "outputs": [],
   "source": [
    "import gglasso"
   ]
  },
  {
   "cell_type": "code",
   "execution_count": 2,
   "id": "regulated-kazakhstan",
   "metadata": {},
   "outputs": [
    {
     "name": "stderr",
     "output_type": "stream",
     "text": [
      "/p/software/juwelsbooster/stages/2020/software/Jupyter/2020.2.6-gcccoremkl-9.3.0-2020.2.254-Python-3.8.5/lib/python3.8/site-packages/statsmodels/tools/_testing.py:19: FutureWarning: pandas.util.testing is deprecated. Use the functions in the public API at pandas.testing instead.\n",
      "  import pandas.util.testing as tm\n"
     ]
    },
    {
     "name": "stdout",
     "output_type": "stream",
     "text": [
      "Shape of empirical covariance matrix:  (20, 20)\n",
      "Shape of the sample array:  (20, 1000)\n"
     ]
    }
   ],
   "source": [
    "from gglasso.helper.data_generation import generate_precision_matrix, group_power_network, sample_covariance_matrix\n",
    "from gglasso.problem import glasso_problem\n",
    "from gglasso.helper.basic_linalg import adjacency_matrix\n",
    "\n",
    "import networkx as nx\n",
    "import numpy as np\n",
    "import matplotlib.pyplot as plt\n",
    "import seaborn as sns\n",
    "\n",
    "p = 20\n",
    "N = 1000\n",
    "\n",
    "Sigma, Theta = generate_precision_matrix(p=p, M=1, style='erdos', prob=0.1, nxseed=1234)\n",
    "\n",
    "S, sample = sample_covariance_matrix(Sigma, N)\n",
    "\n",
    "print(\"Shape of empirical covariance matrix: \", S.shape)\n",
    "print(\"Shape of the sample array: \", sample.shape)"
   ]
  },
  {
   "cell_type": "code",
   "execution_count": 3,
   "id": "pacific-money",
   "metadata": {},
   "outputs": [
    {
     "data": {
      "image/png": "[encoded data removed]",
      "text/plain": [
       "<Figure size 432x288 with 1 Axes>"
      ]
     },
     "metadata": {},
     "output_type": "display_data"
    }
   ],
   "source": [
    "A = adjacency_matrix(Theta)\n",
    "\n",
    "G = nx.from_numpy_array(A)\n",
    "pos = nx.drawing.layout.spring_layout(G, seed = 1234)\n",
    "\n",
    "plt.figure()\n",
    "nx.draw_networkx(G, pos = pos, node_color = \"darkblue\", edge_color = \"darkblue\", font_color = 'white', with_labels = True)\n"
   ]
  },
  {
   "cell_type": "code",
   "execution_count": 4,
   "id": "central-founder",
   "metadata": {},
   "outputs": [
    {
     "name": "stdout",
     "output_type": "stream",
     "text": [
      "NOTE: input data S is rescaled with the diagonal elements, this has impact on the scale of the regularization parameters!\n",
      " \n",
      "SINGLE GRAPHICAL LASSO PROBLEM \n",
      "Regularization parameters:\n",
      "{'lambda1': 0.05, 'mu1': None}\n"
     ]
    }
   ],
   "source": [
    "P = glasso_problem(S, N, reg_params = {'lambda1': 0.05}, latent = False, do_scaling = True)\n",
    "print(P)"
   ]
  },
  {
   "cell_type": "code",
   "execution_count": 5,
   "id": "specialized-miniature",
   "metadata": {},
   "outputs": [
    {
     "name": "stdout",
     "output_type": "stream",
     "text": [
      "ADMM terminated after 13 iterations with status: optimal.\n",
      "ADMM terminated after 10 iterations with status: optimal.\n",
      "ADMM terminated after 10 iterations with status: optimal.\n",
      "ADMM terminated after 26 iterations with status: optimal.\n",
      "ADMM terminated after 11 iterations with status: optimal.\n",
      "ADMM terminated after 26 iterations with status: optimal.\n",
      "ADMM terminated after 11 iterations with status: optimal.\n",
      "ADMM terminated after 10 iterations with status: optimal.\n",
      "ADMM terminated after 25 iterations with status: optimal.\n",
      "ADMM terminated after 10 iterations with status: optimal.\n",
      "ADMM terminated after 11 iterations with status: optimal.\n",
      "ADMM terminated after 10 iterations with status: optimal.\n",
      "ADMM terminated after 25 iterations with status: optimal.\n",
      "ADMM terminated after 9 iterations with status: optimal.\n",
      "ADMM terminated after 10 iterations with status: optimal.\n",
      "ADMM terminated after 9 iterations with status: optimal.\n",
      "ADMM terminated after 24 iterations with status: optimal.\n",
      "ADMM terminated after 9 iterations with status: optimal.\n",
      "ADMM terminated after 28 iterations with status: optimal.\n",
      "ADMM terminated after 24 iterations with status: optimal.\n",
      "ADMM terminated after 26 iterations with status: optimal.\n",
      "ADMM terminated after 9 iterations with status: optimal.\n",
      "ADMM terminated after 28 iterations with status: optimal.\n",
      "ADMM terminated after 26 iterations with status: optimal.\n",
      "ADMM terminated after 22 iterations with status: optimal.\n",
      "ADMM terminated after 9 iterations with status: optimal.\n",
      "ADMM terminated after 27 iterations with status: optimal.\n",
      "ADMM terminated after 27 iterations with status: optimal.\n",
      "ADMM terminated after 22 iterations with status: optimal.\n",
      "ADMM terminated after 9 iterations with status: optimal.\n",
      "ADMM terminated after 27 iterations with status: optimal.\n",
      "ADMM terminated after 28 iterations with status: optimal.\n",
      "ADMM terminated after 26 iterations with status: optimal.\n",
      "ADMM terminated after 24 iterations with status: optimal.\n",
      "ADMM terminated after 31 iterations with status: optimal.\n",
      "ADMM terminated after 27 iterations with status: optimal.\n",
      "ADMM terminated after 25 iterations with status: optimal.\n",
      "ADMM terminated after 23 iterations with status: optimal.\n",
      "ADMM terminated after 32 iterations with status: optimal.\n",
      "ADMM terminated after 22 iterations with status: optimal.\n",
      "ADMM terminated after 27 iterations with status: optimal.\n",
      "ADMM terminated after 25 iterations with status: optimal.\n",
      "ADMM terminated after 33 iterations with status: optimal.\n",
      "ADMM terminated after 26 iterations with status: optimal.\n",
      "ADMM terminated after 25 iterations with status: optimal.\n",
      "ADMM terminated after 33 iterations with status: optimal.\n",
      "ADMM terminated after 27 iterations with status: optimal.\n",
      "ADMM terminated after 24 iterations with status: optimal.\n",
      "ADMM terminated after 11 iterations with status: optimal.\n",
      "ADMM terminated after 32 iterations with status: optimal.\n",
      "ADMM terminated after 28 iterations with status: optimal.\n",
      "ADMM terminated after 24 iterations with status: optimal.\n",
      "ADMM terminated after 10 iterations with status: optimal.\n",
      "ADMM terminated after 32 iterations with status: optimal.\n",
      "ADMM terminated after 33 iterations with status: optimal.\n",
      "ADMM terminated after 25 iterations with status: optimal.\n",
      "ADMM terminated after 9 iterations with status: optimal.\n",
      "ADMM terminated after 32 iterations with status: optimal.\n",
      "ADMM terminated after 36 iterations with status: optimal.\n",
      "ADMM terminated after 26 iterations with status: optimal.\n",
      "ADMM terminated after 8 iterations with status: optimal.\n",
      "ADMM terminated after 33 iterations with status: optimal.\n",
      "ADMM terminated after 27 iterations with status: optimal.\n",
      "ADMM terminated after 8 iterations with status: optimal.\n",
      "ADMM terminated after 34 iterations with status: optimal.\n",
      "ADMM terminated after 27 iterations with status: optimal.\n",
      "ADMM terminated after 8 iterations with status: optimal.\n",
      "ADMM terminated after 34 iterations with status: optimal.\n",
      "ADMM terminated after 27 iterations with status: optimal.\n",
      "ADMM terminated after 8 iterations with status: optimal.\n",
      "{'lambda1': 0.1, 'mu1': 0}\n"
     ]
    }
   ],
   "source": [
    "lambda1_range = np.logspace(0, -1, 30)\n",
    "modelselect_params = {'lambda1_range': lambda1_range}\n",
    "\n",
    "P.model_selection(modelselect_params = modelselect_params, method = 'eBIC', gamma = 0.25)\n",
    "\n",
    "# regularization parameters are set to the best ones found during model selection\n",
    "print(P.reg_params)\n"
   ]
  },
  {
   "cell_type": "code",
   "execution_count": 6,
   "id": "helpful-translation",
   "metadata": {},
   "outputs": [
    {
     "data": {
      "text/plain": [
       "Text(0.5, 1.0, 'Recovered precision matrix')"
      ]
     },
     "execution_count": 6,
     "metadata": {},
     "output_type": "execute_result"
    },
    {
     "data": {
      "image/png": "[encoded data removed]",
      "text/plain": [
       "<Figure size 720x576 with 4 Axes>"
      ]
     },
     "metadata": {
      "needs_background": "light"
     },
     "output_type": "display_data"
    }
   ],
   "source": [
    "#tmp = P.modelselect_stats\n",
    "sol = P.solution.precision_\n",
    "P.solution.calc_adjacency(t = 1e-4)\n",
    "\n",
    "\n",
    "fig, axs = plt.subplots(2,2, figsize=(10,8))\n",
    "node_size = 100\n",
    "font_size = 9\n",
    "\n",
    "\n",
    "sns.heatmap(Theta, cmap = \"coolwarm\", vmin = -0.5, vmax = 0.5, linewidth = .5, square = True, cbar = False, \\\n",
    "            xticklabels = [], yticklabels = [], ax = axs[1,0])\n",
    "axs[1,0].set_title(\"True precision matrix\")\n",
    "\n",
    "sns.heatmap(sol, cmap = \"coolwarm\", vmin = -0.5, vmax = 0.5, linewidth = .5, square = True, cbar = False, \\\n",
    "            xticklabels = [], yticklabels = [], ax = axs[1,1])\n",
    "axs[1,1].set_title(\"Recovered precision matrix\")"
   ]
  },
  {
   "cell_type": "code",
   "execution_count": 8,
   "id": "secure-satellite",
   "metadata": {},
   "outputs": [],
   "source": [
    "import gglasso\n",
    "import numpy as np\n",
    "import pandas as pd\n",
    "import joblib\n",
    "import seaborn as sns\n",
    "import matplotlib.pyplot as plt\n",
    "\n",
    "from gglasso.solver.admm_solver import ADMM_MGL\n",
    "from gglasso.problem import glasso_problem\n",
    "\n",
    "from gglasso.helper.data_generation import generate_precision_matrix, group_power_network, sample_covariance_matrix\n",
    "from gglasso.helper.basic_linalg import adjacency_matrix\n",
    "from gglasso.helper.data_generation import time_varying_power_network, sample_covariance_matrix\n",
    "from gglasso.helper.experiment_helper import lambda_grid, discovery_rate, error\n",
    "from gglasso.helper.utils import get_K_identity\n",
    "from gglasso.helper.experiment_helper import plot_evolution, plot_deviation, surface_plot, single_heatmap_animation\n",
    "from gglasso.helper.model_selection import aic, ebic"
   ]
  },
  {
   "cell_type": "code",
   "execution_count": null,
   "id": "final-innocent",
   "metadata": {},
   "outputs": [],
   "source": [
    "# new = []\n",
    "\n",
    "# for i in range(0,5):\n",
    "#     a = test[i,:]\n",
    "#     np.fill_diagonal(a, 1)\n",
    "#     new.append(a)\n",
    "# new = np.array(new)"
   ]
  },
  {
   "cell_type": "code",
   "execution_count": 29,
   "id": "respiratory-sphere",
   "metadata": {},
   "outputs": [],
   "source": [
    "# np.linalg.cholesky(S)"
   ]
  },
  {
   "cell_type": "markdown",
   "id": "basic-store",
   "metadata": {},
   "source": [
    "Check if the matrix is positive semidefinitive"
   ]
  },
  {
   "cell_type": "code",
   "execution_count": 33,
   "id": "daily-wheat",
   "metadata": {},
   "outputs": [],
   "source": [
    "df = pd.read_csv(\"train.csv\", sep=\",\")"
   ]
  },
  {
   "cell_type": "code",
   "execution_count": 37,
   "id": "valuable-testing",
   "metadata": {},
   "outputs": [
    {
     "data": {
      "text/plain": [
       "((751,), (751,))"
      ]
     },
     "execution_count": 37,
     "metadata": {},
     "output_type": "execute_result"
    }
   ],
   "source": [
    "age, sex  = df['age'], df['sex_f0_m1']\n",
    "age.shape, sex.shape"
   ]
  },
  {
   "cell_type": "code",
   "execution_count": 38,
   "id": "studied-skating",
   "metadata": {},
   "outputs": [],
   "source": [
    "lambda1_range = np.logspace(0.5,-1.5,8)\n",
    "mu1_range = np.logspace(1.5,-0.2,6)"
   ]
  },
  {
   "cell_type": "code",
   "execution_count": 39,
   "id": "living-blind",
   "metadata": {},
   "outputs": [
    {
     "data": {
      "text/plain": [
       "array([31.6227766 , 14.45439771,  6.60693448,  3.01995172,  1.38038426,\n",
       "        0.63095734])"
      ]
     },
     "execution_count": 39,
     "metadata": {},
     "output_type": "execute_result"
    }
   ],
   "source": [
    "mu1_range"
   ]
  },
  {
   "cell_type": "code",
   "execution_count": 40,
   "id": "future-thinking",
   "metadata": {},
   "outputs": [
    {
     "data": {
      "text/plain": [
       "array([3.16227766, 1.63789371, 0.8483429 , 0.43939706, 0.22758459,\n",
       "       0.11787686, 0.06105402, 0.03162278])"
      ]
     },
     "execution_count": 40,
     "metadata": {},
     "output_type": "execute_result"
    }
   ],
   "source": [
    "lambda1_range"
   ]
  },
  {
   "cell_type": "code",
   "execution_count": null,
   "id": "bacterial-dispute",
   "metadata": {},
   "outputs": [],
   "source": []
  }
 ],
 "metadata": {
  "kernelspec": {
   "display_name": "sc_venv_template",
   "language": "python",
   "name": "sc_venv_template"
  },
  "language_info": {
   "codemirror_mode": {
    "name": "ipython",
    "version": 3
   },
   "file_extension": ".py",
   "mimetype": "text/x-python",
   "name": "python",
   "nbconvert_exporter": "python",
   "pygments_lexer": "ipython3",
   "version": "3.8.5"
  }
 },
 "nbformat": 4,
 "nbformat_minor": 5
}
